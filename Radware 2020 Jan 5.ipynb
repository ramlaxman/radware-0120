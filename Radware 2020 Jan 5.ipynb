{
 "cells": [
  {
   "cell_type": "code",
   "execution_count": 1,
   "metadata": {},
   "outputs": [],
   "source": [
    "def hello(name):\n",
    "    return f'Hello, {name}'"
   ]
  },
  {
   "cell_type": "code",
   "execution_count": 2,
   "metadata": {},
   "outputs": [
    {
     "data": {
      "text/plain": [
       "'Hello, world'"
      ]
     },
     "execution_count": 2,
     "metadata": {},
     "output_type": "execute_result"
    }
   ],
   "source": [
    "hello('world')"
   ]
  },
  {
   "cell_type": "code",
   "execution_count": 4,
   "metadata": {},
   "outputs": [
    {
     "data": {
      "text/plain": [
       "'Hello, radware!!!!'"
      ]
     },
     "execution_count": 4,
     "metadata": {},
     "output_type": "execute_result"
    }
   ],
   "source": [
    "hello('radware!!!!')"
   ]
  },
  {
   "cell_type": "code",
   "execution_count": 5,
   "metadata": {},
   "outputs": [],
   "source": [
    "# github.com/reuven/radware-0120"
   ]
  },
  {
   "cell_type": "code",
   "execution_count": 7,
   "metadata": {
    "scrolled": true
   },
   "outputs": [
    {
     "name": "stdout",
     "output_type": "stream",
     "text": [
      "abc\n",
      "def\n",
      "ghi!!\n"
     ]
    }
   ],
   "source": [
    "print('abc')   # enter == newline\n",
    "print('def')   # enter == newline\n",
    "print('ghi!!')  # shift + enter == execute the cell"
   ]
  },
  {
   "cell_type": "code",
   "execution_count": 7,
   "metadata": {
    "scrolled": true
   },
   "outputs": [
    {
     "name": "stdout",
     "output_type": "stream",
     "text": [
      "abc\n",
      "def\n",
      "ghi!!\n"
     ]
    }
   ],
   "source": [
    "print('abc')   # enter == newline\n",
    "print('def')   # enter == newline\n",
    "print('ghi!!')  # shift + enter == execute the cell"
   ]
  },
  {
   "cell_type": "code",
   "execution_count": null,
   "metadata": {},
   "outputs": [],
   "source": [
    "pip3 install jupyter\n",
    "jupyter notebook"
   ]
  },
  {
   "cell_type": "code",
   "execution_count": 8,
   "metadata": {},
   "outputs": [
    {
     "data": {
      "text/plain": [
       "True"
      ]
     },
     "execution_count": 8,
     "metadata": {},
     "output_type": "execute_result"
    }
   ],
   "source": [
    "x = 100\n",
    "y = 100\n",
    "\n",
    "x == y"
   ]
  },
  {
   "cell_type": "code",
   "execution_count": 9,
   "metadata": {},
   "outputs": [
    {
     "data": {
      "text/plain": [
       "True"
      ]
     },
     "execution_count": 9,
     "metadata": {},
     "output_type": "execute_result"
    }
   ],
   "source": [
    "x is y"
   ]
  },
  {
   "cell_type": "code",
   "execution_count": 10,
   "metadata": {},
   "outputs": [
    {
     "data": {
      "text/plain": [
       "True"
      ]
     },
     "execution_count": 10,
     "metadata": {},
     "output_type": "execute_result"
    }
   ],
   "source": [
    "x = 1000\n",
    "y = 1000\n",
    "\n",
    "x == y"
   ]
  },
  {
   "cell_type": "code",
   "execution_count": 11,
   "metadata": {},
   "outputs": [
    {
     "data": {
      "text/plain": [
       "False"
      ]
     },
     "execution_count": 11,
     "metadata": {},
     "output_type": "execute_result"
    }
   ],
   "source": [
    "x is y"
   ]
  },
  {
   "cell_type": "code",
   "execution_count": 12,
   "metadata": {},
   "outputs": [
    {
     "data": {
      "text/plain": [
       "4618916784"
      ]
     },
     "execution_count": 12,
     "metadata": {},
     "output_type": "execute_result"
    }
   ],
   "source": [
    "id(x)"
   ]
  },
  {
   "cell_type": "code",
   "execution_count": 13,
   "metadata": {},
   "outputs": [
    {
     "data": {
      "text/plain": [
       "4618916624"
      ]
     },
     "execution_count": 13,
     "metadata": {},
     "output_type": "execute_result"
    }
   ],
   "source": [
    "id(y)"
   ]
  },
  {
   "cell_type": "code",
   "execution_count": 14,
   "metadata": {},
   "outputs": [
    {
     "data": {
      "text/plain": [
       "False"
      ]
     },
     "execution_count": 14,
     "metadata": {},
     "output_type": "execute_result"
    }
   ],
   "source": [
    "x is y   # id(x) == id(y)"
   ]
  },
  {
   "cell_type": "code",
   "execution_count": 15,
   "metadata": {},
   "outputs": [
    {
     "data": {
      "text/plain": [
       "4563752960"
      ]
     },
     "execution_count": 15,
     "metadata": {},
     "output_type": "execute_result"
    }
   ],
   "source": [
    "id(100)"
   ]
  },
  {
   "cell_type": "code",
   "execution_count": 16,
   "metadata": {},
   "outputs": [
    {
     "data": {
      "text/plain": [
       "4563752992"
      ]
     },
     "execution_count": 16,
     "metadata": {},
     "output_type": "execute_result"
    }
   ],
   "source": [
    "id(101)"
   ]
  },
  {
   "cell_type": "code",
   "execution_count": 17,
   "metadata": {},
   "outputs": [
    {
     "data": {
      "text/plain": [
       "4563753024"
      ]
     },
     "execution_count": 17,
     "metadata": {},
     "output_type": "execute_result"
    }
   ],
   "source": [
    "id(102)"
   ]
  },
  {
   "cell_type": "code",
   "execution_count": 18,
   "metadata": {},
   "outputs": [
    {
     "data": {
      "text/plain": [
       "4618916784"
      ]
     },
     "execution_count": 18,
     "metadata": {},
     "output_type": "execute_result"
    }
   ],
   "source": [
    "id(x)"
   ]
  },
  {
   "cell_type": "code",
   "execution_count": 19,
   "metadata": {},
   "outputs": [
    {
     "data": {
      "text/plain": [
       "4563752960"
      ]
     },
     "execution_count": 19,
     "metadata": {},
     "output_type": "execute_result"
    }
   ],
   "source": [
    "x = 100\n",
    "id(x)"
   ]
  },
  {
   "cell_type": "code",
   "execution_count": 20,
   "metadata": {},
   "outputs": [
    {
     "data": {
      "text/plain": [
       "4563752960"
      ]
     },
     "execution_count": 20,
     "metadata": {},
     "output_type": "execute_result"
    }
   ],
   "source": [
    "id(100)"
   ]
  },
  {
   "cell_type": "code",
   "execution_count": 21,
   "metadata": {},
   "outputs": [
    {
     "data": {
      "text/plain": [
       "False"
      ]
     },
     "execution_count": 21,
     "metadata": {},
     "output_type": "execute_result"
    }
   ],
   "source": [
    "x = 1000\n",
    "y = 1000\n",
    "\n",
    "x is y"
   ]
  },
  {
   "cell_type": "code",
   "execution_count": 22,
   "metadata": {},
   "outputs": [],
   "source": [
    "x = 'abcd'\n",
    "y = 'abcd'"
   ]
  },
  {
   "cell_type": "code",
   "execution_count": 23,
   "metadata": {},
   "outputs": [
    {
     "data": {
      "text/plain": [
       "True"
      ]
     },
     "execution_count": 23,
     "metadata": {},
     "output_type": "execute_result"
    }
   ],
   "source": [
    "x == y"
   ]
  },
  {
   "cell_type": "code",
   "execution_count": 24,
   "metadata": {},
   "outputs": [
    {
     "data": {
      "text/plain": [
       "True"
      ]
     },
     "execution_count": 24,
     "metadata": {},
     "output_type": "execute_result"
    }
   ],
   "source": [
    "x is y"
   ]
  },
  {
   "cell_type": "code",
   "execution_count": 25,
   "metadata": {},
   "outputs": [
    {
     "data": {
      "text/plain": [
       "True"
      ]
     },
     "execution_count": 25,
     "metadata": {},
     "output_type": "execute_result"
    }
   ],
   "source": [
    "x = 'abc!'\n",
    "y = 'abc!'\n",
    "\n",
    "x == y"
   ]
  },
  {
   "cell_type": "code",
   "execution_count": 26,
   "metadata": {},
   "outputs": [
    {
     "data": {
      "text/plain": [
       "False"
      ]
     },
     "execution_count": 26,
     "metadata": {},
     "output_type": "execute_result"
    }
   ],
   "source": [
    "x is y"
   ]
  },
  {
   "cell_type": "code",
   "execution_count": 27,
   "metadata": {},
   "outputs": [],
   "source": [
    "x = 'a' * 100000\n",
    "y = 'a' * 100000"
   ]
  },
  {
   "cell_type": "code",
   "execution_count": 28,
   "metadata": {},
   "outputs": [
    {
     "data": {
      "text/plain": [
       "True"
      ]
     },
     "execution_count": 28,
     "metadata": {},
     "output_type": "execute_result"
    }
   ],
   "source": [
    "x == y"
   ]
  },
  {
   "cell_type": "code",
   "execution_count": 29,
   "metadata": {},
   "outputs": [
    {
     "data": {
      "text/plain": [
       "False"
      ]
     },
     "execution_count": 29,
     "metadata": {},
     "output_type": "execute_result"
    }
   ],
   "source": [
    "x is y"
   ]
  },
  {
   "cell_type": "code",
   "execution_count": 30,
   "metadata": {},
   "outputs": [],
   "source": [
    "x = 'abcd'"
   ]
  },
  {
   "cell_type": "code",
   "execution_count": 31,
   "metadata": {},
   "outputs": [],
   "source": [
    "y = 'abcd'"
   ]
  },
  {
   "cell_type": "code",
   "execution_count": 32,
   "metadata": {},
   "outputs": [
    {
     "data": {
      "text/plain": [
       "True"
      ]
     },
     "execution_count": 32,
     "metadata": {},
     "output_type": "execute_result"
    }
   ],
   "source": [
    "x is y"
   ]
  },
  {
   "cell_type": "code",
   "execution_count": 33,
   "metadata": {},
   "outputs": [],
   "source": [
    "x = 'ab d'\n",
    "y = 'ab d'"
   ]
  },
  {
   "cell_type": "code",
   "execution_count": 34,
   "metadata": {},
   "outputs": [
    {
     "data": {
      "text/plain": [
       "True"
      ]
     },
     "execution_count": 34,
     "metadata": {},
     "output_type": "execute_result"
    }
   ],
   "source": [
    "x == y"
   ]
  },
  {
   "cell_type": "code",
   "execution_count": 35,
   "metadata": {},
   "outputs": [
    {
     "data": {
      "text/plain": [
       "False"
      ]
     },
     "execution_count": 35,
     "metadata": {},
     "output_type": "execute_result"
    }
   ],
   "source": [
    "x is y"
   ]
  },
  {
   "cell_type": "code",
   "execution_count": 37,
   "metadata": {},
   "outputs": [],
   "source": [
    "import sys\n",
    "x = sys.intern('ab d')\n",
    "y = sys.intern('ab d')\n"
   ]
  },
  {
   "cell_type": "code",
   "execution_count": 38,
   "metadata": {},
   "outputs": [
    {
     "data": {
      "text/plain": [
       "True"
      ]
     },
     "execution_count": 38,
     "metadata": {},
     "output_type": "execute_result"
    }
   ],
   "source": [
    "x is y"
   ]
  },
  {
   "cell_type": "code",
   "execution_count": 39,
   "metadata": {},
   "outputs": [
    {
     "data": {
      "text/plain": [
       "True"
      ]
     },
     "execution_count": 39,
     "metadata": {},
     "output_type": "execute_result"
    }
   ],
   "source": [
    "x = y\n",
    "x is y"
   ]
  },
  {
   "cell_type": "code",
   "execution_count": 40,
   "metadata": {},
   "outputs": [
    {
     "data": {
      "text/plain": [
       "100"
      ]
     },
     "execution_count": 40,
     "metadata": {},
     "output_type": "execute_result"
    }
   ],
   "source": [
    "x = 100\n",
    "y = x\n",
    "\n",
    "x = 200\n",
    "y"
   ]
  },
  {
   "cell_type": "code",
   "execution_count": 41,
   "metadata": {},
   "outputs": [
    {
     "data": {
      "text/plain": [
       "{'a': 1, 'b': 2, 'c': 3}"
      ]
     },
     "execution_count": 41,
     "metadata": {},
     "output_type": "execute_result"
    }
   ],
   "source": [
    "x = {'a':1, 'b':2, 'c':3}\n",
    "y = x\n",
    "\n",
    "x = {'x':100, 'y':200}\n",
    "y"
   ]
  },
  {
   "cell_type": "code",
   "execution_count": 42,
   "metadata": {},
   "outputs": [
    {
     "data": {
      "text/plain": [
       "{'a': 1, 'b': 2, 'c': 3, 'd': 4000}"
      ]
     },
     "execution_count": 42,
     "metadata": {},
     "output_type": "execute_result"
    }
   ],
   "source": [
    "x = {'a':1, 'b':2, 'c':3}\n",
    "y = x\n",
    "\n",
    "x['d'] = 4000\n",
    "y"
   ]
  },
  {
   "cell_type": "code",
   "execution_count": 43,
   "metadata": {},
   "outputs": [
    {
     "name": "stdout",
     "output_type": "stream",
     "text": [
      "Hello, Reuven Lerner.  How are you?\n"
     ]
    }
   ],
   "source": [
    "first = 'Reuven'\n",
    "last = 'Lerner'\n",
    "\n",
    "print(\"Hello, \" + first + \" \" + last + '.  How are you?')"
   ]
  },
  {
   "cell_type": "code",
   "execution_count": 44,
   "metadata": {},
   "outputs": [
    {
     "name": "stdout",
     "output_type": "stream",
     "text": [
      "Hello, Reuven Lerner.  How are you?\n"
     ]
    }
   ],
   "source": [
    "print(f'Hello, {first} {last}.  How are you?')"
   ]
  },
  {
   "cell_type": "code",
   "execution_count": null,
   "metadata": {},
   "outputs": [],
   "source": [
    "f'{x=} and {y=}   # x = 100 and y = 200"
   ]
  },
  {
   "cell_type": "code",
   "execution_count": 46,
   "metadata": {},
   "outputs": [
    {
     "name": "stdout",
     "output_type": "stream",
     "text": [
      "Reuven, your number is 100\n"
     ]
    }
   ],
   "source": [
    "number = 100\n",
    "\n",
    "print(f'{first}, your number is {number}')"
   ]
  },
  {
   "cell_type": "code",
   "execution_count": 47,
   "metadata": {},
   "outputs": [
    {
     "name": "stdout",
     "output_type": "stream",
     "text": [
      "Reuven, your number * 3 is 300\n"
     ]
    }
   ],
   "source": [
    "print(f'{first}, your number * 3 is {number*3}')"
   ]
  },
  {
   "cell_type": "code",
   "execution_count": 49,
   "metadata": {},
   "outputs": [
    {
     "data": {
      "text/plain": [
       "True"
      ]
     },
     "execution_count": 49,
     "metadata": {},
     "output_type": "execute_result"
    }
   ],
   "source": [
    "mylist = [10, 20, 30, 40, 50]\n",
    "\n",
    "30 in mylist   # O(n)"
   ]
  },
  {
   "cell_type": "code",
   "execution_count": 50,
   "metadata": {},
   "outputs": [
    {
     "ename": "TypeError",
     "evalue": "argument of type 'int' is not iterable",
     "output_type": "error",
     "traceback": [
      "\u001b[0;31m---------------------------------------------------------------------------\u001b[0m",
      "\u001b[0;31mTypeError\u001b[0m                                 Traceback (most recent call last)",
      "\u001b[0;32m<ipython-input-50-6dc94987d1ac>\u001b[0m in \u001b[0;36m<module>\u001b[0;34m\u001b[0m\n\u001b[0;32m----> 1\u001b[0;31m \u001b[0;36m30\u001b[0m \u001b[0;32min\u001b[0m \u001b[0;36m100\u001b[0m\u001b[0;34m\u001b[0m\u001b[0;34m\u001b[0m\u001b[0m\n\u001b[0m",
      "\u001b[0;31mTypeError\u001b[0m: argument of type 'int' is not iterable"
     ]
    }
   ],
   "source": [
    "30 in 100"
   ]
  },
  {
   "cell_type": "code",
   "execution_count": 51,
   "metadata": {},
   "outputs": [
    {
     "data": {
      "text/plain": [
       "True"
      ]
     },
     "execution_count": 51,
     "metadata": {},
     "output_type": "execute_result"
    }
   ],
   "source": [
    "d = {'a':1, 'b':2, 'c':3, 'd':4}\n",
    "\n",
    "'c' in d   # O(1)"
   ]
  },
  {
   "cell_type": "code",
   "execution_count": 52,
   "metadata": {},
   "outputs": [],
   "source": [
    "d = {}\n",
    "d['a'] = 1  "
   ]
  },
  {
   "cell_type": "code",
   "execution_count": 54,
   "metadata": {},
   "outputs": [
    {
     "data": {
      "text/plain": [
       "1"
      ]
     },
     "execution_count": 54,
     "metadata": {},
     "output_type": "execute_result"
    }
   ],
   "source": [
    "hash('a') % 8"
   ]
  },
  {
   "cell_type": "code",
   "execution_count": 55,
   "metadata": {},
   "outputs": [
    {
     "data": {
      "text/plain": [
       "1"
      ]
     },
     "execution_count": 55,
     "metadata": {},
     "output_type": "execute_result"
    }
   ],
   "source": [
    "d['b'] = 2\n",
    "hash('b') % 8"
   ]
  },
  {
   "cell_type": "code",
   "execution_count": 56,
   "metadata": {},
   "outputs": [],
   "source": [
    "d = {}"
   ]
  },
  {
   "cell_type": "code",
   "execution_count": 57,
   "metadata": {},
   "outputs": [],
   "source": [
    "d['a'] = 1"
   ]
  },
  {
   "cell_type": "code",
   "execution_count": 58,
   "metadata": {},
   "outputs": [
    {
     "data": {
      "text/plain": [
       "1"
      ]
     },
     "execution_count": 58,
     "metadata": {},
     "output_type": "execute_result"
    }
   ],
   "source": [
    "hash('a') % 8"
   ]
  },
  {
   "cell_type": "code",
   "execution_count": 59,
   "metadata": {},
   "outputs": [
    {
     "data": {
      "text/plain": [
       "True"
      ]
     },
     "execution_count": 59,
     "metadata": {},
     "output_type": "execute_result"
    }
   ],
   "source": [
    "'a' in d"
   ]
  },
  {
   "cell_type": "code",
   "execution_count": 60,
   "metadata": {},
   "outputs": [
    {
     "data": {
      "text/plain": [
       "2"
      ]
     },
     "execution_count": 60,
     "metadata": {},
     "output_type": "execute_result"
    }
   ],
   "source": [
    "d['x'] = 2\n",
    "hash('x') % 8"
   ]
  },
  {
   "cell_type": "code",
   "execution_count": 61,
   "metadata": {},
   "outputs": [
    {
     "data": {
      "text/plain": [
       "1"
      ]
     },
     "execution_count": 61,
     "metadata": {},
     "output_type": "execute_result"
    }
   ],
   "source": [
    "d.pop('a')"
   ]
  },
  {
   "cell_type": "code",
   "execution_count": 62,
   "metadata": {},
   "outputs": [
    {
     "data": {
      "text/plain": [
       "dict_keys(['x', 'a'])"
      ]
     },
     "execution_count": 62,
     "metadata": {},
     "output_type": "execute_result"
    }
   ],
   "source": [
    "d['a'] = 999\n",
    "d.keys()"
   ]
  },
  {
   "cell_type": "code",
   "execution_count": 63,
   "metadata": {},
   "outputs": [
    {
     "ename": "TypeError",
     "evalue": "unhashable type: 'list'",
     "output_type": "error",
     "traceback": [
      "\u001b[0;31m---------------------------------------------------------------------------\u001b[0m",
      "\u001b[0;31mTypeError\u001b[0m                                 Traceback (most recent call last)",
      "\u001b[0;32m<ipython-input-63-a881beade6c9>\u001b[0m in \u001b[0;36m<module>\u001b[0;34m\u001b[0m\n\u001b[0;32m----> 1\u001b[0;31m \u001b[0md\u001b[0m\u001b[0;34m[\u001b[0m\u001b[0mmylist\u001b[0m\u001b[0;34m]\u001b[0m \u001b[0;34m=\u001b[0m \u001b[0;36m100\u001b[0m\u001b[0;34m\u001b[0m\u001b[0;34m\u001b[0m\u001b[0m\n\u001b[0m",
      "\u001b[0;31mTypeError\u001b[0m: unhashable type: 'list'"
     ]
    }
   ],
   "source": [
    "d[mylist] = 100"
   ]
  },
  {
   "cell_type": "code",
   "execution_count": 64,
   "metadata": {},
   "outputs": [],
   "source": [
    "# github.com/reuven/radware-0120"
   ]
  },
  {
   "cell_type": "code",
   "execution_count": null,
   "metadata": {},
   "outputs": [],
   "source": [
    "d = {'a':1, 'b':2, 'c':3}\n",
    "\n",
    "while True:\n",
    "    key = input(\"Enter key: \").strip()\n",
    "\n",
    "    if not key:    #  if key == ''\n",
    "        break\n",
    "        \n",
    "    elif key in d:\n",
    "        print(f'd[{key}] == {d[key]}')\n",
    "        \n",
    "    else:\n",
    "        print(f'{key} is not a key in d')"
   ]
  },
  {
   "cell_type": "code",
   "execution_count": 65,
   "metadata": {},
   "outputs": [
    {
     "data": {
      "text/plain": [
       "True"
      ]
     },
     "execution_count": 65,
     "metadata": {},
     "output_type": "execute_result"
    }
   ],
   "source": [
    "bool('abcd')"
   ]
  },
  {
   "cell_type": "code",
   "execution_count": 66,
   "metadata": {},
   "outputs": [
    {
     "data": {
      "text/plain": [
       "False"
      ]
     },
     "execution_count": 66,
     "metadata": {},
     "output_type": "execute_result"
    }
   ],
   "source": [
    "bool('')"
   ]
  },
  {
   "cell_type": "code",
   "execution_count": 67,
   "metadata": {},
   "outputs": [
    {
     "data": {
      "text/plain": [
       "123"
      ]
     },
     "execution_count": 67,
     "metadata": {},
     "output_type": "execute_result"
    }
   ],
   "source": [
    "int('123')"
   ]
  },
  {
   "cell_type": "code",
   "execution_count": 68,
   "metadata": {},
   "outputs": [
    {
     "data": {
      "text/plain": [
       "123.0"
      ]
     },
     "execution_count": 68,
     "metadata": {},
     "output_type": "execute_result"
    }
   ],
   "source": [
    "float('123')"
   ]
  },
  {
   "cell_type": "code",
   "execution_count": 69,
   "metadata": {},
   "outputs": [
    {
     "data": {
      "text/plain": [
       "True"
      ]
     },
     "execution_count": 69,
     "metadata": {},
     "output_type": "execute_result"
    }
   ],
   "source": [
    "bool([10, 20, 30])"
   ]
  },
  {
   "cell_type": "code",
   "execution_count": 70,
   "metadata": {},
   "outputs": [
    {
     "data": {
      "text/plain": [
       "False"
      ]
     },
     "execution_count": 70,
     "metadata": {},
     "output_type": "execute_result"
    }
   ],
   "source": [
    "bool([])"
   ]
  },
  {
   "cell_type": "code",
   "execution_count": 71,
   "metadata": {},
   "outputs": [
    {
     "data": {
      "text/plain": [
       "True"
      ]
     },
     "execution_count": 71,
     "metadata": {},
     "output_type": "execute_result"
    }
   ],
   "source": [
    "bool(d)"
   ]
  },
  {
   "cell_type": "code",
   "execution_count": 72,
   "metadata": {},
   "outputs": [
    {
     "data": {
      "text/plain": [
       "False"
      ]
     },
     "execution_count": 72,
     "metadata": {},
     "output_type": "execute_result"
    }
   ],
   "source": [
    "bool({})"
   ]
  },
  {
   "cell_type": "code",
   "execution_count": 73,
   "metadata": {},
   "outputs": [
    {
     "ename": "SyntaxError",
     "evalue": "invalid syntax (<ipython-input-73-5b7562354d36>, line 3)",
     "output_type": "error",
     "traceback": [
      "\u001b[0;36m  File \u001b[0;32m\"<ipython-input-73-5b7562354d36>\"\u001b[0;36m, line \u001b[0;32m3\u001b[0m\n\u001b[0;31m    while key = input(\"Enter key: \").strip():\u001b[0m\n\u001b[0m              ^\u001b[0m\n\u001b[0;31mSyntaxError\u001b[0m\u001b[0;31m:\u001b[0m invalid syntax\n"
     ]
    }
   ],
   "source": [
    "d = {'a':1, 'b':2, 'c':3}\n",
    "\n",
    "# assignment expression\n",
    "# walrus \n",
    "\n",
    "while key := input(\"Enter key: \").strip():\n",
    "\n",
    "    if key in d:\n",
    "        print(f'd[{key}] == {d[key]}')\n",
    "        \n",
    "    else:\n",
    "        print(f'{key} is not a key in d')"
   ]
  },
  {
   "cell_type": "code",
   "execution_count": 74,
   "metadata": {},
   "outputs": [
    {
     "data": {
      "text/plain": [
       "{'x': 2, 'a': 999}"
      ]
     },
     "execution_count": 74,
     "metadata": {},
     "output_type": "execute_result"
    }
   ],
   "source": [
    "d"
   ]
  },
  {
   "cell_type": "code",
   "execution_count": 76,
   "metadata": {},
   "outputs": [],
   "source": [
    "d.get('q') # if 'q' in d, d['q'] else None"
   ]
  },
  {
   "cell_type": "code",
   "execution_count": 77,
   "metadata": {},
   "outputs": [
    {
     "data": {
      "text/plain": [
       "'abcd'"
      ]
     },
     "execution_count": 77,
     "metadata": {},
     "output_type": "execute_result"
    }
   ],
   "source": [
    "d.get('q', 'abcd') # if 'q' in d, d['q'] else 'abcd'"
   ]
  },
  {
   "cell_type": "code",
   "execution_count": 78,
   "metadata": {},
   "outputs": [
    {
     "data": {
      "text/plain": [
       "{'x': 2, 'a': 999}"
      ]
     },
     "execution_count": 78,
     "metadata": {},
     "output_type": "execute_result"
    }
   ],
   "source": [
    "d"
   ]
  },
  {
   "cell_type": "code",
   "execution_count": 79,
   "metadata": {},
   "outputs": [
    {
     "data": {
      "text/plain": [
       "100"
      ]
     },
     "execution_count": 79,
     "metadata": {},
     "output_type": "execute_result"
    }
   ],
   "source": [
    "d.setdefault('q', 100)"
   ]
  },
  {
   "cell_type": "code",
   "execution_count": 80,
   "metadata": {},
   "outputs": [
    {
     "data": {
      "text/plain": [
       "{'x': 2, 'a': 999, 'q': 100}"
      ]
     },
     "execution_count": 80,
     "metadata": {},
     "output_type": "execute_result"
    }
   ],
   "source": [
    "d"
   ]
  },
  {
   "cell_type": "code",
   "execution_count": 83,
   "metadata": {},
   "outputs": [
    {
     "data": {
      "text/plain": [
       "100"
      ]
     },
     "execution_count": 83,
     "metadata": {},
     "output_type": "execute_result"
    }
   ],
   "source": [
    "d = {'a':1, 'b':2, 'c':3}\n",
    "d.setdefault('q', 100)"
   ]
  },
  {
   "cell_type": "code",
   "execution_count": 84,
   "metadata": {},
   "outputs": [
    {
     "data": {
      "text/plain": [
       "{'a': 1, 'b': 2, 'c': 3, 'q': 100}"
      ]
     },
     "execution_count": 84,
     "metadata": {},
     "output_type": "execute_result"
    }
   ],
   "source": [
    "d"
   ]
  },
  {
   "cell_type": "code",
   "execution_count": 85,
   "metadata": {},
   "outputs": [
    {
     "data": {
      "text/plain": [
       "100"
      ]
     },
     "execution_count": 85,
     "metadata": {},
     "output_type": "execute_result"
    }
   ],
   "source": [
    "d.setdefault('q', 200)"
   ]
  },
  {
   "cell_type": "code",
   "execution_count": null,
   "metadata": {},
   "outputs": [],
   "source": [
    "City: Tel Aviv\n",
    "Rain: 5\n",
    "City: Jerusalem\n",
    "Rain: 2\n",
    "City: Tel Aviv\n",
    "Rain: 7\n",
    "City: <enter>\n",
    "    \n",
    "Tel Aviv: 12\n",
    "Jerusalem: 2\n",
    "    "
   ]
  },
  {
   "cell_type": "code",
   "execution_count": 91,
   "metadata": {},
   "outputs": [
    {
     "name": "stdout",
     "output_type": "stream",
     "text": [
      "Enter city: a\n",
      "Enter mm rain: 5\n",
      "Enter city: b\n",
      "Enter mm rain: 6\n",
      "Enter city: a\n",
      "Enter mm rain: 7\n",
      "Enter city: \n",
      "a\n",
      "b\n"
     ]
    }
   ],
   "source": [
    "rainfall = {}\n",
    "while True:\n",
    "    city_name = input(\"Enter city: \").strip()\n",
    "    if not city_name:\n",
    "        break\n",
    "        \n",
    "    mm_rain = input(\"Enter mm rain: \").strip()\n",
    "    mm_rain = int(mm_rain)\n",
    "    \n",
    "    rainfall[city_name] = rainfall.get(city_name, 0) + mm_rain\n",
    "    \n",
    "for one_item in rainfall:\n",
    "    print(one_item)"
   ]
  },
  {
   "cell_type": "code",
   "execution_count": 94,
   "metadata": {},
   "outputs": [
    {
     "name": "stdout",
     "output_type": "stream",
     "text": [
      "a: 12\n",
      "b: 6\n"
     ]
    }
   ],
   "source": [
    "for key, value in rainfall.items():\n",
    "    print(f'{key}: {value}')"
   ]
  },
  {
   "cell_type": "code",
   "execution_count": 95,
   "metadata": {},
   "outputs": [
    {
     "name": "stdout",
     "output_type": "stream",
     "text": [
      "('a', 12)\n",
      "('b', 6)\n"
     ]
    }
   ],
   "source": [
    "for one_item in rainfall.items():\n",
    "    print(one_item)"
   ]
  },
  {
   "cell_type": "code",
   "execution_count": 96,
   "metadata": {},
   "outputs": [
    {
     "data": {
      "text/plain": [
       "[10, 20, 30]"
      ]
     },
     "execution_count": 96,
     "metadata": {},
     "output_type": "execute_result"
    }
   ],
   "source": [
    "mylist = [10, 20, 30]\n",
    "a = mylist\n",
    "\n",
    "a"
   ]
  },
  {
   "cell_type": "code",
   "execution_count": 97,
   "metadata": {},
   "outputs": [
    {
     "data": {
      "text/plain": [
       "10"
      ]
     },
     "execution_count": 97,
     "metadata": {},
     "output_type": "execute_result"
    }
   ],
   "source": [
    "a,b,c = mylist  # unpacking\n",
    "a\n"
   ]
  },
  {
   "cell_type": "code",
   "execution_count": 98,
   "metadata": {},
   "outputs": [
    {
     "data": {
      "text/plain": [
       "20"
      ]
     },
     "execution_count": 98,
     "metadata": {},
     "output_type": "execute_result"
    }
   ],
   "source": [
    "b"
   ]
  },
  {
   "cell_type": "code",
   "execution_count": 99,
   "metadata": {},
   "outputs": [
    {
     "data": {
      "text/plain": [
       "30"
      ]
     },
     "execution_count": 99,
     "metadata": {},
     "output_type": "execute_result"
    }
   ],
   "source": [
    "c"
   ]
  },
  {
   "cell_type": "code",
   "execution_count": 101,
   "metadata": {},
   "outputs": [],
   "source": [
    "mylist = [10, 20, 30, 40, 50]\n",
    "a,*b = mylist"
   ]
  },
  {
   "cell_type": "code",
   "execution_count": 102,
   "metadata": {},
   "outputs": [
    {
     "data": {
      "text/plain": [
       "10"
      ]
     },
     "execution_count": 102,
     "metadata": {},
     "output_type": "execute_result"
    }
   ],
   "source": [
    "a"
   ]
  },
  {
   "cell_type": "code",
   "execution_count": 103,
   "metadata": {},
   "outputs": [
    {
     "data": {
      "text/plain": [
       "[20, 30, 40, 50]"
      ]
     },
     "execution_count": 103,
     "metadata": {},
     "output_type": "execute_result"
    }
   ],
   "source": [
    "b"
   ]
  },
  {
   "cell_type": "code",
   "execution_count": 104,
   "metadata": {},
   "outputs": [],
   "source": [
    "a,*b, c = mylist\n"
   ]
  },
  {
   "cell_type": "code",
   "execution_count": 105,
   "metadata": {},
   "outputs": [
    {
     "data": {
      "text/plain": [
       "10"
      ]
     },
     "execution_count": 105,
     "metadata": {},
     "output_type": "execute_result"
    }
   ],
   "source": [
    "a"
   ]
  },
  {
   "cell_type": "code",
   "execution_count": 106,
   "metadata": {},
   "outputs": [
    {
     "data": {
      "text/plain": [
       "[20, 30, 40]"
      ]
     },
     "execution_count": 106,
     "metadata": {},
     "output_type": "execute_result"
    }
   ],
   "source": [
    "b"
   ]
  },
  {
   "cell_type": "code",
   "execution_count": 107,
   "metadata": {},
   "outputs": [
    {
     "data": {
      "text/plain": [
       "50"
      ]
     },
     "execution_count": 107,
     "metadata": {},
     "output_type": "execute_result"
    }
   ],
   "source": [
    "c"
   ]
  },
  {
   "cell_type": "code",
   "execution_count": 109,
   "metadata": {},
   "outputs": [
    {
     "ename": "SyntaxError",
     "evalue": "two starred expressions in assignment (<ipython-input-109-af335edc316b>, line 4)",
     "output_type": "error",
     "traceback": [
      "\u001b[0;36m  File \u001b[0;32m\"<ipython-input-109-af335edc316b>\"\u001b[0;36m, line \u001b[0;32m4\u001b[0m\n\u001b[0;31mSyntaxError\u001b[0m\u001b[0;31m:\u001b[0m two starred expressions in assignment\n"
     ]
    }
   ],
   "source": [
    "a,*b,*c,d = mylist"
   ]
  },
  {
   "cell_type": "code",
   "execution_count": 110,
   "metadata": {},
   "outputs": [],
   "source": [
    "d = {'a':1, 'bcd':2345, 'ef':67890, 'g':1234}"
   ]
  },
  {
   "cell_type": "code",
   "execution_count": 114,
   "metadata": {},
   "outputs": [
    {
     "name": "stdout",
     "output_type": "stream",
     "text": [
      "a         :    1\n",
      "bcd       : 2345\n",
      "ef        :67890\n",
      "g         : 1234\n"
     ]
    }
   ],
   "source": [
    "for key, value in d.items():\n",
    "    print(f'{key:10}:{value:5}')"
   ]
  },
  {
   "cell_type": "code",
   "execution_count": 116,
   "metadata": {},
   "outputs": [
    {
     "name": "stdout",
     "output_type": "stream",
     "text": [
      "a.............1\n",
      "bcd........2345\n",
      "ef........67890\n",
      "g..........1234\n"
     ]
    }
   ],
   "source": [
    "for key, value in d.items():\n",
    "    print(f'{key:.<10}{value:.>5}')"
   ]
  },
  {
   "cell_type": "code",
   "execution_count": 117,
   "metadata": {},
   "outputs": [
    {
     "ename": "ValueError",
     "evalue": "Unknown format code 'n' for object of type 'str'",
     "output_type": "error",
     "traceback": [
      "\u001b[0;31m---------------------------------------------------------------------------\u001b[0m",
      "\u001b[0;31mValueError\u001b[0m                                Traceback (most recent call last)",
      "\u001b[0;32m<ipython-input-117-cf432b2e95ef>\u001b[0m in \u001b[0;36m<module>\u001b[0;34m\u001b[0m\n\u001b[1;32m      1\u001b[0m \u001b[0mn\u001b[0m \u001b[0;34m=\u001b[0m \u001b[0;36m10\u001b[0m\u001b[0;34m\u001b[0m\u001b[0;34m\u001b[0m\u001b[0m\n\u001b[1;32m      2\u001b[0m \u001b[0;32mfor\u001b[0m \u001b[0mkey\u001b[0m\u001b[0;34m,\u001b[0m \u001b[0mvalue\u001b[0m \u001b[0;32min\u001b[0m \u001b[0md\u001b[0m\u001b[0;34m.\u001b[0m\u001b[0mitems\u001b[0m\u001b[0;34m(\u001b[0m\u001b[0;34m)\u001b[0m\u001b[0;34m:\u001b[0m\u001b[0;34m\u001b[0m\u001b[0;34m\u001b[0m\u001b[0m\n\u001b[0;32m----> 3\u001b[0;31m     \u001b[0mprint\u001b[0m\u001b[0;34m(\u001b[0m\u001b[0;34mf'{key:.<n}{value:.>5}'\u001b[0m\u001b[0;34m)\u001b[0m\u001b[0;34m\u001b[0m\u001b[0;34m\u001b[0m\u001b[0m\n\u001b[0m",
      "\u001b[0;31mValueError\u001b[0m: Unknown format code 'n' for object of type 'str'"
     ]
    }
   ],
   "source": [
    "n = 10\n",
    "for key, value in d.items():\n",
    "    print(f'{key:.<n}{value:.>5}')"
   ]
  },
  {
   "cell_type": "code",
   "execution_count": 121,
   "metadata": {},
   "outputs": [
    {
     "name": "stdout",
     "output_type": "stream",
     "text": [
      "a........1\n",
      "bcd...2345\n",
      "ef...67890\n",
      "g.....1234\n"
     ]
    }
   ],
   "source": [
    "for key, value in d.items():\n",
    "    print(f'{key:.<5}{value:.>5}')"
   ]
  },
  {
   "cell_type": "code",
   "execution_count": 122,
   "metadata": {},
   "outputs": [
    {
     "data": {
      "text/plain": [
       "{'__name__': '__main__',\n",
       " '__doc__': 'Automatically created module for IPython interactive environment',\n",
       " '__package__': None,\n",
       " '__loader__': None,\n",
       " '__spec__': None,\n",
       " '__builtin__': <module 'builtins' (built-in)>,\n",
       " '__builtins__': <module 'builtins' (built-in)>,\n",
       " '_ih': ['',\n",
       "  \"def hello(name):\\n    return f'Hello, {name}'\",\n",
       "  \"hello('world')\",\n",
       "  \"hello('radware')\",\n",
       "  \"hello('radware!!!!')\",\n",
       "  '# github.com/reuven/radware-0120',\n",
       "  \"print('abc')   # enter == newline\\nprint('def')   # enter == newline\\nprint('ghi')  # shift + enter == execute the cell\",\n",
       "  \"print('abc')   # enter == newline\\nprint('def')   # enter == newline\\nprint('ghi!!')  # shift + enter == execute the cell\",\n",
       "  'x = 100\\ny = 100\\n\\nx == y',\n",
       "  'x is y',\n",
       "  'x = 1000\\ny = 1000\\n\\nx == y',\n",
       "  'x is y',\n",
       "  'id(x)',\n",
       "  'id(y)',\n",
       "  'x is y   # id(x) == id(y)',\n",
       "  'id(100)',\n",
       "  'id(101)',\n",
       "  'id(102)',\n",
       "  'id(x)',\n",
       "  'x = 100\\nid(x)',\n",
       "  'id(100)',\n",
       "  'x = 1000\\ny = 1000\\n\\nx is y',\n",
       "  \"x = 'abcd'\\ny = 'abcd'\",\n",
       "  'x == y',\n",
       "  'x is y',\n",
       "  \"x = 'abc!'\\ny = 'abc!'\\n\\nx == y\",\n",
       "  'x is y',\n",
       "  \"x = 'a' * 100000\\ny = 'a' * 100000\",\n",
       "  'x == y',\n",
       "  'x is y',\n",
       "  \"x = 'abcd'\",\n",
       "  \"y = 'abcd'\",\n",
       "  'x is y',\n",
       "  \"x = 'ab d'\\ny = 'ab d'\",\n",
       "  'x == y',\n",
       "  'x is y',\n",
       "  \"x = intern('ab d')\\ny = intern('ab d')\",\n",
       "  \"import sys\\nx = sys.intern('ab d')\\ny = sys.intern('ab d')\",\n",
       "  'x is y',\n",
       "  'x = y\\nx is y',\n",
       "  'x = 100\\ny = x\\n\\nx = 200\\ny',\n",
       "  \"x = {'a':1, 'b':2, 'c':3}\\ny = x\\n\\nx = {'x':100, 'y':200}\\ny\",\n",
       "  \"x = {'a':1, 'b':2, 'c':3}\\ny = x\\n\\nx['d'] = 4000\\ny\",\n",
       "  'first = \\'Reuven\\'\\nlast = \\'Lerner\\'\\n\\nprint(\"Hello, \" + first + \" \" + last + \\'.  How are you?\\')',\n",
       "  \"print(f'Hello, {first} {last}.  How are you?')\",\n",
       "  \"number = 100\\n\\nprint(f'{name}, your number is {number}')\",\n",
       "  \"number = 100\\n\\nprint(f'{first}, your number is {number}')\",\n",
       "  \"print(f'{first}, your number * 3 is {number*3}')\",\n",
       "  'mylist = [10, 20, 30, 40, 50]\\n\\n30 in mylist',\n",
       "  'mylist = [10, 20, 30, 40, 50]\\n\\n30 in mylist   # O(n)',\n",
       "  '30 in 100',\n",
       "  \"d = {'a':1, 'b':2, 'c':3, 'd':4}\\n\\n'c' in d\",\n",
       "  \"d = {}\\nd['a'] = 1  \",\n",
       "  \"hash('a')\",\n",
       "  \"hash('a') % 8\",\n",
       "  \"d['b'] = 2\\nhash('b') % 8\",\n",
       "  'd = {}',\n",
       "  \"d['a'] = 1\",\n",
       "  \"hash('a') % 8\",\n",
       "  \"'a' in d\",\n",
       "  \"d['x'] = 2\\nhash('x') % 8\",\n",
       "  \"d.pop('a')\",\n",
       "  \"d['a'] = 999\\nd.keys()\",\n",
       "  'd[mylist] = 100',\n",
       "  '# github.com/reuven/radware-0120',\n",
       "  \"bool('abcd')\",\n",
       "  \"bool('')\",\n",
       "  \"int('123')\",\n",
       "  \"float('123')\",\n",
       "  'bool([10, 20, 30])',\n",
       "  'bool([])',\n",
       "  'bool(d)',\n",
       "  'bool({})',\n",
       "  'd = {\\'a\\':1, \\'b\\':2, \\'c\\':3}\\n\\nwhile key = input(\"Enter key: \").strip():\\n\\n    if key in d:\\n        print(f\\'d[{key}] == {d[key]}\\')\\n        \\n    else:\\n        print(f\\'{key} is not a key in d\\')',\n",
       "  'd',\n",
       "  \"d['q']\",\n",
       "  \"d.get('q') # if 'q' in d, d['q'] else None\",\n",
       "  \"d.get('q', 'abcd') # if 'q' in d, d['q'] else 'abcd'\",\n",
       "  'd',\n",
       "  \"d.setdefault('q', 100)\",\n",
       "  'd',\n",
       "  \"d['q'] = 200\",\n",
       "  \"d = {'a':1, 'b';2, 'c':3}\\nd.setdefault('q', 100)\",\n",
       "  \"d = {'a':1, 'b':2, 'c':3}\\nd.setdefault('q', 100)\",\n",
       "  'd',\n",
       "  \"d.setdefault('q', 200)\",\n",
       "  'rainfall = {}\\nwhile True:\\n    city_name = input(\"Enter city: \").strip()\\n    if not city_name:\\n        break\\n        \\n    mm_rain = input(\"Enter mm rain: \").strip()\\n    rainfall[city_name] = mm_rain\\n    \\nprint(rainfall)',\n",
       "  'rainfall = {}\\nwhile True:\\n    city_name = input(\"Enter city: \").strip()\\n    if not city_name:\\n        break\\n        \\n    mm_rain = input(\"Enter mm rain: \").strip()\\n    rainfall[city_name] += mm_rain\\n    \\nprint(rainfall)',\n",
       "  'rainfall = {}\\nwhile True:\\n    city_name = input(\"Enter city: \").strip()\\n    if not city_name:\\n        break\\n        \\n    mm_rain = input(\"Enter mm rain: \").strip()\\n    if city_name in rainfall:\\n        rainfall[city_name] += mm_rain\\n    else:\\n        rainfall[city_name] = mm_rain\\n    \\nprint(rainfall)',\n",
       "  'rainfall = {}\\nwhile True:\\n    city_name = input(\"Enter city: \").strip()\\n    if not city_name:\\n        break\\n        \\n    mm_rain = input(\"Enter mm rain: \").strip()\\n    mm_rain = int(mm_rain)\\n    \\n    if city_name in rainfall:\\n        rainfall[city_name] += mm_rain\\n    else:\\n        rainfall[city_name] = mm_rain\\n    \\nprint(rainfall)',\n",
       "  'rainfall = {}\\nwhile True:\\n    city_name = input(\"Enter city: \").strip()\\n    if not city_name:\\n        break\\n        \\n    mm_rain = input(\"Enter mm rain: \").strip()\\n    mm_rain = int(mm_rain)\\n    \\n    rainfall[city_name] = rainfall.get(city_name, 0) + mm_rain\\n    \\nprint(rainfall)',\n",
       "  'rainfall = {}\\nwhile True:\\n    city_name = input(\"Enter city: \").strip()\\n    if not city_name:\\n        break\\n        \\n    mm_rain = input(\"Enter mm rain: \").strip()\\n    mm_rain = int(mm_rain)\\n    \\n    rainfall[city_name] = rainfall.get(city_name, 0) + mm_rain\\n    \\nfor one_item in rainfall:\\n    print(one_item)',\n",
       "  'for one_item in rainfall:\\n    print(one_item)',\n",
       "  \"for key in rainfall:\\n    print(f'{key}: {rainfall[key]}')\",\n",
       "  \"for key, value in rainfall.items():\\n    print(f'{key}: {value}')\",\n",
       "  'for one_item in rainfall.items():\\n    print(one_item)',\n",
       "  'mylist = [10, 20, 30]\\na = mylist\\n\\na',\n",
       "  'a,b,c = mylist\\na',\n",
       "  'b',\n",
       "  'c',\n",
       "  'mylist = [10, 20, 30, 40, 50]\\na,b = mylist',\n",
       "  'mylist = [10, 20, 30, 40, 50]\\na,*b = mylist',\n",
       "  'a',\n",
       "  'b',\n",
       "  'a,*b, c = mylist',\n",
       "  'a',\n",
       "  'b',\n",
       "  'c',\n",
       "  'a,*b,*c,d',\n",
       "  'a,*b,*c,d = mylist',\n",
       "  \"d = {'a':1, 'bcd':2345, 'ef':67890, 'g':1234}\",\n",
       "  \"for key, value in d.items():\\n    print(f'{key}:{value}')\",\n",
       "  \"for key, value in d.items():\\n    print(f'{key:10}:{value:5}')\",\n",
       "  \"for key, value in d.items():\\n    print(f'{key:.<10}:{value:.>5}')\",\n",
       "  \"for key, value in d.items():\\n    print(f'{key:10}:{value:5}')\",\n",
       "  \"for key, value in d.items():\\n    print(f'{key:.<10}:{value:.>5}')\",\n",
       "  \"for key, value in d.items():\\n    print(f'{key:.<10}{value:.>5}')\",\n",
       "  \"n = 10\\nfor key, value in d.items():\\n    print(f'{key:.<n}{value:.>5}')\",\n",
       "  \"for key, value in d.items():\\n    print(f'{key:.<3}{value:.>5}')\",\n",
       "  \"for key, value in d.items():\\n    print(f'{key:.<2}{value:.>5}')\",\n",
       "  \"for key, value in d.items():\\n    print(f'{key:.<2.5}{value:.>5}')\",\n",
       "  \"for key, value in d.items():\\n    print(f'{key:.<5}{value:.>5}')\",\n",
       "  'globals()'],\n",
       " '_oh': {2: 'Hello, world',\n",
       "  3: 'Hello, radware',\n",
       "  4: 'Hello, radware!!!!',\n",
       "  8: True,\n",
       "  9: True,\n",
       "  10: True,\n",
       "  11: False,\n",
       "  12: 4618916784,\n",
       "  13: 4618916624,\n",
       "  14: False,\n",
       "  15: 4563752960,\n",
       "  16: 4563752992,\n",
       "  17: 4563753024,\n",
       "  18: 4618916784,\n",
       "  19: 4563752960,\n",
       "  20: 4563752960,\n",
       "  21: False,\n",
       "  23: True,\n",
       "  24: True,\n",
       "  25: True,\n",
       "  26: False,\n",
       "  28: True,\n",
       "  29: False,\n",
       "  32: True,\n",
       "  34: True,\n",
       "  35: False,\n",
       "  38: True,\n",
       "  39: True,\n",
       "  40: 100,\n",
       "  41: {'a': 1, 'b': 2, 'c': 3},\n",
       "  42: {'a': 1, 'b': 2, 'c': 3, 'd': 4000},\n",
       "  48: True,\n",
       "  49: True,\n",
       "  51: True,\n",
       "  53: -8524206456043343855,\n",
       "  54: 1,\n",
       "  55: 1,\n",
       "  58: 1,\n",
       "  59: True,\n",
       "  60: 2,\n",
       "  61: 1,\n",
       "  62: dict_keys(['x', 'a', 'q']),\n",
       "  65: True,\n",
       "  66: False,\n",
       "  67: 123,\n",
       "  68: 123.0,\n",
       "  69: True,\n",
       "  70: False,\n",
       "  71: True,\n",
       "  72: False,\n",
       "  74: {'x': 2, 'a': 999, 'q': 200},\n",
       "  77: 'abcd',\n",
       "  78: {'x': 2, 'a': 999, 'q': 200},\n",
       "  79: 100,\n",
       "  80: {'x': 2, 'a': 999, 'q': 200},\n",
       "  83: 100,\n",
       "  84: {'a': 1, 'b': 2, 'c': 3, 'q': 100},\n",
       "  85: 100,\n",
       "  96: [10, 20, 30],\n",
       "  97: 10,\n",
       "  98: 20,\n",
       "  99: 30,\n",
       "  102: 10,\n",
       "  103: [20, 30, 40, 50],\n",
       "  105: 10,\n",
       "  106: [20, 30, 40],\n",
       "  107: 50},\n",
       " '_dh': ['/Users/reuven/Consulting/Courses/Python/radware-0120'],\n",
       " 'In': ['',\n",
       "  \"def hello(name):\\n    return f'Hello, {name}'\",\n",
       "  \"hello('world')\",\n",
       "  \"hello('radware')\",\n",
       "  \"hello('radware!!!!')\",\n",
       "  '# github.com/reuven/radware-0120',\n",
       "  \"print('abc')   # enter == newline\\nprint('def')   # enter == newline\\nprint('ghi')  # shift + enter == execute the cell\",\n",
       "  \"print('abc')   # enter == newline\\nprint('def')   # enter == newline\\nprint('ghi!!')  # shift + enter == execute the cell\",\n",
       "  'x = 100\\ny = 100\\n\\nx == y',\n",
       "  'x is y',\n",
       "  'x = 1000\\ny = 1000\\n\\nx == y',\n",
       "  'x is y',\n",
       "  'id(x)',\n",
       "  'id(y)',\n",
       "  'x is y   # id(x) == id(y)',\n",
       "  'id(100)',\n",
       "  'id(101)',\n",
       "  'id(102)',\n",
       "  'id(x)',\n",
       "  'x = 100\\nid(x)',\n",
       "  'id(100)',\n",
       "  'x = 1000\\ny = 1000\\n\\nx is y',\n",
       "  \"x = 'abcd'\\ny = 'abcd'\",\n",
       "  'x == y',\n",
       "  'x is y',\n",
       "  \"x = 'abc!'\\ny = 'abc!'\\n\\nx == y\",\n",
       "  'x is y',\n",
       "  \"x = 'a' * 100000\\ny = 'a' * 100000\",\n",
       "  'x == y',\n",
       "  'x is y',\n",
       "  \"x = 'abcd'\",\n",
       "  \"y = 'abcd'\",\n",
       "  'x is y',\n",
       "  \"x = 'ab d'\\ny = 'ab d'\",\n",
       "  'x == y',\n",
       "  'x is y',\n",
       "  \"x = intern('ab d')\\ny = intern('ab d')\",\n",
       "  \"import sys\\nx = sys.intern('ab d')\\ny = sys.intern('ab d')\",\n",
       "  'x is y',\n",
       "  'x = y\\nx is y',\n",
       "  'x = 100\\ny = x\\n\\nx = 200\\ny',\n",
       "  \"x = {'a':1, 'b':2, 'c':3}\\ny = x\\n\\nx = {'x':100, 'y':200}\\ny\",\n",
       "  \"x = {'a':1, 'b':2, 'c':3}\\ny = x\\n\\nx['d'] = 4000\\ny\",\n",
       "  'first = \\'Reuven\\'\\nlast = \\'Lerner\\'\\n\\nprint(\"Hello, \" + first + \" \" + last + \\'.  How are you?\\')',\n",
       "  \"print(f'Hello, {first} {last}.  How are you?')\",\n",
       "  \"number = 100\\n\\nprint(f'{name}, your number is {number}')\",\n",
       "  \"number = 100\\n\\nprint(f'{first}, your number is {number}')\",\n",
       "  \"print(f'{first}, your number * 3 is {number*3}')\",\n",
       "  'mylist = [10, 20, 30, 40, 50]\\n\\n30 in mylist',\n",
       "  'mylist = [10, 20, 30, 40, 50]\\n\\n30 in mylist   # O(n)',\n",
       "  '30 in 100',\n",
       "  \"d = {'a':1, 'b':2, 'c':3, 'd':4}\\n\\n'c' in d\",\n",
       "  \"d = {}\\nd['a'] = 1  \",\n",
       "  \"hash('a')\",\n",
       "  \"hash('a') % 8\",\n",
       "  \"d['b'] = 2\\nhash('b') % 8\",\n",
       "  'd = {}',\n",
       "  \"d['a'] = 1\",\n",
       "  \"hash('a') % 8\",\n",
       "  \"'a' in d\",\n",
       "  \"d['x'] = 2\\nhash('x') % 8\",\n",
       "  \"d.pop('a')\",\n",
       "  \"d['a'] = 999\\nd.keys()\",\n",
       "  'd[mylist] = 100',\n",
       "  '# github.com/reuven/radware-0120',\n",
       "  \"bool('abcd')\",\n",
       "  \"bool('')\",\n",
       "  \"int('123')\",\n",
       "  \"float('123')\",\n",
       "  'bool([10, 20, 30])',\n",
       "  'bool([])',\n",
       "  'bool(d)',\n",
       "  'bool({})',\n",
       "  'd = {\\'a\\':1, \\'b\\':2, \\'c\\':3}\\n\\nwhile key = input(\"Enter key: \").strip():\\n\\n    if key in d:\\n        print(f\\'d[{key}] == {d[key]}\\')\\n        \\n    else:\\n        print(f\\'{key} is not a key in d\\')',\n",
       "  'd',\n",
       "  \"d['q']\",\n",
       "  \"d.get('q') # if 'q' in d, d['q'] else None\",\n",
       "  \"d.get('q', 'abcd') # if 'q' in d, d['q'] else 'abcd'\",\n",
       "  'd',\n",
       "  \"d.setdefault('q', 100)\",\n",
       "  'd',\n",
       "  \"d['q'] = 200\",\n",
       "  \"d = {'a':1, 'b';2, 'c':3}\\nd.setdefault('q', 100)\",\n",
       "  \"d = {'a':1, 'b':2, 'c':3}\\nd.setdefault('q', 100)\",\n",
       "  'd',\n",
       "  \"d.setdefault('q', 200)\",\n",
       "  'rainfall = {}\\nwhile True:\\n    city_name = input(\"Enter city: \").strip()\\n    if not city_name:\\n        break\\n        \\n    mm_rain = input(\"Enter mm rain: \").strip()\\n    rainfall[city_name] = mm_rain\\n    \\nprint(rainfall)',\n",
       "  'rainfall = {}\\nwhile True:\\n    city_name = input(\"Enter city: \").strip()\\n    if not city_name:\\n        break\\n        \\n    mm_rain = input(\"Enter mm rain: \").strip()\\n    rainfall[city_name] += mm_rain\\n    \\nprint(rainfall)',\n",
       "  'rainfall = {}\\nwhile True:\\n    city_name = input(\"Enter city: \").strip()\\n    if not city_name:\\n        break\\n        \\n    mm_rain = input(\"Enter mm rain: \").strip()\\n    if city_name in rainfall:\\n        rainfall[city_name] += mm_rain\\n    else:\\n        rainfall[city_name] = mm_rain\\n    \\nprint(rainfall)',\n",
       "  'rainfall = {}\\nwhile True:\\n    city_name = input(\"Enter city: \").strip()\\n    if not city_name:\\n        break\\n        \\n    mm_rain = input(\"Enter mm rain: \").strip()\\n    mm_rain = int(mm_rain)\\n    \\n    if city_name in rainfall:\\n        rainfall[city_name] += mm_rain\\n    else:\\n        rainfall[city_name] = mm_rain\\n    \\nprint(rainfall)',\n",
       "  'rainfall = {}\\nwhile True:\\n    city_name = input(\"Enter city: \").strip()\\n    if not city_name:\\n        break\\n        \\n    mm_rain = input(\"Enter mm rain: \").strip()\\n    mm_rain = int(mm_rain)\\n    \\n    rainfall[city_name] = rainfall.get(city_name, 0) + mm_rain\\n    \\nprint(rainfall)',\n",
       "  'rainfall = {}\\nwhile True:\\n    city_name = input(\"Enter city: \").strip()\\n    if not city_name:\\n        break\\n        \\n    mm_rain = input(\"Enter mm rain: \").strip()\\n    mm_rain = int(mm_rain)\\n    \\n    rainfall[city_name] = rainfall.get(city_name, 0) + mm_rain\\n    \\nfor one_item in rainfall:\\n    print(one_item)',\n",
       "  'for one_item in rainfall:\\n    print(one_item)',\n",
       "  \"for key in rainfall:\\n    print(f'{key}: {rainfall[key]}')\",\n",
       "  \"for key, value in rainfall.items():\\n    print(f'{key}: {value}')\",\n",
       "  'for one_item in rainfall.items():\\n    print(one_item)',\n",
       "  'mylist = [10, 20, 30]\\na = mylist\\n\\na',\n",
       "  'a,b,c = mylist\\na',\n",
       "  'b',\n",
       "  'c',\n",
       "  'mylist = [10, 20, 30, 40, 50]\\na,b = mylist',\n",
       "  'mylist = [10, 20, 30, 40, 50]\\na,*b = mylist',\n",
       "  'a',\n",
       "  'b',\n",
       "  'a,*b, c = mylist',\n",
       "  'a',\n",
       "  'b',\n",
       "  'c',\n",
       "  'a,*b,*c,d',\n",
       "  'a,*b,*c,d = mylist',\n",
       "  \"d = {'a':1, 'bcd':2345, 'ef':67890, 'g':1234}\",\n",
       "  \"for key, value in d.items():\\n    print(f'{key}:{value}')\",\n",
       "  \"for key, value in d.items():\\n    print(f'{key:10}:{value:5}')\",\n",
       "  \"for key, value in d.items():\\n    print(f'{key:.<10}:{value:.>5}')\",\n",
       "  \"for key, value in d.items():\\n    print(f'{key:10}:{value:5}')\",\n",
       "  \"for key, value in d.items():\\n    print(f'{key:.<10}:{value:.>5}')\",\n",
       "  \"for key, value in d.items():\\n    print(f'{key:.<10}{value:.>5}')\",\n",
       "  \"n = 10\\nfor key, value in d.items():\\n    print(f'{key:.<n}{value:.>5}')\",\n",
       "  \"for key, value in d.items():\\n    print(f'{key:.<3}{value:.>5}')\",\n",
       "  \"for key, value in d.items():\\n    print(f'{key:.<2}{value:.>5}')\",\n",
       "  \"for key, value in d.items():\\n    print(f'{key:.<2.5}{value:.>5}')\",\n",
       "  \"for key, value in d.items():\\n    print(f'{key:.<5}{value:.>5}')\",\n",
       "  'globals()'],\n",
       " 'Out': {2: 'Hello, world',\n",
       "  3: 'Hello, radware',\n",
       "  4: 'Hello, radware!!!!',\n",
       "  8: True,\n",
       "  9: True,\n",
       "  10: True,\n",
       "  11: False,\n",
       "  12: 4618916784,\n",
       "  13: 4618916624,\n",
       "  14: False,\n",
       "  15: 4563752960,\n",
       "  16: 4563752992,\n",
       "  17: 4563753024,\n",
       "  18: 4618916784,\n",
       "  19: 4563752960,\n",
       "  20: 4563752960,\n",
       "  21: False,\n",
       "  23: True,\n",
       "  24: True,\n",
       "  25: True,\n",
       "  26: False,\n",
       "  28: True,\n",
       "  29: False,\n",
       "  32: True,\n",
       "  34: True,\n",
       "  35: False,\n",
       "  38: True,\n",
       "  39: True,\n",
       "  40: 100,\n",
       "  41: {'a': 1, 'b': 2, 'c': 3},\n",
       "  42: {'a': 1, 'b': 2, 'c': 3, 'd': 4000},\n",
       "  48: True,\n",
       "  49: True,\n",
       "  51: True,\n",
       "  53: -8524206456043343855,\n",
       "  54: 1,\n",
       "  55: 1,\n",
       "  58: 1,\n",
       "  59: True,\n",
       "  60: 2,\n",
       "  61: 1,\n",
       "  62: dict_keys(['x', 'a', 'q']),\n",
       "  65: True,\n",
       "  66: False,\n",
       "  67: 123,\n",
       "  68: 123.0,\n",
       "  69: True,\n",
       "  70: False,\n",
       "  71: True,\n",
       "  72: False,\n",
       "  74: {'x': 2, 'a': 999, 'q': 200},\n",
       "  77: 'abcd',\n",
       "  78: {'x': 2, 'a': 999, 'q': 200},\n",
       "  79: 100,\n",
       "  80: {'x': 2, 'a': 999, 'q': 200},\n",
       "  83: 100,\n",
       "  84: {'a': 1, 'b': 2, 'c': 3, 'q': 100},\n",
       "  85: 100,\n",
       "  96: [10, 20, 30],\n",
       "  97: 10,\n",
       "  98: 20,\n",
       "  99: 30,\n",
       "  102: 10,\n",
       "  103: [20, 30, 40, 50],\n",
       "  105: 10,\n",
       "  106: [20, 30, 40],\n",
       "  107: 50},\n",
       " 'get_ipython': <bound method InteractiveShell.get_ipython of <ipykernel.zmqshell.ZMQInteractiveShell object at 0x1132bf9d0>>,\n",
       " 'exit': <IPython.core.autocall.ZMQExitAutocall at 0x1132d9a50>,\n",
       " 'quit': <IPython.core.autocall.ZMQExitAutocall at 0x1132d9a50>,\n",
       " '_': 50,\n",
       " '__': [20, 30, 40],\n",
       " '___': 10,\n",
       " '_i': \"for key, value in d.items():\\n    print(f'{key:.<5}{value:.>5}')\",\n",
       " '_ii': \"for key, value in d.items():\\n    print(f'{key:.<2.5}{value:.>5}')\",\n",
       " '_iii': \"for key, value in d.items():\\n    print(f'{key:.<2}{value:.>5}')\",\n",
       " '_i1': \"def hello(name):\\n    return f'Hello, {name}'\",\n",
       " 'hello': <function __main__.hello(name)>,\n",
       " '_i2': \"hello('world')\",\n",
       " '_2': 'Hello, world',\n",
       " '_i3': \"hello('radware')\",\n",
       " '_3': 'Hello, radware',\n",
       " '_i4': \"hello('radware!!!!')\",\n",
       " '_4': 'Hello, radware!!!!',\n",
       " '_i5': '# github.com/reuven/radware-0120',\n",
       " '_i6': \"print('abc')   # enter == newline\\nprint('def')   # enter == newline\\nprint('ghi')  # shift + enter == execute the cell\",\n",
       " '_i7': \"print('abc')   # enter == newline\\nprint('def')   # enter == newline\\nprint('ghi!!')  # shift + enter == execute the cell\",\n",
       " '_i8': 'x = 100\\ny = 100\\n\\nx == y',\n",
       " 'x': {'a': 1, 'b': 2, 'c': 3, 'd': 4000},\n",
       " 'y': {'a': 1, 'b': 2, 'c': 3, 'd': 4000},\n",
       " '_8': True,\n",
       " '_i9': 'x is y',\n",
       " '_9': True,\n",
       " '_i10': 'x = 1000\\ny = 1000\\n\\nx == y',\n",
       " '_10': True,\n",
       " '_i11': 'x is y',\n",
       " '_11': False,\n",
       " '_i12': 'id(x)',\n",
       " '_12': 4618916784,\n",
       " '_i13': 'id(y)',\n",
       " '_13': 4618916624,\n",
       " '_i14': 'x is y   # id(x) == id(y)',\n",
       " '_14': False,\n",
       " '_i15': 'id(100)',\n",
       " '_15': 4563752960,\n",
       " '_i16': 'id(101)',\n",
       " '_16': 4563752992,\n",
       " '_i17': 'id(102)',\n",
       " '_17': 4563753024,\n",
       " '_i18': 'id(x)',\n",
       " '_18': 4618916784,\n",
       " '_i19': 'x = 100\\nid(x)',\n",
       " '_19': 4563752960,\n",
       " '_i20': 'id(100)',\n",
       " '_20': 4563752960,\n",
       " '_i21': 'x = 1000\\ny = 1000\\n\\nx is y',\n",
       " '_21': False,\n",
       " '_i22': \"x = 'abcd'\\ny = 'abcd'\",\n",
       " '_i23': 'x == y',\n",
       " '_23': True,\n",
       " '_i24': 'x is y',\n",
       " '_24': True,\n",
       " '_i25': \"x = 'abc!'\\ny = 'abc!'\\n\\nx == y\",\n",
       " '_25': True,\n",
       " '_i26': 'x is y',\n",
       " '_26': False,\n",
       " '_i27': \"x = 'a' * 100000\\ny = 'a' * 100000\",\n",
       " '_i28': 'x == y',\n",
       " '_28': True,\n",
       " '_i29': 'x is y',\n",
       " '_29': False,\n",
       " '_i30': \"x = 'abcd'\",\n",
       " '_i31': \"y = 'abcd'\",\n",
       " '_i32': 'x is y',\n",
       " '_32': True,\n",
       " '_i33': \"x = 'ab d'\\ny = 'ab d'\",\n",
       " '_i34': 'x == y',\n",
       " '_34': True,\n",
       " '_i35': 'x is y',\n",
       " '_35': False,\n",
       " '_i36': \"x = intern('ab d')\\ny = intern('ab d')\",\n",
       " '_i37': \"import sys\\nx = sys.intern('ab d')\\ny = sys.intern('ab d')\",\n",
       " 'sys': <module 'sys' (built-in)>,\n",
       " '_i38': 'x is y',\n",
       " '_38': True,\n",
       " '_i39': 'x = y\\nx is y',\n",
       " '_39': True,\n",
       " '_i40': 'x = 100\\ny = x\\n\\nx = 200\\ny',\n",
       " '_40': 100,\n",
       " '_i41': \"x = {'a':1, 'b':2, 'c':3}\\ny = x\\n\\nx = {'x':100, 'y':200}\\ny\",\n",
       " '_41': {'a': 1, 'b': 2, 'c': 3},\n",
       " '_i42': \"x = {'a':1, 'b':2, 'c':3}\\ny = x\\n\\nx['d'] = 4000\\ny\",\n",
       " '_42': {'a': 1, 'b': 2, 'c': 3, 'd': 4000},\n",
       " '_i43': 'first = \\'Reuven\\'\\nlast = \\'Lerner\\'\\n\\nprint(\"Hello, \" + first + \" \" + last + \\'.  How are you?\\')',\n",
       " 'first': 'Reuven',\n",
       " 'last': 'Lerner',\n",
       " '_i44': \"print(f'Hello, {first} {last}.  How are you?')\",\n",
       " '_i45': \"number = 100\\n\\nprint(f'{name}, your number is {number}')\",\n",
       " 'number': 100,\n",
       " '_i46': \"number = 100\\n\\nprint(f'{first}, your number is {number}')\",\n",
       " '_i47': \"print(f'{first}, your number * 3 is {number*3}')\",\n",
       " '_i48': 'mylist = [10, 20, 30, 40, 50]\\n\\n30 in mylist',\n",
       " 'mylist': [10, 20, 30, 40, 50],\n",
       " '_48': True,\n",
       " '_i49': 'mylist = [10, 20, 30, 40, 50]\\n\\n30 in mylist   # O(n)',\n",
       " '_49': True,\n",
       " '_i50': '30 in 100',\n",
       " '_i51': \"d = {'a':1, 'b':2, 'c':3, 'd':4}\\n\\n'c' in d\",\n",
       " 'd': {'a': 1, 'bcd': 2345, 'ef': 67890, 'g': 1234},\n",
       " '_51': True,\n",
       " '_i52': \"d = {}\\nd['a'] = 1  \",\n",
       " '_i53': \"hash('a')\",\n",
       " '_53': -8524206456043343855,\n",
       " '_i54': \"hash('a') % 8\",\n",
       " '_54': 1,\n",
       " '_i55': \"d['b'] = 2\\nhash('b') % 8\",\n",
       " '_55': 1,\n",
       " '_i56': 'd = {}',\n",
       " '_i57': \"d['a'] = 1\",\n",
       " '_i58': \"hash('a') % 8\",\n",
       " '_58': 1,\n",
       " '_i59': \"'a' in d\",\n",
       " '_59': True,\n",
       " '_i60': \"d['x'] = 2\\nhash('x') % 8\",\n",
       " '_60': 2,\n",
       " '_i61': \"d.pop('a')\",\n",
       " '_61': 1,\n",
       " '_i62': \"d['a'] = 999\\nd.keys()\",\n",
       " '_62': dict_keys(['x', 'a', 'q']),\n",
       " '_i63': 'd[mylist] = 100',\n",
       " '_i64': '# github.com/reuven/radware-0120',\n",
       " '_i65': \"bool('abcd')\",\n",
       " '_65': True,\n",
       " '_i66': \"bool('')\",\n",
       " '_66': False,\n",
       " '_i67': \"int('123')\",\n",
       " '_67': 123,\n",
       " '_i68': \"float('123')\",\n",
       " '_68': 123.0,\n",
       " '_i69': 'bool([10, 20, 30])',\n",
       " '_69': True,\n",
       " '_i70': 'bool([])',\n",
       " '_70': False,\n",
       " '_i71': 'bool(d)',\n",
       " '_71': True,\n",
       " '_i72': 'bool({})',\n",
       " '_72': False,\n",
       " '_i73': 'd = {\\'a\\':1, \\'b\\':2, \\'c\\':3}\\n\\nwhile key = input(\"Enter key: \").strip():\\n\\n    if key in d:\\n        print(f\\'d[{key}] == {d[key]}\\')\\n        \\n    else:\\n        print(f\\'{key} is not a key in d\\')',\n",
       " '_i74': 'd',\n",
       " '_74': {'x': 2, 'a': 999, 'q': 200},\n",
       " '_i75': \"d['q']\",\n",
       " '_i76': \"d.get('q') # if 'q' in d, d['q'] else None\",\n",
       " '_i77': \"d.get('q', 'abcd') # if 'q' in d, d['q'] else 'abcd'\",\n",
       " '_77': 'abcd',\n",
       " '_i78': 'd',\n",
       " '_78': {'x': 2, 'a': 999, 'q': 200},\n",
       " '_i79': \"d.setdefault('q', 100)\",\n",
       " '_79': 100,\n",
       " '_i80': 'd',\n",
       " '_80': {'x': 2, 'a': 999, 'q': 200},\n",
       " '_i81': \"d['q'] = 200\",\n",
       " '_i82': \"d = {'a':1, 'b';2, 'c':3}\\nd.setdefault('q', 100)\",\n",
       " '_i83': \"d = {'a':1, 'b':2, 'c':3}\\nd.setdefault('q', 100)\",\n",
       " '_83': 100,\n",
       " '_i84': 'd',\n",
       " '_84': {'a': 1, 'b': 2, 'c': 3, 'q': 100},\n",
       " '_i85': \"d.setdefault('q', 200)\",\n",
       " '_85': 100,\n",
       " '_i86': 'rainfall = {}\\nwhile True:\\n    city_name = input(\"Enter city: \").strip()\\n    if not city_name:\\n        break\\n        \\n    mm_rain = input(\"Enter mm rain: \").strip()\\n    rainfall[city_name] = mm_rain\\n    \\nprint(rainfall)',\n",
       " 'rainfall': {'a': 12, 'b': 6},\n",
       " 'city_name': '',\n",
       " 'mm_rain': 7,\n",
       " '_i87': 'rainfall = {}\\nwhile True:\\n    city_name = input(\"Enter city: \").strip()\\n    if not city_name:\\n        break\\n        \\n    mm_rain = input(\"Enter mm rain: \").strip()\\n    rainfall[city_name] += mm_rain\\n    \\nprint(rainfall)',\n",
       " '_i88': 'rainfall = {}\\nwhile True:\\n    city_name = input(\"Enter city: \").strip()\\n    if not city_name:\\n        break\\n        \\n    mm_rain = input(\"Enter mm rain: \").strip()\\n    if city_name in rainfall:\\n        rainfall[city_name] += mm_rain\\n    else:\\n        rainfall[city_name] = mm_rain\\n    \\nprint(rainfall)',\n",
       " '_i89': 'rainfall = {}\\nwhile True:\\n    city_name = input(\"Enter city: \").strip()\\n    if not city_name:\\n        break\\n        \\n    mm_rain = input(\"Enter mm rain: \").strip()\\n    mm_rain = int(mm_rain)\\n    \\n    if city_name in rainfall:\\n        rainfall[city_name] += mm_rain\\n    else:\\n        rainfall[city_name] = mm_rain\\n    \\nprint(rainfall)',\n",
       " '_i90': 'rainfall = {}\\nwhile True:\\n    city_name = input(\"Enter city: \").strip()\\n    if not city_name:\\n        break\\n        \\n    mm_rain = input(\"Enter mm rain: \").strip()\\n    mm_rain = int(mm_rain)\\n    \\n    rainfall[city_name] = rainfall.get(city_name, 0) + mm_rain\\n    \\nprint(rainfall)',\n",
       " '_i91': 'rainfall = {}\\nwhile True:\\n    city_name = input(\"Enter city: \").strip()\\n    if not city_name:\\n        break\\n        \\n    mm_rain = input(\"Enter mm rain: \").strip()\\n    mm_rain = int(mm_rain)\\n    \\n    rainfall[city_name] = rainfall.get(city_name, 0) + mm_rain\\n    \\nfor one_item in rainfall:\\n    print(one_item)',\n",
       " 'one_item': ('b', 6),\n",
       " '_i92': 'for one_item in rainfall:\\n    print(one_item)',\n",
       " '_i93': \"for key in rainfall:\\n    print(f'{key}: {rainfall[key]}')\",\n",
       " 'key': 'g',\n",
       " '_i94': \"for key, value in rainfall.items():\\n    print(f'{key}: {value}')\",\n",
       " 'value': 1234,\n",
       " '_i95': 'for one_item in rainfall.items():\\n    print(one_item)',\n",
       " '_i96': 'mylist = [10, 20, 30]\\na = mylist\\n\\na',\n",
       " 'a': 10,\n",
       " '_96': [10, 20, 30],\n",
       " '_i97': 'a,b,c = mylist\\na',\n",
       " 'b': [20, 30, 40],\n",
       " 'c': 50,\n",
       " '_97': 10,\n",
       " '_i98': 'b',\n",
       " '_98': 20,\n",
       " '_i99': 'c',\n",
       " '_99': 30,\n",
       " '_i100': 'mylist = [10, 20, 30, 40, 50]\\na,b = mylist',\n",
       " '_i101': 'mylist = [10, 20, 30, 40, 50]\\na,*b = mylist',\n",
       " '_i102': 'a',\n",
       " '_102': 10,\n",
       " '_i103': 'b',\n",
       " '_103': [20, 30, 40, 50],\n",
       " '_i104': 'a,*b, c = mylist',\n",
       " '_i105': 'a',\n",
       " '_105': 10,\n",
       " '_i106': 'b',\n",
       " '_106': [20, 30, 40],\n",
       " '_i107': 'c',\n",
       " '_107': 50,\n",
       " '_i108': 'a,*b,*c,d',\n",
       " '_i109': 'a,*b,*c,d = mylist',\n",
       " '_i110': \"d = {'a':1, 'bcd':2345, 'ef':67890, 'g':1234}\",\n",
       " '_i111': \"for key, value in d.items():\\n    print(f'{key}:{value}')\",\n",
       " '_i112': \"for key, value in d.items():\\n    print(f'{key:10}:{value:5}')\",\n",
       " '_i113': \"for key, value in d.items():\\n    print(f'{key:.<10}:{value:.>5}')\",\n",
       " '_i114': \"for key, value in d.items():\\n    print(f'{key:10}:{value:5}')\",\n",
       " '_i115': \"for key, value in d.items():\\n    print(f'{key:.<10}:{value:.>5}')\",\n",
       " '_i116': \"for key, value in d.items():\\n    print(f'{key:.<10}{value:.>5}')\",\n",
       " '_i117': \"n = 10\\nfor key, value in d.items():\\n    print(f'{key:.<n}{value:.>5}')\",\n",
       " 'n': 10,\n",
       " '_i118': \"for key, value in d.items():\\n    print(f'{key:.<3}{value:.>5}')\",\n",
       " '_i119': \"for key, value in d.items():\\n    print(f'{key:.<2}{value:.>5}')\",\n",
       " '_i120': \"for key, value in d.items():\\n    print(f'{key:.<2.5}{value:.>5}')\",\n",
       " '_i121': \"for key, value in d.items():\\n    print(f'{key:.<5}{value:.>5}')\",\n",
       " '_i122': 'globals()'}"
      ]
     },
     "execution_count": 122,
     "metadata": {},
     "output_type": "execute_result"
    }
   ],
   "source": [
    "globals()"
   ]
  },
  {
   "cell_type": "code",
   "execution_count": 123,
   "metadata": {},
   "outputs": [],
   "source": [
    "x = 100\n",
    "y = 'abcd'"
   ]
  },
  {
   "cell_type": "code",
   "execution_count": 124,
   "metadata": {},
   "outputs": [
    {
     "data": {
      "text/plain": [
       "100"
      ]
     },
     "execution_count": 124,
     "metadata": {},
     "output_type": "execute_result"
    }
   ],
   "source": [
    "globals()['x']"
   ]
  },
  {
   "cell_type": "code",
   "execution_count": 125,
   "metadata": {},
   "outputs": [
    {
     "data": {
      "text/plain": [
       "'abcd'"
      ]
     },
     "execution_count": 125,
     "metadata": {},
     "output_type": "execute_result"
    }
   ],
   "source": [
    "globals()['y']"
   ]
  },
  {
   "cell_type": "code",
   "execution_count": 126,
   "metadata": {},
   "outputs": [],
   "source": [
    "globals()['x'] = 234\n"
   ]
  },
  {
   "cell_type": "code",
   "execution_count": 127,
   "metadata": {},
   "outputs": [
    {
     "data": {
      "text/plain": [
       "234"
      ]
     },
     "execution_count": 127,
     "metadata": {},
     "output_type": "execute_result"
    }
   ],
   "source": [
    "x"
   ]
  },
  {
   "cell_type": "code",
   "execution_count": 128,
   "metadata": {},
   "outputs": [],
   "source": [
    "from collections import defaultdict"
   ]
  },
  {
   "cell_type": "code",
   "execution_count": 129,
   "metadata": {},
   "outputs": [
    {
     "ename": "TypeError",
     "evalue": "first argument must be callable or None",
     "output_type": "error",
     "traceback": [
      "\u001b[0;31m---------------------------------------------------------------------------\u001b[0m",
      "\u001b[0;31mTypeError\u001b[0m                                 Traceback (most recent call last)",
      "\u001b[0;32m<ipython-input-129-1a0559a5ed93>\u001b[0m in \u001b[0;36m<module>\u001b[0;34m\u001b[0m\n\u001b[0;32m----> 1\u001b[0;31m \u001b[0md\u001b[0m \u001b[0;34m=\u001b[0m \u001b[0mdefaultdict\u001b[0m\u001b[0;34m(\u001b[0m\u001b[0;36m0\u001b[0m\u001b[0;34m)\u001b[0m\u001b[0;34m\u001b[0m\u001b[0;34m\u001b[0m\u001b[0m\n\u001b[0m",
      "\u001b[0;31mTypeError\u001b[0m: first argument must be callable or None"
     ]
    }
   ],
   "source": [
    "d = defaultdict(0)"
   ]
  },
  {
   "cell_type": "code",
   "execution_count": 130,
   "metadata": {},
   "outputs": [
    {
     "ename": "TypeError",
     "evalue": "'int' object is not callable",
     "output_type": "error",
     "traceback": [
      "\u001b[0;31m---------------------------------------------------------------------------\u001b[0m",
      "\u001b[0;31mTypeError\u001b[0m                                 Traceback (most recent call last)",
      "\u001b[0;32m<ipython-input-130-ff591aca5d46>\u001b[0m in \u001b[0;36m<module>\u001b[0;34m\u001b[0m\n\u001b[1;32m      1\u001b[0m \u001b[0mx\u001b[0m \u001b[0;34m=\u001b[0m \u001b[0;36m5\u001b[0m\u001b[0;34m\u001b[0m\u001b[0;34m\u001b[0m\u001b[0m\n\u001b[0;32m----> 2\u001b[0;31m \u001b[0mx\u001b[0m\u001b[0;34m(\u001b[0m\u001b[0;34m)\u001b[0m\u001b[0;34m\u001b[0m\u001b[0;34m\u001b[0m\u001b[0m\n\u001b[0m",
      "\u001b[0;31mTypeError\u001b[0m: 'int' object is not callable"
     ]
    }
   ],
   "source": [
    "x = 5\n",
    "x()"
   ]
  },
  {
   "cell_type": "code",
   "execution_count": 131,
   "metadata": {},
   "outputs": [
    {
     "data": {
      "text/plain": [
       "False"
      ]
     },
     "execution_count": 131,
     "metadata": {},
     "output_type": "execute_result"
    }
   ],
   "source": [
    "callable(x)"
   ]
  },
  {
   "cell_type": "code",
   "execution_count": 132,
   "metadata": {},
   "outputs": [
    {
     "data": {
      "text/plain": [
       "True"
      ]
     },
     "execution_count": 132,
     "metadata": {},
     "output_type": "execute_result"
    }
   ],
   "source": [
    "callable(callable)"
   ]
  },
  {
   "cell_type": "code",
   "execution_count": 133,
   "metadata": {},
   "outputs": [],
   "source": [
    "d = defaultdict(int)"
   ]
  },
  {
   "cell_type": "code",
   "execution_count": 134,
   "metadata": {},
   "outputs": [
    {
     "data": {
      "text/plain": [
       "0"
      ]
     },
     "execution_count": 134,
     "metadata": {},
     "output_type": "execute_result"
    }
   ],
   "source": [
    "int()"
   ]
  },
  {
   "cell_type": "code",
   "execution_count": 135,
   "metadata": {},
   "outputs": [
    {
     "data": {
      "text/plain": [
       "''"
      ]
     },
     "execution_count": 135,
     "metadata": {},
     "output_type": "execute_result"
    }
   ],
   "source": [
    "str()"
   ]
  },
  {
   "cell_type": "code",
   "execution_count": 136,
   "metadata": {},
   "outputs": [
    {
     "data": {
      "text/plain": [
       "[]"
      ]
     },
     "execution_count": 136,
     "metadata": {},
     "output_type": "execute_result"
    }
   ],
   "source": [
    "list()"
   ]
  },
  {
   "cell_type": "code",
   "execution_count": 137,
   "metadata": {},
   "outputs": [
    {
     "data": {
      "text/plain": [
       "()"
      ]
     },
     "execution_count": 137,
     "metadata": {},
     "output_type": "execute_result"
    }
   ],
   "source": [
    "tuple()"
   ]
  },
  {
   "cell_type": "code",
   "execution_count": 138,
   "metadata": {},
   "outputs": [
    {
     "data": {
      "text/plain": [
       "{}"
      ]
     },
     "execution_count": 138,
     "metadata": {},
     "output_type": "execute_result"
    }
   ],
   "source": [
    "dict()"
   ]
  },
  {
   "cell_type": "code",
   "execution_count": 139,
   "metadata": {},
   "outputs": [
    {
     "data": {
      "text/plain": [
       "0"
      ]
     },
     "execution_count": 139,
     "metadata": {},
     "output_type": "execute_result"
    }
   ],
   "source": [
    "d = defaultdict(int)\n",
    "d['a']"
   ]
  },
  {
   "cell_type": "code",
   "execution_count": 140,
   "metadata": {},
   "outputs": [],
   "source": [
    "d['b'] += 10"
   ]
  },
  {
   "cell_type": "code",
   "execution_count": 141,
   "metadata": {},
   "outputs": [
    {
     "data": {
      "text/plain": [
       "defaultdict(int, {'a': 0, 'b': 10})"
      ]
     },
     "execution_count": 141,
     "metadata": {},
     "output_type": "execute_result"
    }
   ],
   "source": [
    "d"
   ]
  },
  {
   "cell_type": "code",
   "execution_count": 142,
   "metadata": {},
   "outputs": [
    {
     "data": {
      "text/plain": [
       "1578217731.774465"
      ]
     },
     "execution_count": 142,
     "metadata": {},
     "output_type": "execute_result"
    }
   ],
   "source": [
    "import time\n",
    "time.time()"
   ]
  },
  {
   "cell_type": "code",
   "execution_count": 143,
   "metadata": {},
   "outputs": [],
   "source": [
    "d = defaultdict(time.time)"
   ]
  },
  {
   "cell_type": "code",
   "execution_count": 144,
   "metadata": {},
   "outputs": [
    {
     "data": {
      "text/plain": [
       "1578217745.5075781"
      ]
     },
     "execution_count": 144,
     "metadata": {},
     "output_type": "execute_result"
    }
   ],
   "source": [
    "d['a']"
   ]
  },
  {
   "cell_type": "code",
   "execution_count": 145,
   "metadata": {},
   "outputs": [
    {
     "data": {
      "text/plain": [
       "1578217746.952878"
      ]
     },
     "execution_count": 145,
     "metadata": {},
     "output_type": "execute_result"
    }
   ],
   "source": [
    "d['b']"
   ]
  },
  {
   "cell_type": "code",
   "execution_count": 146,
   "metadata": {},
   "outputs": [
    {
     "data": {
      "text/plain": [
       "1578217747.863679"
      ]
     },
     "execution_count": 146,
     "metadata": {},
     "output_type": "execute_result"
    }
   ],
   "source": [
    "d['c']"
   ]
  },
  {
   "cell_type": "code",
   "execution_count": null,
   "metadata": {},
   "outputs": [],
   "source": [
    "Went to: Chicago, USA\n",
    "Went to: Boston, USA\n",
    "Went to: Beijing, China\n",
    "Went to: Shanghai, China\n",
    "Went to: <enter>\n",
    "    \n",
    "{'USA': ['Chicago', 'Boston'],\n",
    " 'China': ['Beijing', 'Shanghai']}    \n",
    "\n",
    "USA\n",
    "    Chicago\n",
    "    Boston\n",
    "China\n",
    "    Beijing\n",
    "    Shanghai\n",
    "    "
   ]
  },
  {
   "cell_type": "code",
   "execution_count": 147,
   "metadata": {},
   "outputs": [
    {
     "name": "stdout",
     "output_type": "stream",
     "text": [
      "Where did you go: Chicago, USA\n",
      "Where did you go: Boston, USA\n",
      "Where did you go: Beijing, China\n",
      "Where did you go: Shanghai, China\n",
      "Where did you go: \n"
     ]
    }
   ],
   "source": [
    "# github.com/reuven/radware-0120\n",
    "\n",
    "from collections import defaultdict\n",
    "all_places = defaultdict(list)\n",
    "\n",
    "while True:\n",
    "    one_place = input(\"Where did you go: \").strip()\n",
    "    \n",
    "    if not one_place:\n",
    "        break\n",
    "        \n",
    "    if one_place.count(',') != 1:\n",
    "        print(\"Use city, country\")\n",
    "        continue\n",
    "        \n",
    "    one_city, one_country = one_place.split(',')\n",
    "    all_places[one_country.strip()].append(one_city.strip())\n",
    "    \n"
   ]
  },
  {
   "cell_type": "code",
   "execution_count": 148,
   "metadata": {},
   "outputs": [
    {
     "data": {
      "text/plain": [
       "defaultdict(list,\n",
       "            {'USA': ['Chicago', 'Boston'], 'China': ['Beijing', 'Shanghai']})"
      ]
     },
     "execution_count": 148,
     "metadata": {},
     "output_type": "execute_result"
    }
   ],
   "source": [
    "all_places"
   ]
  },
  {
   "cell_type": "code",
   "execution_count": 153,
   "metadata": {},
   "outputs": [
    {
     "name": "stdout",
     "output_type": "stream",
     "text": [
      "China\n",
      "\tBeijing\n",
      "\tShanghai\n",
      "USA\n",
      "\tBoston\n",
      "\tChicago\n"
     ]
    }
   ],
   "source": [
    "for one_country, all_cities in sorted(all_places.items()):\n",
    "    print(one_country)\n",
    "    for one_city in sorted(all_cities):\n",
    "        print(f'\\t{one_city}')"
   ]
  },
  {
   "cell_type": "code",
   "execution_count": 154,
   "metadata": {},
   "outputs": [],
   "source": [
    "from collections import OrderedDict"
   ]
  },
  {
   "cell_type": "code",
   "execution_count": 155,
   "metadata": {},
   "outputs": [],
   "source": [
    "from collections import Counter"
   ]
  },
  {
   "cell_type": "code",
   "execution_count": 156,
   "metadata": {},
   "outputs": [
    {
     "data": {
      "text/plain": [
       "Counter({'a': 12, 'b': 10, 'c': 6})"
      ]
     },
     "execution_count": 156,
     "metadata": {},
     "output_type": "execute_result"
    }
   ],
   "source": [
    "c = Counter()\n",
    "c['a'] += 5\n",
    "c['b'] += 10\n",
    "c['a'] += 7\n",
    "c['c'] += 6\n",
    "\n",
    "c"
   ]
  },
  {
   "cell_type": "code",
   "execution_count": 157,
   "metadata": {},
   "outputs": [
    {
     "data": {
      "text/plain": [
       "Counter({10: 1, 20: 4, 30: 4, 40: 2, 50: 1})"
      ]
     },
     "execution_count": 157,
     "metadata": {},
     "output_type": "execute_result"
    }
   ],
   "source": [
    "c = Counter([10, 20, 30, 20, 30, 40, 20, 30, 40, 50, 30, 20])\n",
    "c"
   ]
  },
  {
   "cell_type": "code",
   "execution_count": 158,
   "metadata": {},
   "outputs": [
    {
     "data": {
      "text/plain": [
       "Counter({'this': 2,\n",
       "         'is': 2,\n",
       "         'a': 1,\n",
       "         'bunch': 2,\n",
       "         'of': 2,\n",
       "         'words': 4,\n",
       "         'and': 2,\n",
       "         'are': 1})"
      ]
     },
     "execution_count": 158,
     "metadata": {},
     "output_type": "execute_result"
    }
   ],
   "source": [
    "words = 'this is a bunch of words and bunch of words is this and words are words'.split()\n",
    "Counter(words)"
   ]
  },
  {
   "cell_type": "code",
   "execution_count": 159,
   "metadata": {},
   "outputs": [
    {
     "name": "stdout",
     "output_type": "stream",
     "text": [
      "this: 2\n",
      "is: 2\n",
      "a: 1\n",
      "bunch: 2\n",
      "of: 2\n",
      "words: 4\n",
      "and: 2\n",
      "are: 1\n"
     ]
    }
   ],
   "source": [
    "c = Counter(words)\n",
    "\n",
    "for key, value in c.items():\n",
    "    print(f'{key}: {value}')"
   ]
  },
  {
   "cell_type": "code",
   "execution_count": 160,
   "metadata": {},
   "outputs": [
    {
     "data": {
      "text/plain": [
       "[('words', 4),\n",
       " ('this', 2),\n",
       " ('is', 2),\n",
       " ('bunch', 2),\n",
       " ('of', 2),\n",
       " ('and', 2),\n",
       " ('a', 1),\n",
       " ('are', 1)]"
      ]
     },
     "execution_count": 160,
     "metadata": {},
     "output_type": "execute_result"
    }
   ],
   "source": [
    "c.most_common()"
   ]
  },
  {
   "cell_type": "code",
   "execution_count": 161,
   "metadata": {},
   "outputs": [
    {
     "data": {
      "text/plain": [
       "[('words', 4), ('this', 2), ('is', 2)]"
      ]
     },
     "execution_count": 161,
     "metadata": {},
     "output_type": "execute_result"
    }
   ],
   "source": [
    "c.most_common(3)"
   ]
  },
  {
   "cell_type": "code",
   "execution_count": 162,
   "metadata": {},
   "outputs": [
    {
     "data": {
      "text/plain": [
       "'Reuven'"
      ]
     },
     "execution_count": 162,
     "metadata": {},
     "output_type": "execute_result"
    }
   ],
   "source": [
    "person = {'first':'Reuven', 'last':'Lerner',\n",
    "         'shoesize':46}\n",
    "\n",
    "person['first']"
   ]
  },
  {
   "cell_type": "code",
   "execution_count": 163,
   "metadata": {},
   "outputs": [
    {
     "data": {
      "text/plain": [
       "'Reuven'"
      ]
     },
     "execution_count": 163,
     "metadata": {},
     "output_type": "execute_result"
    }
   ],
   "source": [
    "person = ('Reuven', 'Lerner', 46)\n",
    "\n",
    "person[0]"
   ]
  },
  {
   "cell_type": "code",
   "execution_count": 164,
   "metadata": {},
   "outputs": [
    {
     "data": {
      "text/plain": [
       "'Lerner'"
      ]
     },
     "execution_count": 164,
     "metadata": {},
     "output_type": "execute_result"
    }
   ],
   "source": [
    "person[1]"
   ]
  },
  {
   "cell_type": "code",
   "execution_count": 165,
   "metadata": {},
   "outputs": [
    {
     "data": {
      "text/plain": [
       "46"
      ]
     },
     "execution_count": 165,
     "metadata": {},
     "output_type": "execute_result"
    }
   ],
   "source": [
    "person[2]"
   ]
  },
  {
   "cell_type": "code",
   "execution_count": 166,
   "metadata": {},
   "outputs": [],
   "source": [
    "from collections import namedtuple"
   ]
  },
  {
   "cell_type": "code",
   "execution_count": 167,
   "metadata": {},
   "outputs": [],
   "source": [
    "Person = namedtuple('Person', ['first', 'last', 'shoesize'])"
   ]
  },
  {
   "cell_type": "code",
   "execution_count": 168,
   "metadata": {},
   "outputs": [
    {
     "data": {
      "text/plain": [
       "'Reuven'"
      ]
     },
     "execution_count": 168,
     "metadata": {},
     "output_type": "execute_result"
    }
   ],
   "source": [
    "p = Person('Reuven', 'Lerner', 46)\n",
    "p.first"
   ]
  },
  {
   "cell_type": "code",
   "execution_count": 169,
   "metadata": {},
   "outputs": [
    {
     "data": {
      "text/plain": [
       "'Lerner'"
      ]
     },
     "execution_count": 169,
     "metadata": {},
     "output_type": "execute_result"
    }
   ],
   "source": [
    "p.last"
   ]
  },
  {
   "cell_type": "code",
   "execution_count": 170,
   "metadata": {},
   "outputs": [
    {
     "data": {
      "text/plain": [
       "46"
      ]
     },
     "execution_count": 170,
     "metadata": {},
     "output_type": "execute_result"
    }
   ],
   "source": [
    "p.shoesize"
   ]
  },
  {
   "cell_type": "code",
   "execution_count": 171,
   "metadata": {},
   "outputs": [
    {
     "ename": "AttributeError",
     "evalue": "can't set attribute",
     "output_type": "error",
     "traceback": [
      "\u001b[0;31m---------------------------------------------------------------------------\u001b[0m",
      "\u001b[0;31mAttributeError\u001b[0m                            Traceback (most recent call last)",
      "\u001b[0;32m<ipython-input-171-58c4bc19fee0>\u001b[0m in \u001b[0;36m<module>\u001b[0;34m\u001b[0m\n\u001b[0;32m----> 1\u001b[0;31m \u001b[0mp\u001b[0m\u001b[0;34m.\u001b[0m\u001b[0mshoesize\u001b[0m \u001b[0;34m=\u001b[0m \u001b[0;36m47\u001b[0m\u001b[0;34m\u001b[0m\u001b[0;34m\u001b[0m\u001b[0m\n\u001b[0m",
      "\u001b[0;31mAttributeError\u001b[0m: can't set attribute"
     ]
    }
   ],
   "source": [
    "p.shoesize = 47"
   ]
  },
  {
   "cell_type": "code",
   "execution_count": 172,
   "metadata": {},
   "outputs": [
    {
     "data": {
      "text/plain": [
       "46"
      ]
     },
     "execution_count": 172,
     "metadata": {},
     "output_type": "execute_result"
    }
   ],
   "source": [
    "p[2]"
   ]
  },
  {
   "cell_type": "code",
   "execution_count": 173,
   "metadata": {},
   "outputs": [
    {
     "data": {
      "text/plain": [
       "Person(first='Reuven', last='Lerner', shoesize=47)"
      ]
     },
     "execution_count": 173,
     "metadata": {},
     "output_type": "execute_result"
    }
   ],
   "source": [
    "p._replace(shoesize=47)"
   ]
  },
  {
   "cell_type": "code",
   "execution_count": 174,
   "metadata": {},
   "outputs": [],
   "source": [
    "p2 = p._replace(shoesize=47)"
   ]
  },
  {
   "cell_type": "code",
   "execution_count": 175,
   "metadata": {},
   "outputs": [],
   "source": [
    "t = (10, 20, 30)"
   ]
  },
  {
   "cell_type": "code",
   "execution_count": 176,
   "metadata": {},
   "outputs": [
    {
     "data": {
      "text/plain": [
       "(100, 200, 300)"
      ]
     },
     "execution_count": 176,
     "metadata": {},
     "output_type": "execute_result"
    }
   ],
   "source": [
    "t = (100, 200, 300)\n",
    "t"
   ]
  },
  {
   "cell_type": "code",
   "execution_count": 177,
   "metadata": {},
   "outputs": [
    {
     "data": {
      "text/plain": [
       "(100, 200, 300, 400, 500)"
      ]
     },
     "execution_count": 177,
     "metadata": {},
     "output_type": "execute_result"
    }
   ],
   "source": [
    "t += (400, 500)\n",
    "t"
   ]
  },
  {
   "cell_type": "code",
   "execution_count": 178,
   "metadata": {},
   "outputs": [],
   "source": [
    "t = ([10, 20, 30],\n",
    "    [100, 200, 300])"
   ]
  },
  {
   "cell_type": "code",
   "execution_count": 179,
   "metadata": {},
   "outputs": [
    {
     "data": {
      "text/plain": [
       "([10, 20, 30, 40], [100, 200, 300])"
      ]
     },
     "execution_count": 179,
     "metadata": {},
     "output_type": "execute_result"
    }
   ],
   "source": [
    "t[0].append(40)\n",
    "t"
   ]
  },
  {
   "cell_type": "code",
   "execution_count": 180,
   "metadata": {},
   "outputs": [
    {
     "ename": "TypeError",
     "evalue": "'tuple' object does not support item assignment",
     "output_type": "error",
     "traceback": [
      "\u001b[0;31m---------------------------------------------------------------------------\u001b[0m",
      "\u001b[0;31mTypeError\u001b[0m                                 Traceback (most recent call last)",
      "\u001b[0;32m<ipython-input-180-2b735d214ecc>\u001b[0m in \u001b[0;36m<module>\u001b[0;34m\u001b[0m\n\u001b[0;32m----> 1\u001b[0;31m \u001b[0mt\u001b[0m\u001b[0;34m[\u001b[0m\u001b[0;36m0\u001b[0m\u001b[0;34m]\u001b[0m \u001b[0;34m+=\u001b[0m \u001b[0;34m[\u001b[0m\u001b[0;36m50\u001b[0m\u001b[0;34m,\u001b[0m \u001b[0;36m60\u001b[0m\u001b[0;34m,\u001b[0m \u001b[0;36m70\u001b[0m\u001b[0;34m]\u001b[0m\u001b[0;34m\u001b[0m\u001b[0;34m\u001b[0m\u001b[0m\n\u001b[0m",
      "\u001b[0;31mTypeError\u001b[0m: 'tuple' object does not support item assignment"
     ]
    }
   ],
   "source": [
    "t[0] += [50, 60, 70]"
   ]
  },
  {
   "cell_type": "code",
   "execution_count": 181,
   "metadata": {},
   "outputs": [
    {
     "data": {
      "text/plain": [
       "([10, 20, 30, 40, 50, 60, 70], [100, 200, 300])"
      ]
     },
     "execution_count": 181,
     "metadata": {},
     "output_type": "execute_result"
    }
   ],
   "source": [
    "t"
   ]
  },
  {
   "cell_type": "code",
   "execution_count": 182,
   "metadata": {},
   "outputs": [
    {
     "data": {
      "text/plain": [
       "10"
      ]
     },
     "execution_count": 182,
     "metadata": {},
     "output_type": "execute_result"
    }
   ],
   "source": [
    "t[0][0]\n"
   ]
  },
  {
   "cell_type": "code",
   "execution_count": 183,
   "metadata": {},
   "outputs": [
    {
     "data": {
      "text/plain": [
       "(['!!!', 20, 30, 40, 50, 60, 70], [100, 200, 300])"
      ]
     },
     "execution_count": 183,
     "metadata": {},
     "output_type": "execute_result"
    }
   ],
   "source": [
    "t[0][0] = '!!!'\n",
    "t"
   ]
  },
  {
   "cell_type": "code",
   "execution_count": 184,
   "metadata": {},
   "outputs": [
    {
     "data": {
      "text/plain": [
       "'ABCD'"
      ]
     },
     "execution_count": 184,
     "metadata": {},
     "output_type": "execute_result"
    }
   ],
   "source": [
    "s = 'abcd'\n",
    "s.upper() "
   ]
  },
  {
   "cell_type": "code",
   "execution_count": 185,
   "metadata": {},
   "outputs": [
    {
     "data": {
      "text/plain": [
       "str"
      ]
     },
     "execution_count": 185,
     "metadata": {},
     "output_type": "execute_result"
    }
   ],
   "source": [
    "x = s.upper()\n",
    "type(x)"
   ]
  },
  {
   "cell_type": "code",
   "execution_count": 186,
   "metadata": {},
   "outputs": [
    {
     "data": {
      "text/plain": [
       "'ABCD'"
      ]
     },
     "execution_count": 186,
     "metadata": {},
     "output_type": "execute_result"
    }
   ],
   "source": [
    "x"
   ]
  },
  {
   "cell_type": "code",
   "execution_count": 187,
   "metadata": {},
   "outputs": [],
   "source": [
    "x = s.upper"
   ]
  },
  {
   "cell_type": "code",
   "execution_count": 188,
   "metadata": {},
   "outputs": [
    {
     "data": {
      "text/plain": [
       "builtin_function_or_method"
      ]
     },
     "execution_count": 188,
     "metadata": {},
     "output_type": "execute_result"
    }
   ],
   "source": [
    "type(x)"
   ]
  },
  {
   "cell_type": "code",
   "execution_count": 189,
   "metadata": {},
   "outputs": [
    {
     "data": {
      "text/plain": [
       "<function str.upper()>"
      ]
     },
     "execution_count": 189,
     "metadata": {},
     "output_type": "execute_result"
    }
   ],
   "source": [
    "x"
   ]
  },
  {
   "cell_type": "code",
   "execution_count": 190,
   "metadata": {},
   "outputs": [
    {
     "data": {
      "text/plain": [
       "'ABCD'"
      ]
     },
     "execution_count": 190,
     "metadata": {},
     "output_type": "execute_result"
    }
   ],
   "source": [
    "x()"
   ]
  },
  {
   "cell_type": "code",
   "execution_count": 191,
   "metadata": {},
   "outputs": [
    {
     "data": {
      "text/plain": [
       "'ABCD'"
      ]
     },
     "execution_count": 191,
     "metadata": {},
     "output_type": "execute_result"
    }
   ],
   "source": [
    "s.upper()"
   ]
  },
  {
   "cell_type": "code",
   "execution_count": 192,
   "metadata": {},
   "outputs": [
    {
     "data": {
      "text/plain": [
       "'ABCD'"
      ]
     },
     "execution_count": 192,
     "metadata": {},
     "output_type": "execute_result"
    }
   ],
   "source": [
    "str.upper(s)"
   ]
  },
  {
   "cell_type": "code",
   "execution_count": 193,
   "metadata": {},
   "outputs": [],
   "source": [
    "x = str.upper"
   ]
  },
  {
   "cell_type": "code",
   "execution_count": 194,
   "metadata": {},
   "outputs": [
    {
     "data": {
      "text/plain": [
       "<method 'upper' of 'str' objects>"
      ]
     },
     "execution_count": 194,
     "metadata": {},
     "output_type": "execute_result"
    }
   ],
   "source": [
    "x"
   ]
  },
  {
   "cell_type": "code",
   "execution_count": 195,
   "metadata": {},
   "outputs": [
    {
     "data": {
      "text/plain": [
       "method_descriptor"
      ]
     },
     "execution_count": 195,
     "metadata": {},
     "output_type": "execute_result"
    }
   ],
   "source": [
    "type(x)"
   ]
  },
  {
   "cell_type": "code",
   "execution_count": 196,
   "metadata": {},
   "outputs": [
    {
     "data": {
      "text/plain": [
       "'XYZ'"
      ]
     },
     "execution_count": 196,
     "metadata": {},
     "output_type": "execute_result"
    }
   ],
   "source": [
    "x('xyz')"
   ]
  },
  {
   "cell_type": "code",
   "execution_count": 197,
   "metadata": {},
   "outputs": [
    {
     "ename": "TypeError",
     "evalue": "descriptor 'upper' of 'str' object needs an argument",
     "output_type": "error",
     "traceback": [
      "\u001b[0;31m---------------------------------------------------------------------------\u001b[0m",
      "\u001b[0;31mTypeError\u001b[0m                                 Traceback (most recent call last)",
      "\u001b[0;32m<ipython-input-197-08f9d0828de0>\u001b[0m in \u001b[0;36m<module>\u001b[0;34m\u001b[0m\n\u001b[0;32m----> 1\u001b[0;31m \u001b[0mx\u001b[0m\u001b[0;34m(\u001b[0m\u001b[0;34m)\u001b[0m\u001b[0;34m\u001b[0m\u001b[0;34m\u001b[0m\u001b[0m\n\u001b[0m",
      "\u001b[0;31mTypeError\u001b[0m: descriptor 'upper' of 'str' object needs an argument"
     ]
    }
   ],
   "source": [
    "x()"
   ]
  },
  {
   "cell_type": "code",
   "execution_count": 198,
   "metadata": {},
   "outputs": [
    {
     "name": "stdout",
     "output_type": "stream",
     "text": [
      "Help on method_descriptor:\n",
      "\n",
      "upper(self, /)\n",
      "    Return a copy of the string converted to uppercase.\n",
      "\n"
     ]
    }
   ],
   "source": [
    "help(str.upper)"
   ]
  },
  {
   "cell_type": "code",
   "execution_count": 199,
   "metadata": {},
   "outputs": [],
   "source": [
    "def hello():\n",
    "    print(\"Hello!\")"
   ]
  },
  {
   "cell_type": "code",
   "execution_count": 200,
   "metadata": {},
   "outputs": [
    {
     "name": "stdout",
     "output_type": "stream",
     "text": [
      "Hello!\n"
     ]
    }
   ],
   "source": [
    "hello()"
   ]
  },
  {
   "cell_type": "code",
   "execution_count": 201,
   "metadata": {},
   "outputs": [
    {
     "ename": "TypeError",
     "evalue": "'int' object is not callable",
     "output_type": "error",
     "traceback": [
      "\u001b[0;31m---------------------------------------------------------------------------\u001b[0m",
      "\u001b[0;31mTypeError\u001b[0m                                 Traceback (most recent call last)",
      "\u001b[0;32m<ipython-input-201-e79121b5c724>\u001b[0m in \u001b[0;36m<module>\u001b[0;34m\u001b[0m\n\u001b[1;32m      1\u001b[0m \u001b[0mhello\u001b[0m \u001b[0;34m=\u001b[0m \u001b[0;36m7\u001b[0m\u001b[0;34m\u001b[0m\u001b[0;34m\u001b[0m\u001b[0m\n\u001b[1;32m      2\u001b[0m \u001b[0;34m\u001b[0m\u001b[0m\n\u001b[0;32m----> 3\u001b[0;31m \u001b[0mhello\u001b[0m\u001b[0;34m(\u001b[0m\u001b[0;34m)\u001b[0m\u001b[0;34m\u001b[0m\u001b[0;34m\u001b[0m\u001b[0m\n\u001b[0m",
      "\u001b[0;31mTypeError\u001b[0m: 'int' object is not callable"
     ]
    }
   ],
   "source": [
    "hello = 7\n",
    "\n",
    "hello()"
   ]
  },
  {
   "cell_type": "code",
   "execution_count": 202,
   "metadata": {},
   "outputs": [],
   "source": [
    "def hello():\n",
    "    print(\"Hello!\")"
   ]
  },
  {
   "cell_type": "code",
   "execution_count": 203,
   "metadata": {},
   "outputs": [
    {
     "name": "stdout",
     "output_type": "stream",
     "text": [
      "Hello!\n"
     ]
    }
   ],
   "source": [
    "hello()"
   ]
  },
  {
   "cell_type": "code",
   "execution_count": 204,
   "metadata": {},
   "outputs": [
    {
     "name": "stdout",
     "output_type": "stream",
     "text": [
      "Hello!\n"
     ]
    },
    {
     "data": {
      "text/plain": [
       "NoneType"
      ]
     },
     "execution_count": 204,
     "metadata": {},
     "output_type": "execute_result"
    }
   ],
   "source": [
    "x = hello()\n",
    "\n",
    "type(x)"
   ]
  },
  {
   "cell_type": "code",
   "execution_count": 205,
   "metadata": {},
   "outputs": [],
   "source": [
    "def hello():\n",
    "    return \"Hello!\""
   ]
  },
  {
   "cell_type": "code",
   "execution_count": 206,
   "metadata": {},
   "outputs": [
    {
     "data": {
      "text/plain": [
       "'Hello!'"
      ]
     },
     "execution_count": 206,
     "metadata": {},
     "output_type": "execute_result"
    }
   ],
   "source": [
    "hello()"
   ]
  },
  {
   "cell_type": "code",
   "execution_count": 207,
   "metadata": {},
   "outputs": [
    {
     "data": {
      "text/plain": [
       "(10, 20, 30)"
      ]
     },
     "execution_count": 207,
     "metadata": {},
     "output_type": "execute_result"
    }
   ],
   "source": [
    "def foo():\n",
    "    return (10, 20, 30)\n",
    "\n",
    "foo()"
   ]
  },
  {
   "cell_type": "code",
   "execution_count": 208,
   "metadata": {},
   "outputs": [],
   "source": [
    "x,y,z = foo()"
   ]
  },
  {
   "cell_type": "code",
   "execution_count": 209,
   "metadata": {},
   "outputs": [
    {
     "data": {
      "text/plain": [
       "10"
      ]
     },
     "execution_count": 209,
     "metadata": {},
     "output_type": "execute_result"
    }
   ],
   "source": [
    "x"
   ]
  },
  {
   "cell_type": "code",
   "execution_count": 210,
   "metadata": {},
   "outputs": [
    {
     "data": {
      "text/plain": [
       "20"
      ]
     },
     "execution_count": 210,
     "metadata": {},
     "output_type": "execute_result"
    }
   ],
   "source": [
    "y"
   ]
  },
  {
   "cell_type": "code",
   "execution_count": 211,
   "metadata": {},
   "outputs": [
    {
     "data": {
      "text/plain": [
       "30"
      ]
     },
     "execution_count": 211,
     "metadata": {},
     "output_type": "execute_result"
    }
   ],
   "source": [
    "z"
   ]
  },
  {
   "cell_type": "code",
   "execution_count": 213,
   "metadata": {},
   "outputs": [
    {
     "data": {
      "text/plain": [
       "('ok', {'status': 200, 'text': 'Hello'})"
      ]
     },
     "execution_count": 213,
     "metadata": {},
     "output_type": "execute_result"
    }
   ],
   "source": [
    "def foo():\n",
    "    return 'ok', {'status':200, 'text':'Hello'}\n",
    "\n",
    "foo()"
   ]
  },
  {
   "cell_type": "code",
   "execution_count": 214,
   "metadata": {},
   "outputs": [],
   "source": [
    "status_code, detail = foo()"
   ]
  },
  {
   "cell_type": "code",
   "execution_count": 215,
   "metadata": {},
   "outputs": [
    {
     "data": {
      "text/plain": [
       "'ok'"
      ]
     },
     "execution_count": 215,
     "metadata": {},
     "output_type": "execute_result"
    }
   ],
   "source": [
    "status_code"
   ]
  },
  {
   "cell_type": "code",
   "execution_count": 216,
   "metadata": {},
   "outputs": [
    {
     "data": {
      "text/plain": [
       "{'status': 200, 'text': 'Hello'}"
      ]
     },
     "execution_count": 216,
     "metadata": {},
     "output_type": "execute_result"
    }
   ],
   "source": [
    "detail"
   ]
  },
  {
   "cell_type": "code",
   "execution_count": 217,
   "metadata": {},
   "outputs": [],
   "source": [
    "hello??"
   ]
  },
  {
   "cell_type": "code",
   "execution_count": 218,
   "metadata": {},
   "outputs": [],
   "source": [
    "print??"
   ]
  },
  {
   "cell_type": "code",
   "execution_count": 219,
   "metadata": {},
   "outputs": [],
   "source": [
    "def hello():\n",
    "    return 'Hello'"
   ]
  },
  {
   "cell_type": "code",
   "execution_count": 220,
   "metadata": {},
   "outputs": [
    {
     "name": "stdout",
     "output_type": "stream",
     "text": [
      "Help on function hello in module __main__:\n",
      "\n",
      "hello()\n",
      "\n"
     ]
    }
   ],
   "source": [
    "help(hello)"
   ]
  },
  {
   "cell_type": "code",
   "execution_count": 221,
   "metadata": {},
   "outputs": [],
   "source": [
    "def hello():\n",
    "    '''This is the best function ever written!\n",
    "    \n",
    "    It is so friendly it deserves a two-line docstring!'''\n",
    "    return 'Hello'"
   ]
  },
  {
   "cell_type": "code",
   "execution_count": 222,
   "metadata": {},
   "outputs": [
    {
     "data": {
      "text/plain": [
       "'Hello'"
      ]
     },
     "execution_count": 222,
     "metadata": {},
     "output_type": "execute_result"
    }
   ],
   "source": [
    "hello()"
   ]
  },
  {
   "cell_type": "code",
   "execution_count": 223,
   "metadata": {},
   "outputs": [
    {
     "name": "stdout",
     "output_type": "stream",
     "text": [
      "Help on function hello in module __main__:\n",
      "\n",
      "hello()\n",
      "    This is the best function ever written!\n",
      "    \n",
      "    It is so friendly it deserves a two-line docstring!\n",
      "\n"
     ]
    }
   ],
   "source": [
    "help(hello)"
   ]
  },
  {
   "cell_type": "code",
   "execution_count": 224,
   "metadata": {},
   "outputs": [
    {
     "data": {
      "text/plain": [
       "'Hello'"
      ]
     },
     "execution_count": 224,
     "metadata": {},
     "output_type": "execute_result"
    }
   ],
   "source": [
    "hello()"
   ]
  },
  {
   "cell_type": "code",
   "execution_count": 225,
   "metadata": {},
   "outputs": [
    {
     "data": {
      "text/plain": [
       "'This is the best function ever written!\\n    \\n    It is so friendly it deserves a two-line docstring!'"
      ]
     },
     "execution_count": 225,
     "metadata": {},
     "output_type": "execute_result"
    }
   ],
   "source": [
    "hello.__doc__"
   ]
  },
  {
   "cell_type": "code",
   "execution_count": 226,
   "metadata": {},
   "outputs": [],
   "source": [
    "hello.__doc__ = 'Haha ha I hijacked your doc!'"
   ]
  },
  {
   "cell_type": "code",
   "execution_count": 227,
   "metadata": {},
   "outputs": [
    {
     "name": "stdout",
     "output_type": "stream",
     "text": [
      "Help on function hello in module __main__:\n",
      "\n",
      "hello()\n",
      "    Haha ha I hijacked your doc!\n",
      "\n"
     ]
    }
   ],
   "source": [
    "help(hello)"
   ]
  },
  {
   "cell_type": "code",
   "execution_count": 228,
   "metadata": {},
   "outputs": [
    {
     "ename": "TypeError",
     "evalue": "hello() takes 0 positional arguments but 1 was given",
     "output_type": "error",
     "traceback": [
      "\u001b[0;31m---------------------------------------------------------------------------\u001b[0m",
      "\u001b[0;31mTypeError\u001b[0m                                 Traceback (most recent call last)",
      "\u001b[0;32m<ipython-input-228-f1883085bb90>\u001b[0m in \u001b[0;36m<module>\u001b[0;34m\u001b[0m\n\u001b[0;32m----> 1\u001b[0;31m \u001b[0mhello\u001b[0m\u001b[0;34m(\u001b[0m\u001b[0;34m'world'\u001b[0m\u001b[0;34m)\u001b[0m\u001b[0;34m\u001b[0m\u001b[0;34m\u001b[0m\u001b[0m\n\u001b[0m",
      "\u001b[0;31mTypeError\u001b[0m: hello() takes 0 positional arguments but 1 was given"
     ]
    }
   ],
   "source": [
    "hello('world')"
   ]
  },
  {
   "cell_type": "code",
   "execution_count": 229,
   "metadata": {},
   "outputs": [
    {
     "data": {
      "text/plain": [
       "0"
      ]
     },
     "execution_count": 229,
     "metadata": {},
     "output_type": "execute_result"
    }
   ],
   "source": [
    "hello.__code__.co_argcount"
   ]
  },
  {
   "cell_type": "code",
   "execution_count": 230,
   "metadata": {},
   "outputs": [],
   "source": [
    "def hello(name):\n",
    "    return f'Hello, {name}'"
   ]
  },
  {
   "cell_type": "code",
   "execution_count": 231,
   "metadata": {},
   "outputs": [
    {
     "data": {
      "text/plain": [
       "'Hello, world'"
      ]
     },
     "execution_count": 231,
     "metadata": {},
     "output_type": "execute_result"
    }
   ],
   "source": [
    "hello('world')  # positional argument"
   ]
  },
  {
   "cell_type": "code",
   "execution_count": 232,
   "metadata": {},
   "outputs": [
    {
     "data": {
      "text/plain": [
       "'Hello, world'"
      ]
     },
     "execution_count": 232,
     "metadata": {},
     "output_type": "execute_result"
    }
   ],
   "source": [
    "hello(name='world')   # keyword argument"
   ]
  },
  {
   "cell_type": "code",
   "execution_count": 233,
   "metadata": {},
   "outputs": [
    {
     "data": {
      "text/plain": [
       "1"
      ]
     },
     "execution_count": 233,
     "metadata": {},
     "output_type": "execute_result"
    }
   ],
   "source": [
    "hello.__code__.co_argcount"
   ]
  },
  {
   "cell_type": "code",
   "execution_count": 234,
   "metadata": {},
   "outputs": [
    {
     "ename": "TypeError",
     "evalue": "hello() missing 1 required positional argument: 'name'",
     "output_type": "error",
     "traceback": [
      "\u001b[0;31m---------------------------------------------------------------------------\u001b[0m",
      "\u001b[0;31mTypeError\u001b[0m                                 Traceback (most recent call last)",
      "\u001b[0;32m<ipython-input-234-a75d7781aaeb>\u001b[0m in \u001b[0;36m<module>\u001b[0;34m\u001b[0m\n\u001b[0;32m----> 1\u001b[0;31m \u001b[0mhello\u001b[0m\u001b[0;34m(\u001b[0m\u001b[0;34m)\u001b[0m\u001b[0;34m\u001b[0m\u001b[0;34m\u001b[0m\u001b[0m\n\u001b[0m",
      "\u001b[0;31mTypeError\u001b[0m: hello() missing 1 required positional argument: 'name'"
     ]
    }
   ],
   "source": [
    "hello()"
   ]
  },
  {
   "cell_type": "code",
   "execution_count": 235,
   "metadata": {},
   "outputs": [
    {
     "data": {
      "text/plain": [
       "('name',)"
      ]
     },
     "execution_count": 235,
     "metadata": {},
     "output_type": "execute_result"
    }
   ],
   "source": [
    "hello.__code__.co_varnames"
   ]
  },
  {
   "cell_type": "code",
   "execution_count": 236,
   "metadata": {},
   "outputs": [],
   "source": [
    "def mysum(numbers):\n",
    "    total = 0\n",
    "    for one_number in numbers:\n",
    "        total += one_number\n",
    "    return total"
   ]
  },
  {
   "cell_type": "code",
   "execution_count": 237,
   "metadata": {},
   "outputs": [
    {
     "data": {
      "text/plain": [
       "60"
      ]
     },
     "execution_count": 237,
     "metadata": {},
     "output_type": "execute_result"
    }
   ],
   "source": [
    "mysum([10, 20, 30])"
   ]
  },
  {
   "cell_type": "code",
   "execution_count": 238,
   "metadata": {},
   "outputs": [
    {
     "data": {
      "text/plain": [
       "150"
      ]
     },
     "execution_count": 238,
     "metadata": {},
     "output_type": "execute_result"
    }
   ],
   "source": [
    "mysum((10, 20, 30, 40, 50))"
   ]
  },
  {
   "cell_type": "code",
   "execution_count": 239,
   "metadata": {},
   "outputs": [
    {
     "data": {
      "text/plain": [
       "15"
      ]
     },
     "execution_count": 239,
     "metadata": {},
     "output_type": "execute_result"
    }
   ],
   "source": [
    "mysum({1,2,3,4,5})"
   ]
  },
  {
   "cell_type": "code",
   "execution_count": 240,
   "metadata": {},
   "outputs": [
    {
     "data": {
      "text/plain": [
       "6"
      ]
     },
     "execution_count": 240,
     "metadata": {},
     "output_type": "execute_result"
    }
   ],
   "source": [
    "mysum({1:'a', 2:'b', 3:'c'})"
   ]
  },
  {
   "cell_type": "code",
   "execution_count": 241,
   "metadata": {},
   "outputs": [
    {
     "data": {
      "text/plain": [
       "5"
      ]
     },
     "execution_count": 241,
     "metadata": {},
     "output_type": "execute_result"
    }
   ],
   "source": [
    "len(mylist)"
   ]
  },
  {
   "cell_type": "code",
   "execution_count": 242,
   "metadata": {},
   "outputs": [
    {
     "data": {
      "text/plain": [
       "4"
      ]
     },
     "execution_count": 242,
     "metadata": {},
     "output_type": "execute_result"
    }
   ],
   "source": [
    "len('abcd')"
   ]
  },
  {
   "cell_type": "code",
   "execution_count": 243,
   "metadata": {},
   "outputs": [],
   "source": [
    "def hello(name):\n",
    "    return f'Hello, {name}'"
   ]
  },
  {
   "cell_type": "code",
   "execution_count": 244,
   "metadata": {},
   "outputs": [
    {
     "data": {
      "text/plain": [
       "'Hello, world'"
      ]
     },
     "execution_count": 244,
     "metadata": {},
     "output_type": "execute_result"
    }
   ],
   "source": [
    "hello('world')"
   ]
  },
  {
   "cell_type": "code",
   "execution_count": 245,
   "metadata": {},
   "outputs": [
    {
     "data": {
      "text/plain": [
       "'Hello, [10, 20, 30]'"
      ]
     },
     "execution_count": 245,
     "metadata": {},
     "output_type": "execute_result"
    }
   ],
   "source": [
    "hello([10, 20, 30])"
   ]
  },
  {
   "cell_type": "code",
   "execution_count": 246,
   "metadata": {},
   "outputs": [
    {
     "data": {
      "text/plain": [
       "'Hello, <function hello at 0x1142b0680>'"
      ]
     },
     "execution_count": 246,
     "metadata": {},
     "output_type": "execute_result"
    }
   ],
   "source": [
    "hello(hello)"
   ]
  },
  {
   "cell_type": "code",
   "execution_count": 247,
   "metadata": {},
   "outputs": [],
   "source": [
    "def hello(name):\n",
    "    if type(name) == str:\n",
    "        return f'Hello, {name}'\n",
    "    else:\n",
    "        raise TypeError(\"Hey!  I wanted a string!\")"
   ]
  },
  {
   "cell_type": "code",
   "execution_count": 248,
   "metadata": {},
   "outputs": [],
   "source": [
    "def mul(a, b):\n",
    "    return a * b"
   ]
  },
  {
   "cell_type": "code",
   "execution_count": 249,
   "metadata": {},
   "outputs": [
    {
     "data": {
      "text/plain": [
       "30"
      ]
     },
     "execution_count": 249,
     "metadata": {},
     "output_type": "execute_result"
    }
   ],
   "source": [
    "mul(10, 3)"
   ]
  },
  {
   "cell_type": "code",
   "execution_count": 250,
   "metadata": {},
   "outputs": [
    {
     "data": {
      "text/plain": [
       "'aaaaa'"
      ]
     },
     "execution_count": 250,
     "metadata": {},
     "output_type": "execute_result"
    }
   ],
   "source": [
    "mul('a', 5)"
   ]
  },
  {
   "cell_type": "code",
   "execution_count": 251,
   "metadata": {},
   "outputs": [
    {
     "ename": "TypeError",
     "evalue": "can't multiply sequence by non-int of type 'str'",
     "output_type": "error",
     "traceback": [
      "\u001b[0;31m---------------------------------------------------------------------------\u001b[0m",
      "\u001b[0;31mTypeError\u001b[0m                                 Traceback (most recent call last)",
      "\u001b[0;32m<ipython-input-251-231df67d37a5>\u001b[0m in \u001b[0;36m<module>\u001b[0;34m\u001b[0m\n\u001b[0;32m----> 1\u001b[0;31m \u001b[0mmul\u001b[0m\u001b[0;34m(\u001b[0m\u001b[0;34m'a'\u001b[0m\u001b[0;34m,\u001b[0m \u001b[0;34m'b'\u001b[0m\u001b[0;34m)\u001b[0m\u001b[0;34m\u001b[0m\u001b[0;34m\u001b[0m\u001b[0m\n\u001b[0m",
      "\u001b[0;32m<ipython-input-248-f9d4e7a454c4>\u001b[0m in \u001b[0;36mmul\u001b[0;34m(a, b)\u001b[0m\n\u001b[1;32m      1\u001b[0m \u001b[0;32mdef\u001b[0m \u001b[0mmul\u001b[0m\u001b[0;34m(\u001b[0m\u001b[0ma\u001b[0m\u001b[0;34m,\u001b[0m \u001b[0mb\u001b[0m\u001b[0;34m)\u001b[0m\u001b[0;34m:\u001b[0m\u001b[0;34m\u001b[0m\u001b[0;34m\u001b[0m\u001b[0m\n\u001b[0;32m----> 2\u001b[0;31m     \u001b[0;32mreturn\u001b[0m \u001b[0ma\u001b[0m \u001b[0;34m*\u001b[0m \u001b[0mb\u001b[0m\u001b[0;34m\u001b[0m\u001b[0;34m\u001b[0m\u001b[0m\n\u001b[0m",
      "\u001b[0;31mTypeError\u001b[0m: can't multiply sequence by non-int of type 'str'"
     ]
    }
   ],
   "source": [
    "mul('a', 'b')"
   ]
  },
  {
   "cell_type": "code",
   "execution_count": 253,
   "metadata": {},
   "outputs": [
    {
     "name": "stdout",
     "output_type": "stream",
     "text": [
      "ae\n",
      "[10, 30]\n",
      "(2, 10)\n"
     ]
    }
   ],
   "source": [
    "def firstlast(data):\n",
    "    return data[:1] + data[-1:]\n",
    "\n",
    "print(firstlast('abcde'))       # 'ae'\n",
    "print(firstlast([10, 20, 30]))  # [10, 30]\n",
    "print(firstlast((2,4,6,8,10)))  # (2, 10)\n",
    "\n"
   ]
  },
  {
   "cell_type": "code",
   "execution_count": 254,
   "metadata": {},
   "outputs": [
    {
     "name": "stdout",
     "output_type": "stream",
     "text": [
      "13\n",
      "12\n",
      "5\n"
     ]
    }
   ],
   "source": [
    "def add(a, b):\n",
    "    return a + b\n",
    "\n",
    "print(add(10, 3))\n",
    "print(add(7, 5))\n",
    "print(add(3, 2))"
   ]
  },
  {
   "cell_type": "code",
   "execution_count": 255,
   "metadata": {},
   "outputs": [
    {
     "ename": "TypeError",
     "evalue": "add() missing 1 required positional argument: 'b'",
     "output_type": "error",
     "traceback": [
      "\u001b[0;31m---------------------------------------------------------------------------\u001b[0m",
      "\u001b[0;31mTypeError\u001b[0m                                 Traceback (most recent call last)",
      "\u001b[0;32m<ipython-input-255-60ee85c6d9f6>\u001b[0m in \u001b[0;36m<module>\u001b[0;34m\u001b[0m\n\u001b[0;32m----> 1\u001b[0;31m \u001b[0mprint\u001b[0m\u001b[0;34m(\u001b[0m\u001b[0madd\u001b[0m\u001b[0;34m(\u001b[0m\u001b[0;36m10\u001b[0m\u001b[0;34m)\u001b[0m\u001b[0;34m)\u001b[0m\u001b[0;34m\u001b[0m\u001b[0;34m\u001b[0m\u001b[0m\n\u001b[0m",
      "\u001b[0;31mTypeError\u001b[0m: add() missing 1 required positional argument: 'b'"
     ]
    }
   ],
   "source": [
    "print(add(10))"
   ]
  },
  {
   "cell_type": "code",
   "execution_count": 256,
   "metadata": {},
   "outputs": [
    {
     "name": "stdout",
     "output_type": "stream",
     "text": [
      "13\n",
      "12\n",
      "5\n"
     ]
    }
   ],
   "source": [
    "def add(a, b=2):\n",
    "    return a + b\n",
    "\n",
    "print(add(10, 3))\n",
    "print(add(7, 5))\n",
    "print(add(3, 2))"
   ]
  },
  {
   "cell_type": "code",
   "execution_count": 257,
   "metadata": {},
   "outputs": [
    {
     "data": {
      "text/plain": [
       "12"
      ]
     },
     "execution_count": 257,
     "metadata": {},
     "output_type": "execute_result"
    }
   ],
   "source": [
    "add(10)"
   ]
  },
  {
   "cell_type": "code",
   "execution_count": 258,
   "metadata": {},
   "outputs": [
    {
     "data": {
      "text/plain": [
       "(2,)"
      ]
     },
     "execution_count": 258,
     "metadata": {},
     "output_type": "execute_result"
    }
   ],
   "source": [
    "add.__defaults__"
   ]
  },
  {
   "cell_type": "code",
   "execution_count": 259,
   "metadata": {
    "scrolled": true
   },
   "outputs": [
    {
     "ename": "SyntaxError",
     "evalue": "non-default argument follows default argument (<ipython-input-259-491c9c017d20>, line 1)",
     "output_type": "error",
     "traceback": [
      "\u001b[0;36m  File \u001b[0;32m\"<ipython-input-259-491c9c017d20>\"\u001b[0;36m, line \u001b[0;32m1\u001b[0m\n\u001b[0;31m    def add(a=2, b):\u001b[0m\n\u001b[0m           ^\u001b[0m\n\u001b[0;31mSyntaxError\u001b[0m\u001b[0;31m:\u001b[0m non-default argument follows default argument\n"
     ]
    }
   ],
   "source": [
    "def add(a=2, b):\n",
    "    return a + b"
   ]
  },
  {
   "cell_type": "code",
   "execution_count": 260,
   "metadata": {},
   "outputs": [
    {
     "data": {
      "text/plain": [
       "100"
      ]
     },
     "execution_count": 260,
     "metadata": {},
     "output_type": "execute_result"
    }
   ],
   "source": [
    "x = 100\n",
    "\n",
    "def foo(y):\n",
    "    y = 200\n",
    "    \n",
    "foo(x)\n",
    "x"
   ]
  },
  {
   "cell_type": "code",
   "execution_count": 261,
   "metadata": {},
   "outputs": [
    {
     "data": {
      "text/plain": [
       "[10, 20, 30, 40]"
      ]
     },
     "execution_count": 261,
     "metadata": {},
     "output_type": "execute_result"
    }
   ],
   "source": [
    "x = [10, 20, 30]\n",
    "\n",
    "def foo(y):\n",
    "    y.append(40)\n",
    "    \n",
    "foo(x)\n",
    "x"
   ]
  },
  {
   "cell_type": "code",
   "execution_count": 262,
   "metadata": {},
   "outputs": [
    {
     "data": {
      "text/plain": [
       "[10, 20, 30, 1]"
      ]
     },
     "execution_count": 262,
     "metadata": {},
     "output_type": "execute_result"
    }
   ],
   "source": [
    "mylist = [10, 20, 30]\n",
    "\n",
    "def add_one(x):\n",
    "    x.append(1)\n",
    "    return x\n",
    "\n",
    "add_one(mylist)"
   ]
  },
  {
   "cell_type": "code",
   "execution_count": 263,
   "metadata": {},
   "outputs": [
    {
     "data": {
      "text/plain": [
       "[10, 20, 30, 1]"
      ]
     },
     "execution_count": 263,
     "metadata": {},
     "output_type": "execute_result"
    }
   ],
   "source": [
    "mylist"
   ]
  },
  {
   "cell_type": "code",
   "execution_count": 264,
   "metadata": {},
   "outputs": [
    {
     "data": {
      "text/plain": [
       "[10, 20, 30, 1, 1]"
      ]
     },
     "execution_count": 264,
     "metadata": {},
     "output_type": "execute_result"
    }
   ],
   "source": [
    "add_one(mylist)"
   ]
  },
  {
   "cell_type": "code",
   "execution_count": 265,
   "metadata": {},
   "outputs": [
    {
     "data": {
      "text/plain": [
       "[10, 20, 30, 1, 1]"
      ]
     },
     "execution_count": 265,
     "metadata": {},
     "output_type": "execute_result"
    }
   ],
   "source": [
    "mylist"
   ]
  },
  {
   "cell_type": "code",
   "execution_count": 266,
   "metadata": {},
   "outputs": [
    {
     "data": {
      "text/plain": [
       "[1]"
      ]
     },
     "execution_count": 266,
     "metadata": {},
     "output_type": "execute_result"
    }
   ],
   "source": [
    "def add_one(x=[]):\n",
    "    x.append(1)\n",
    "    return x\n",
    "\n",
    "add_one()"
   ]
  },
  {
   "cell_type": "code",
   "execution_count": 267,
   "metadata": {},
   "outputs": [
    {
     "data": {
      "text/plain": [
       "[1, 1]"
      ]
     },
     "execution_count": 267,
     "metadata": {},
     "output_type": "execute_result"
    }
   ],
   "source": [
    "add_one()"
   ]
  },
  {
   "cell_type": "code",
   "execution_count": 268,
   "metadata": {},
   "outputs": [
    {
     "data": {
      "text/plain": [
       "[1, 1, 1]"
      ]
     },
     "execution_count": 268,
     "metadata": {},
     "output_type": "execute_result"
    }
   ],
   "source": [
    "add_one()"
   ]
  },
  {
   "cell_type": "code",
   "execution_count": 269,
   "metadata": {},
   "outputs": [],
   "source": [
    "def add_one(x=[]):\n",
    "    x.append(1)\n",
    "    return x\n"
   ]
  },
  {
   "cell_type": "code",
   "execution_count": 270,
   "metadata": {},
   "outputs": [
    {
     "data": {
      "text/plain": [
       "([],)"
      ]
     },
     "execution_count": 270,
     "metadata": {},
     "output_type": "execute_result"
    }
   ],
   "source": [
    "add_one.__defaults__"
   ]
  },
  {
   "cell_type": "code",
   "execution_count": 271,
   "metadata": {},
   "outputs": [
    {
     "data": {
      "text/plain": [
       "[1]"
      ]
     },
     "execution_count": 271,
     "metadata": {},
     "output_type": "execute_result"
    }
   ],
   "source": [
    "add_one()  "
   ]
  },
  {
   "cell_type": "code",
   "execution_count": 272,
   "metadata": {},
   "outputs": [
    {
     "data": {
      "text/plain": [
       "([1],)"
      ]
     },
     "execution_count": 272,
     "metadata": {},
     "output_type": "execute_result"
    }
   ],
   "source": [
    "add_one.__defaults__"
   ]
  },
  {
   "cell_type": "code",
   "execution_count": 273,
   "metadata": {},
   "outputs": [
    {
     "data": {
      "text/plain": [
       "[10, 20, 30, 1]"
      ]
     },
     "execution_count": 273,
     "metadata": {},
     "output_type": "execute_result"
    }
   ],
   "source": [
    "mylist = [10, 20, 30]\n",
    "add_one(mylist)"
   ]
  },
  {
   "cell_type": "code",
   "execution_count": 274,
   "metadata": {},
   "outputs": [
    {
     "data": {
      "text/plain": [
       "[10, 20, 30, 1]"
      ]
     },
     "execution_count": 274,
     "metadata": {},
     "output_type": "execute_result"
    }
   ],
   "source": [
    "mylist"
   ]
  },
  {
   "cell_type": "code",
   "execution_count": 275,
   "metadata": {},
   "outputs": [
    {
     "data": {
      "text/plain": [
       "([1],)"
      ]
     },
     "execution_count": 275,
     "metadata": {},
     "output_type": "execute_result"
    }
   ],
   "source": [
    "add_one.__defaults__"
   ]
  },
  {
   "cell_type": "code",
   "execution_count": null,
   "metadata": {},
   "outputs": [],
   "source": [
    "# def add_one(x=None):\n",
    "#     if x is None:\n",
    "#         x = []\n",
    "#     x.append(1)\n",
    "#     return x\n"
   ]
  },
  {
   "cell_type": "code",
   "execution_count": 276,
   "metadata": {},
   "outputs": [],
   "source": [
    "def add_one(x=[]):\n",
    "    x.append(1)\n",
    "    return x\n"
   ]
  },
  {
   "cell_type": "code",
   "execution_count": null,
   "metadata": {},
   "outputs": [],
   "source": [
    "add_one()"
   ]
  },
  {
   "cell_type": "code",
   "execution_count": 277,
   "metadata": {},
   "outputs": [
    {
     "data": {
      "text/plain": [
       "1"
      ]
     },
     "execution_count": 277,
     "metadata": {},
     "output_type": "execute_result"
    }
   ],
   "source": [
    "add_one.__code__.co_argcount"
   ]
  },
  {
   "cell_type": "code",
   "execution_count": 278,
   "metadata": {},
   "outputs": [
    {
     "data": {
      "text/plain": [
       "([],)"
      ]
     },
     "execution_count": 278,
     "metadata": {},
     "output_type": "execute_result"
    }
   ],
   "source": [
    "add_one.__defaults__"
   ]
  },
  {
   "cell_type": "code",
   "execution_count": null,
   "metadata": {},
   "outputs": [],
   "source": []
  },
  {
   "cell_type": "code",
   "execution_count": null,
   "metadata": {},
   "outputs": [],
   "source": [
    "x = add_one.__defaults__[0]"
   ]
  },
  {
   "cell_type": "code",
   "execution_count": 279,
   "metadata": {},
   "outputs": [
    {
     "data": {
      "text/plain": [
       "150"
      ]
     },
     "execution_count": 279,
     "metadata": {},
     "output_type": "execute_result"
    }
   ],
   "source": [
    "def mysum(numbers):\n",
    "    total = 0\n",
    "    for one_number in numbers:\n",
    "        total += one_number\n",
    "    return total\n",
    "\n",
    "mysum([10, 20, 30, 40, 50])"
   ]
  },
  {
   "cell_type": "code",
   "execution_count": 280,
   "metadata": {},
   "outputs": [
    {
     "ename": "TypeError",
     "evalue": "mysum() takes 1 positional argument but 5 were given",
     "output_type": "error",
     "traceback": [
      "\u001b[0;31m---------------------------------------------------------------------------\u001b[0m",
      "\u001b[0;31mTypeError\u001b[0m                                 Traceback (most recent call last)",
      "\u001b[0;32m<ipython-input-280-bc0ae207bc6e>\u001b[0m in \u001b[0;36m<module>\u001b[0;34m\u001b[0m\n\u001b[0;32m----> 1\u001b[0;31m \u001b[0mmysum\u001b[0m\u001b[0;34m(\u001b[0m\u001b[0;36m10\u001b[0m\u001b[0;34m,\u001b[0m \u001b[0;36m20\u001b[0m\u001b[0;34m,\u001b[0m \u001b[0;36m30\u001b[0m\u001b[0;34m,\u001b[0m \u001b[0;36m40\u001b[0m\u001b[0;34m,\u001b[0m \u001b[0;36m50\u001b[0m\u001b[0;34m)\u001b[0m\u001b[0;34m\u001b[0m\u001b[0;34m\u001b[0m\u001b[0m\n\u001b[0m",
      "\u001b[0;31mTypeError\u001b[0m: mysum() takes 1 positional argument but 5 were given"
     ]
    }
   ],
   "source": [
    "mysum(10, 20, 30, 40, 50)"
   ]
  },
  {
   "cell_type": "code",
   "execution_count": 284,
   "metadata": {},
   "outputs": [
    {
     "data": {
      "text/plain": [
       "150"
      ]
     },
     "execution_count": 284,
     "metadata": {},
     "output_type": "execute_result"
    }
   ],
   "source": [
    "def mysum(a=0, b=0, c=0, d=0, e=0, f=0, g=0, h=0):\n",
    "    return a + b + c + d + e + f + g + h\n",
    "\n",
    "mysum(10, 20, 30, 40, 50)"
   ]
  },
  {
   "cell_type": "code",
   "execution_count": 285,
   "metadata": {},
   "outputs": [
    {
     "data": {
      "text/plain": [
       "210"
      ]
     },
     "execution_count": 285,
     "metadata": {},
     "output_type": "execute_result"
    }
   ],
   "source": [
    "mysum(10, 20, 30, 40, 50, 60)"
   ]
  },
  {
   "cell_type": "code",
   "execution_count": 287,
   "metadata": {},
   "outputs": [
    {
     "name": "stdout",
     "output_type": "stream",
     "text": [
      "numbers = (10, 20, 30, 40, 50)\n"
     ]
    },
    {
     "data": {
      "text/plain": [
       "150"
      ]
     },
     "execution_count": 287,
     "metadata": {},
     "output_type": "execute_result"
    }
   ],
   "source": [
    "def mysum(*numbers):\n",
    "    print(f'numbers = {numbers}')\n",
    "    total = 0\n",
    "    for one_number in numbers:\n",
    "        total += one_number\n",
    "    return total\n",
    "\n",
    "mysum(10, 20, 30, 40, 50)"
   ]
  },
  {
   "cell_type": "code",
   "execution_count": 288,
   "metadata": {},
   "outputs": [],
   "source": [
    "def foo(a, b, c, d=10, *args):\n",
    "    print(f'a={a}, b={b}, c={c}, d={d}, args={args}')"
   ]
  },
  {
   "cell_type": "code",
   "execution_count": 289,
   "metadata": {},
   "outputs": [
    {
     "name": "stdout",
     "output_type": "stream",
     "text": [
      "a=10, b=20, c=30, d=40, args=(50, 60)\n"
     ]
    }
   ],
   "source": [
    "foo(10, 20, 30, 40, 50, 60)"
   ]
  },
  {
   "cell_type": "code",
   "execution_count": 290,
   "metadata": {},
   "outputs": [
    {
     "name": "stdout",
     "output_type": "stream",
     "text": [
      "a=10, b=20, c=30, d=10, args=()\n"
     ]
    }
   ],
   "source": [
    "foo(10, 20, 30)"
   ]
  },
  {
   "cell_type": "code",
   "execution_count": 291,
   "metadata": {},
   "outputs": [],
   "source": [
    "def foo(a, b, c, *args, d=10):\n",
    "    print(f'a={a}, b={b}, c={c}, d={d}, args={args}')"
   ]
  },
  {
   "cell_type": "code",
   "execution_count": 292,
   "metadata": {},
   "outputs": [
    {
     "name": "stdout",
     "output_type": "stream",
     "text": [
      "a=10, b=20, c=30, d=10, args=(40, 50)\n"
     ]
    }
   ],
   "source": [
    "foo(10, 20, 30, 40, 50)"
   ]
  },
  {
   "cell_type": "code",
   "execution_count": 293,
   "metadata": {},
   "outputs": [
    {
     "name": "stdout",
     "output_type": "stream",
     "text": [
      "a=10, b=20, c=30, d=999, args=(40, 50)\n"
     ]
    }
   ],
   "source": [
    "foo(10, 20, 30, 40, 50, d=999)"
   ]
  },
  {
   "cell_type": "code",
   "execution_count": 294,
   "metadata": {},
   "outputs": [
    {
     "ename": "SyntaxError",
     "evalue": "positional argument follows keyword argument (<ipython-input-294-c5bef95e28d9>, line 3)",
     "output_type": "error",
     "traceback": [
      "\u001b[0;36m  File \u001b[0;32m\"<ipython-input-294-c5bef95e28d9>\"\u001b[0;36m, line \u001b[0;32m3\u001b[0m\n\u001b[0;31m    foo(d=999, 10, 20, 30, 40, 50)\u001b[0m\n\u001b[0m              ^\u001b[0m\n\u001b[0;31mSyntaxError\u001b[0m\u001b[0;31m:\u001b[0m positional argument follows keyword argument\n"
     ]
    }
   ],
   "source": [
    "# splat-args  \n",
    "\n",
    "foo(d=999, 10, 20, 30, 40, 50)"
   ]
  },
  {
   "cell_type": "raw",
   "metadata": {},
   "source": []
  },
  {
   "cell_type": "code",
   "execution_count": 295,
   "metadata": {},
   "outputs": [
    {
     "ename": "SyntaxError",
     "evalue": "positional argument follows keyword argument (<ipython-input-295-71720c13b62f>, line 1)",
     "output_type": "error",
     "traceback": [
      "\u001b[0;36m  File \u001b[0;32m\"<ipython-input-295-71720c13b62f>\"\u001b[0;36m, line \u001b[0;32m1\u001b[0m\n\u001b[0;31m    foo(10, 20, 30, d=999, 40, 50)\u001b[0m\n\u001b[0m                          ^\u001b[0m\n\u001b[0;31mSyntaxError\u001b[0m\u001b[0;31m:\u001b[0m positional argument follows keyword argument\n"
     ]
    }
   ],
   "source": [
    "foo(10, 20, 30, d=999, 40, 50)"
   ]
  },
  {
   "cell_type": "code",
   "execution_count": 296,
   "metadata": {},
   "outputs": [],
   "source": [
    "# **kwargs  --- keyword arguments\n",
    "\n",
    "def add(a, b):\n",
    "    return a + b"
   ]
  },
  {
   "cell_type": "code",
   "execution_count": 297,
   "metadata": {},
   "outputs": [
    {
     "data": {
      "text/plain": [
       "13"
      ]
     },
     "execution_count": 297,
     "metadata": {},
     "output_type": "execute_result"
    }
   ],
   "source": [
    "add(10, 3)"
   ]
  },
  {
   "cell_type": "code",
   "execution_count": 298,
   "metadata": {},
   "outputs": [
    {
     "data": {
      "text/plain": [
       "13"
      ]
     },
     "execution_count": 298,
     "metadata": {},
     "output_type": "execute_result"
    }
   ],
   "source": [
    "add(a=10, b=3)"
   ]
  },
  {
   "cell_type": "code",
   "execution_count": 299,
   "metadata": {},
   "outputs": [
    {
     "data": {
      "text/plain": [
       "13"
      ]
     },
     "execution_count": 299,
     "metadata": {},
     "output_type": "execute_result"
    }
   ],
   "source": [
    "add(b=3, a=10)"
   ]
  },
  {
   "cell_type": "code",
   "execution_count": 300,
   "metadata": {},
   "outputs": [
    {
     "ename": "TypeError",
     "evalue": "add() got an unexpected keyword argument 'c'",
     "output_type": "error",
     "traceback": [
      "\u001b[0;31m---------------------------------------------------------------------------\u001b[0m",
      "\u001b[0;31mTypeError\u001b[0m                                 Traceback (most recent call last)",
      "\u001b[0;32m<ipython-input-300-27a898b545c4>\u001b[0m in \u001b[0;36m<module>\u001b[0;34m\u001b[0m\n\u001b[0;32m----> 1\u001b[0;31m \u001b[0madd\u001b[0m\u001b[0;34m(\u001b[0m\u001b[0ma\u001b[0m\u001b[0;34m=\u001b[0m\u001b[0;36m10\u001b[0m\u001b[0;34m,\u001b[0m \u001b[0mb\u001b[0m\u001b[0;34m=\u001b[0m\u001b[0;36m3\u001b[0m\u001b[0;34m,\u001b[0m \u001b[0mc\u001b[0m\u001b[0;34m=\u001b[0m\u001b[0;36m20\u001b[0m\u001b[0;34m)\u001b[0m\u001b[0;34m\u001b[0m\u001b[0;34m\u001b[0m\u001b[0m\n\u001b[0m",
      "\u001b[0;31mTypeError\u001b[0m: add() got an unexpected keyword argument 'c'"
     ]
    }
   ],
   "source": [
    "add(a=10, b=3, c=20)"
   ]
  },
  {
   "cell_type": "code",
   "execution_count": 301,
   "metadata": {},
   "outputs": [],
   "source": [
    "def foo(a, **kwargs):\n",
    "    print(f'a={a}, kwargs={kwargs}')"
   ]
  },
  {
   "cell_type": "code",
   "execution_count": 303,
   "metadata": {},
   "outputs": [
    {
     "name": "stdout",
     "output_type": "stream",
     "text": [
      "a=3, kwargs={}\n"
     ]
    }
   ],
   "source": [
    "foo(3)"
   ]
  },
  {
   "cell_type": "code",
   "execution_count": 304,
   "metadata": {},
   "outputs": [
    {
     "name": "stdout",
     "output_type": "stream",
     "text": [
      "a=3, kwargs={'x': 100, 'y': 200, 'z': 300}\n"
     ]
    }
   ],
   "source": [
    "foo(3, x=100, y=200, z=300)"
   ]
  },
  {
   "cell_type": "code",
   "execution_count": 305,
   "metadata": {},
   "outputs": [],
   "source": [
    "def write_config(filename, **kwargs):\n",
    "    with open(filename, 'w') as f:\n",
    "        for key, value in kwargs.items():\n",
    "            f.write(f'{key}={value}\\n')       "
   ]
  },
  {
   "cell_type": "code",
   "execution_count": 306,
   "metadata": {},
   "outputs": [],
   "source": [
    "write_config('myconfig.txt', a=100, b=200, c=300, d=400)"
   ]
  },
  {
   "cell_type": "code",
   "execution_count": 307,
   "metadata": {},
   "outputs": [
    {
     "name": "stdout",
     "output_type": "stream",
     "text": [
      "a=100\r\n",
      "b=200\r\n",
      "c=300\r\n",
      "d=400\r\n"
     ]
    }
   ],
   "source": [
    "%cat myconfig.txt"
   ]
  },
  {
   "cell_type": "code",
   "execution_count": 313,
   "metadata": {},
   "outputs": [
    {
     "data": {
      "text/plain": [
       "1"
      ]
     },
     "execution_count": 313,
     "metadata": {},
     "output_type": "execute_result"
    }
   ],
   "source": [
    "def mysum(numbers):\n",
    "    print(f'numbers = {numbers}')\n",
    "    total = 0\n",
    "    for one_number in numbers:\n",
    "        total += one_number\n",
    "    return total\n",
    "\n",
    "mysum.__code__.co_argcount"
   ]
  },
  {
   "cell_type": "code",
   "execution_count": 314,
   "metadata": {},
   "outputs": [
    {
     "data": {
      "text/plain": [
       "67"
      ]
     },
     "execution_count": 314,
     "metadata": {},
     "output_type": "execute_result"
    }
   ],
   "source": [
    "mysum.__code__.co_flags"
   ]
  },
  {
   "cell_type": "code",
   "execution_count": 311,
   "metadata": {},
   "outputs": [
    {
     "data": {
      "text/plain": [
       "0"
      ]
     },
     "execution_count": 311,
     "metadata": {},
     "output_type": "execute_result"
    }
   ],
   "source": [
    "def mysum(*numbers):\n",
    "    print(f'numbers = {numbers}')\n",
    "    total = 0\n",
    "    for one_number in numbers:\n",
    "        total += one_number\n",
    "    return total\n",
    "\n",
    "mysum.__code__.co_argcount"
   ]
  },
  {
   "cell_type": "code",
   "execution_count": 312,
   "metadata": {},
   "outputs": [
    {
     "data": {
      "text/plain": [
       "71"
      ]
     },
     "execution_count": 312,
     "metadata": {},
     "output_type": "execute_result"
    }
   ],
   "source": [
    "mysum.__code__.co_flags"
   ]
  },
  {
   "cell_type": "code",
   "execution_count": 315,
   "metadata": {},
   "outputs": [],
   "source": [
    "def foo(a=10, b=20, c=30, d=40):\n",
    "    print(f'a={a}, b={b}, c={c}, d={d}')"
   ]
  },
  {
   "cell_type": "code",
   "execution_count": 316,
   "metadata": {},
   "outputs": [
    {
     "name": "stdout",
     "output_type": "stream",
     "text": [
      "a=10, b=20, c=30, d=40\n"
     ]
    }
   ],
   "source": [
    "foo()"
   ]
  },
  {
   "cell_type": "code",
   "execution_count": 317,
   "metadata": {},
   "outputs": [
    {
     "name": "stdout",
     "output_type": "stream",
     "text": [
      "a=999, b=888, c=30, d=40\n"
     ]
    }
   ],
   "source": [
    "foo(999, 888)"
   ]
  },
  {
   "cell_type": "code",
   "execution_count": 318,
   "metadata": {},
   "outputs": [
    {
     "name": "stdout",
     "output_type": "stream",
     "text": [
      "a=10, b=999, c=30, d=888\n"
     ]
    }
   ],
   "source": [
    "foo(b=999, d=888)"
   ]
  },
  {
   "cell_type": "code",
   "execution_count": 319,
   "metadata": {},
   "outputs": [],
   "source": [
    "def foo(a, b, c=30, d=40):\n",
    "    print(f'a={a}, b={b}, c={c}, d={d}')"
   ]
  },
  {
   "cell_type": "code",
   "execution_count": 320,
   "metadata": {},
   "outputs": [
    {
     "name": "stdout",
     "output_type": "stream",
     "text": [
      "a=999, b=888, c=30, d=40\n"
     ]
    }
   ],
   "source": [
    "foo(999, 888)"
   ]
  },
  {
   "cell_type": "code",
   "execution_count": 321,
   "metadata": {},
   "outputs": [
    {
     "name": "stdout",
     "output_type": "stream",
     "text": [
      "numbers = (10, 20, 30)\n"
     ]
    },
    {
     "data": {
      "text/plain": [
       "60"
      ]
     },
     "execution_count": 321,
     "metadata": {},
     "output_type": "execute_result"
    }
   ],
   "source": [
    "def mysum(*numbers):\n",
    "    print(f'numbers = {numbers}')\n",
    "    total = 0\n",
    "    for one_number in numbers:\n",
    "        total += one_number\n",
    "    return total\n",
    "mysum(10, 20, 30)"
   ]
  },
  {
   "cell_type": "code",
   "execution_count": 322,
   "metadata": {},
   "outputs": [
    {
     "name": "stdout",
     "output_type": "stream",
     "text": [
      "numbers = ([10, 20, 30],)\n"
     ]
    },
    {
     "ename": "TypeError",
     "evalue": "unsupported operand type(s) for +=: 'int' and 'list'",
     "output_type": "error",
     "traceback": [
      "\u001b[0;31m---------------------------------------------------------------------------\u001b[0m",
      "\u001b[0;31mTypeError\u001b[0m                                 Traceback (most recent call last)",
      "\u001b[0;32m<ipython-input-322-140d740dcdcb>\u001b[0m in \u001b[0;36m<module>\u001b[0;34m\u001b[0m\n\u001b[1;32m      1\u001b[0m \u001b[0mmy_nums\u001b[0m \u001b[0;34m=\u001b[0m \u001b[0;34m[\u001b[0m\u001b[0;36m10\u001b[0m\u001b[0;34m,\u001b[0m \u001b[0;36m20\u001b[0m\u001b[0;34m,\u001b[0m \u001b[0;36m30\u001b[0m\u001b[0;34m]\u001b[0m\u001b[0;34m\u001b[0m\u001b[0;34m\u001b[0m\u001b[0m\n\u001b[0;32m----> 2\u001b[0;31m \u001b[0mmysum\u001b[0m\u001b[0;34m(\u001b[0m\u001b[0mmy_nums\u001b[0m\u001b[0;34m)\u001b[0m\u001b[0;34m\u001b[0m\u001b[0;34m\u001b[0m\u001b[0m\n\u001b[0m",
      "\u001b[0;32m<ipython-input-321-719266737250>\u001b[0m in \u001b[0;36mmysum\u001b[0;34m(*numbers)\u001b[0m\n\u001b[1;32m      3\u001b[0m     \u001b[0mtotal\u001b[0m \u001b[0;34m=\u001b[0m \u001b[0;36m0\u001b[0m\u001b[0;34m\u001b[0m\u001b[0;34m\u001b[0m\u001b[0m\n\u001b[1;32m      4\u001b[0m     \u001b[0;32mfor\u001b[0m \u001b[0mone_number\u001b[0m \u001b[0;32min\u001b[0m \u001b[0mnumbers\u001b[0m\u001b[0;34m:\u001b[0m\u001b[0;34m\u001b[0m\u001b[0;34m\u001b[0m\u001b[0m\n\u001b[0;32m----> 5\u001b[0;31m         \u001b[0mtotal\u001b[0m \u001b[0;34m+=\u001b[0m \u001b[0mone_number\u001b[0m\u001b[0;34m\u001b[0m\u001b[0;34m\u001b[0m\u001b[0m\n\u001b[0m\u001b[1;32m      6\u001b[0m     \u001b[0;32mreturn\u001b[0m \u001b[0mtotal\u001b[0m\u001b[0;34m\u001b[0m\u001b[0;34m\u001b[0m\u001b[0m\n\u001b[1;32m      7\u001b[0m \u001b[0mmysum\u001b[0m\u001b[0;34m(\u001b[0m\u001b[0;36m10\u001b[0m\u001b[0;34m,\u001b[0m \u001b[0;36m20\u001b[0m\u001b[0;34m,\u001b[0m \u001b[0;36m30\u001b[0m\u001b[0;34m)\u001b[0m\u001b[0;34m\u001b[0m\u001b[0;34m\u001b[0m\u001b[0m\n",
      "\u001b[0;31mTypeError\u001b[0m: unsupported operand type(s) for +=: 'int' and 'list'"
     ]
    }
   ],
   "source": [
    "my_nums = [10, 20, 30]\n",
    "mysum(my_nums)"
   ]
  },
  {
   "cell_type": "code",
   "execution_count": 323,
   "metadata": {},
   "outputs": [
    {
     "name": "stdout",
     "output_type": "stream",
     "text": [
      "numbers = (10, 20, 30)\n"
     ]
    },
    {
     "data": {
      "text/plain": [
       "60"
      ]
     },
     "execution_count": 323,
     "metadata": {},
     "output_type": "execute_result"
    }
   ],
   "source": [
    "mysum(*my_nums)"
   ]
  },
  {
   "cell_type": "code",
   "execution_count": 331,
   "metadata": {},
   "outputs": [
    {
     "name": "stdout",
     "output_type": "stream",
     "text": [
      "<foo></foo>\n",
      "<foo>bar</foo>\n",
      "<a><b><c>hello</c></b></a>\n",
      "<tag a=\"1\" b=\"2\" c=\"3\">text</tag>\n",
      "<tag a=\"1\" b=\"2\">text</tag>\n",
      "<tag a=\"1\" b=\"2\"></tag>\n"
     ]
    }
   ],
   "source": [
    "def xml(tagname, text='', **kwargs):\n",
    "    attributes = ''\n",
    "    for key, value in kwargs.items():\n",
    "        attributes += f' {key}=\"{value}\"'\n",
    "    return f'<{tagname}{attributes}>{text}</{tagname}>'\n",
    "\n",
    "\n",
    "print(xml('foo'))               # first argument = tagname\n",
    "# <foo></foo>\n",
    "\n",
    "print(xml('foo', 'bar'))        # second (optional) argument = content\n",
    "# # # # <foo>bar</foo>\n",
    "\n",
    "print(xml('a',\n",
    "          xml('b',\n",
    "              xml('c', 'hello'))))\n",
    "# # # # # # <a><b><c>hello</c></b></a>\n",
    "\n",
    "# # # # kwargs become attributes in opening tag\n",
    "\n",
    "print(xml('tag', 'text', a=1, b=2, c=3))\n",
    "\n",
    "# # # # <tag a=\"1\" b=\"2\" c=\"3\">text</tag>\n",
    "\n",
    "print(xml('tag', 'text', a=1, b=2))\n",
    "# # # # <tag a=\"1\" b=\"2\">text</tag>\n",
    "\n",
    "print(xml('tag', a=1, b=2))\n",
    "# # # # # <tag a=\"1\" b=\"2\"></tag>\n"
   ]
  },
  {
   "cell_type": "code",
   "execution_count": null,
   "metadata": {},
   "outputs": [],
   "source": []
  }
 ],
 "metadata": {
  "kernelspec": {
   "display_name": "Python 3",
   "language": "python",
   "name": "python3"
  },
  "language_info": {
   "codemirror_mode": {
    "name": "ipython",
    "version": 3
   },
   "file_extension": ".py",
   "mimetype": "text/x-python",
   "name": "python",
   "nbconvert_exporter": "python",
   "pygments_lexer": "ipython3",
   "version": "3.7.6"
  }
 },
 "nbformat": 4,
 "nbformat_minor": 2
}
