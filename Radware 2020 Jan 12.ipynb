{
 "cells": [
  {
   "cell_type": "code",
   "execution_count": 1,
   "metadata": {},
   "outputs": [],
   "source": [
    "# github.com/reuven/radware-0120\n",
    "\n",
    "\n",
    "\n",
    "for i in range(10):\n",
    "    x = i * i"
   ]
  },
  {
   "cell_type": "code",
   "execution_count": 2,
   "metadata": {},
   "outputs": [
    {
     "data": {
      "text/plain": [
       "9"
      ]
     },
     "execution_count": 2,
     "metadata": {},
     "output_type": "execute_result"
    }
   ],
   "source": [
    "i"
   ]
  },
  {
   "cell_type": "code",
   "execution_count": 3,
   "metadata": {},
   "outputs": [
    {
     "data": {
      "text/plain": [
       "81"
      ]
     },
     "execution_count": 3,
     "metadata": {},
     "output_type": "execute_result"
    }
   ],
   "source": [
    "x"
   ]
  },
  {
   "cell_type": "code",
   "execution_count": 4,
   "metadata": {},
   "outputs": [
    {
     "data": {
      "text/plain": [
       "{'__name__': '__main__',\n",
       " '__doc__': 'Automatically created module for IPython interactive environment',\n",
       " '__package__': None,\n",
       " '__loader__': None,\n",
       " '__spec__': None,\n",
       " '__builtin__': <module 'builtins' (built-in)>,\n",
       " '__builtins__': <module 'builtins' (built-in)>,\n",
       " '_ih': ['',\n",
       "  '# github.com/reuven/radware-0120\\n\\n\\n\\nfor i in range(10):\\n    x = i * i',\n",
       "  'i',\n",
       "  'x',\n",
       "  'globals() '],\n",
       " '_oh': {2: 9, 3: 81},\n",
       " '_dh': ['/Users/reuven/Consulting/Courses/Python/radware-0120'],\n",
       " 'In': ['',\n",
       "  '# github.com/reuven/radware-0120\\n\\n\\n\\nfor i in range(10):\\n    x = i * i',\n",
       "  'i',\n",
       "  'x',\n",
       "  'globals() '],\n",
       " 'Out': {2: 9, 3: 81},\n",
       " 'get_ipython': <bound method InteractiveShell.get_ipython of <ipykernel.zmqshell.ZMQInteractiveShell object at 0x1046c2f10>>,\n",
       " 'exit': <IPython.core.autocall.ZMQExitAutocall at 0x104775e10>,\n",
       " 'quit': <IPython.core.autocall.ZMQExitAutocall at 0x104775e10>,\n",
       " '_': 81,\n",
       " '__': 9,\n",
       " '___': '',\n",
       " '_i': 'x',\n",
       " '_ii': 'i',\n",
       " '_iii': '# github.com/reuven/radware-0120\\n\\n\\n\\nfor i in range(10):\\n    x = i * i',\n",
       " '_i1': '# github.com/reuven/radware-0120\\n\\n\\n\\nfor i in range(10):\\n    x = i * i',\n",
       " 'i': 9,\n",
       " 'x': 81,\n",
       " '_i2': 'i',\n",
       " '_2': 9,\n",
       " '_i3': 'x',\n",
       " '_3': 81,\n",
       " '_i4': 'globals() '}"
      ]
     },
     "execution_count": 4,
     "metadata": {},
     "output_type": "execute_result"
    }
   ],
   "source": [
    "globals() "
   ]
  },
  {
   "cell_type": "code",
   "execution_count": 5,
   "metadata": {},
   "outputs": [
    {
     "data": {
      "text/plain": [
       "True"
      ]
     },
     "execution_count": 5,
     "metadata": {},
     "output_type": "execute_result"
    }
   ],
   "source": [
    "'x' in globals()"
   ]
  },
  {
   "cell_type": "code",
   "execution_count": null,
   "metadata": {},
   "outputs": [],
   "source": []
  }
 ],
 "metadata": {
  "kernelspec": {
   "display_name": "Python 3",
   "language": "python",
   "name": "python3"
  },
  "language_info": {
   "codemirror_mode": {
    "name": "ipython",
    "version": 3
   },
   "file_extension": ".py",
   "mimetype": "text/x-python",
   "name": "python",
   "nbconvert_exporter": "python",
   "pygments_lexer": "ipython3",
   "version": "3.7.6"
  }
 },
 "nbformat": 4,
 "nbformat_minor": 2
}
