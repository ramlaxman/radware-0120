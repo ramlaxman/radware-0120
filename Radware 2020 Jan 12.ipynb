{
 "cells": [
  {
   "cell_type": "code",
   "execution_count": 1,
   "metadata": {},
   "outputs": [],
   "source": [
    "# github.com/reuven/radware-0120\n",
    "\n",
    "\n",
    "\n",
    "for i in range(10):\n",
    "    x = i * i"
   ]
  },
  {
   "cell_type": "code",
   "execution_count": 2,
   "metadata": {},
   "outputs": [
    {
     "data": {
      "text/plain": [
       "9"
      ]
     },
     "execution_count": 2,
     "metadata": {},
     "output_type": "execute_result"
    }
   ],
   "source": [
    "i"
   ]
  },
  {
   "cell_type": "code",
   "execution_count": 3,
   "metadata": {},
   "outputs": [
    {
     "data": {
      "text/plain": [
       "81"
      ]
     },
     "execution_count": 3,
     "metadata": {},
     "output_type": "execute_result"
    }
   ],
   "source": [
    "x"
   ]
  },
  {
   "cell_type": "code",
   "execution_count": 4,
   "metadata": {},
   "outputs": [
    {
     "data": {
      "text/plain": [
       "{'__name__': '__main__',\n",
       " '__doc__': 'Automatically created module for IPython interactive environment',\n",
       " '__package__': None,\n",
       " '__loader__': None,\n",
       " '__spec__': None,\n",
       " '__builtin__': <module 'builtins' (built-in)>,\n",
       " '__builtins__': <module 'builtins' (built-in)>,\n",
       " '_ih': ['',\n",
       "  '# github.com/reuven/radware-0120\\n\\n\\n\\nfor i in range(10):\\n    x = i * i',\n",
       "  'i',\n",
       "  'x',\n",
       "  'globals() '],\n",
       " '_oh': {2: 9, 3: 81},\n",
       " '_dh': ['/Users/reuven/Consulting/Courses/Python/radware-0120'],\n",
       " 'In': ['',\n",
       "  '# github.com/reuven/radware-0120\\n\\n\\n\\nfor i in range(10):\\n    x = i * i',\n",
       "  'i',\n",
       "  'x',\n",
       "  'globals() '],\n",
       " 'Out': {2: 9, 3: 81},\n",
       " 'get_ipython': <bound method InteractiveShell.get_ipython of <ipykernel.zmqshell.ZMQInteractiveShell object at 0x1046c2f10>>,\n",
       " 'exit': <IPython.core.autocall.ZMQExitAutocall at 0x104775e10>,\n",
       " 'quit': <IPython.core.autocall.ZMQExitAutocall at 0x104775e10>,\n",
       " '_': 81,\n",
       " '__': 9,\n",
       " '___': '',\n",
       " '_i': 'x',\n",
       " '_ii': 'i',\n",
       " '_iii': '# github.com/reuven/radware-0120\\n\\n\\n\\nfor i in range(10):\\n    x = i * i',\n",
       " '_i1': '# github.com/reuven/radware-0120\\n\\n\\n\\nfor i in range(10):\\n    x = i * i',\n",
       " 'i': 9,\n",
       " 'x': 81,\n",
       " '_i2': 'i',\n",
       " '_2': 9,\n",
       " '_i3': 'x',\n",
       " '_3': 81,\n",
       " '_i4': 'globals() '}"
      ]
     },
     "execution_count": 4,
     "metadata": {},
     "output_type": "execute_result"
    }
   ],
   "source": [
    "globals() "
   ]
  },
  {
   "cell_type": "code",
   "execution_count": 5,
   "metadata": {},
   "outputs": [
    {
     "data": {
      "text/plain": [
       "True"
      ]
     },
     "execution_count": 5,
     "metadata": {},
     "output_type": "execute_result"
    }
   ],
   "source": [
    "'x' in globals()"
   ]
  },
  {
   "cell_type": "code",
   "execution_count": 6,
   "metadata": {},
   "outputs": [],
   "source": [
    "def myfunc():\n",
    "    x = 200\n",
    "    print(f'In myfunc, x = {x}')\n"
   ]
  },
  {
   "cell_type": "code",
   "execution_count": 7,
   "metadata": {},
   "outputs": [
    {
     "data": {
      "text/plain": [
       "('x',)"
      ]
     },
     "execution_count": 7,
     "metadata": {},
     "output_type": "execute_result"
    }
   ],
   "source": [
    "myfunc.__code__.co_varnames"
   ]
  },
  {
   "cell_type": "code",
   "execution_count": 8,
   "metadata": {},
   "outputs": [
    {
     "data": {
      "text/plain": [
       "b'd\\x01}\\x00t\\x00d\\x02|\\x00\\x9b\\x00\\x9d\\x02\\x83\\x01\\x01\\x00d\\x00S\\x00'"
      ]
     },
     "execution_count": 8,
     "metadata": {},
     "output_type": "execute_result"
    }
   ],
   "source": [
    "myfunc.__code__.co_code\n"
   ]
  },
  {
   "cell_type": "code",
   "execution_count": 9,
   "metadata": {},
   "outputs": [],
   "source": [
    "import dis"
   ]
  },
  {
   "cell_type": "code",
   "execution_count": 10,
   "metadata": {},
   "outputs": [
    {
     "name": "stdout",
     "output_type": "stream",
     "text": [
      "  2           0 LOAD_CONST               1 (200)\n",
      "              2 STORE_FAST               0 (x)\n",
      "\n",
      "  3           4 LOAD_GLOBAL              0 (print)\n",
      "              6 LOAD_CONST               2 ('In myfunc, x = ')\n",
      "              8 LOAD_FAST                0 (x)\n",
      "             10 FORMAT_VALUE             0\n",
      "             12 BUILD_STRING             2\n",
      "             14 CALL_FUNCTION            1\n",
      "             16 POP_TOP\n",
      "             18 LOAD_CONST               0 (None)\n",
      "             20 RETURN_VALUE\n"
     ]
    }
   ],
   "source": [
    "dis.dis(myfunc)"
   ]
  },
  {
   "cell_type": "code",
   "execution_count": 11,
   "metadata": {},
   "outputs": [
    {
     "name": "stdout",
     "output_type": "stream",
     "text": [
      "In first, calling second\n",
      "In second\n"
     ]
    }
   ],
   "source": [
    "def first():\n",
    "    print(\"In first, calling second\")\n",
    "    second()\n",
    "    \n",
    "def second():\n",
    "    print(\"In second\")\n",
    "    \n",
    "first()"
   ]
  },
  {
   "cell_type": "code",
   "execution_count": 14,
   "metadata": {},
   "outputs": [],
   "source": [
    "def myfunc():\n",
    "    global x\n",
    "    x = 200\n",
    "    print(f'In myfunc, x = {x}')\n"
   ]
  },
  {
   "cell_type": "code",
   "execution_count": 15,
   "metadata": {},
   "outputs": [
    {
     "data": {
      "text/plain": [
       "()"
      ]
     },
     "execution_count": 15,
     "metadata": {},
     "output_type": "execute_result"
    }
   ],
   "source": [
    "myfunc.__code__.co_varnames"
   ]
  },
  {
   "cell_type": "code",
   "execution_count": 16,
   "metadata": {},
   "outputs": [],
   "source": [
    "def hello(name):\n",
    "    return f'Hello, {name}'"
   ]
  },
  {
   "cell_type": "code",
   "execution_count": 17,
   "metadata": {},
   "outputs": [],
   "source": [
    "def outer():\n",
    "    def inner():\n",
    "        print(\"I'm in inner!\")\n",
    "    return inner"
   ]
  },
  {
   "cell_type": "code",
   "execution_count": 19,
   "metadata": {},
   "outputs": [
    {
     "name": "stdout",
     "output_type": "stream",
     "text": [
      "I'm in inner!\n"
     ]
    }
   ],
   "source": [
    "f = outer()\n",
    "f()"
   ]
  },
  {
   "cell_type": "code",
   "execution_count": 20,
   "metadata": {},
   "outputs": [
    {
     "name": "stdout",
     "output_type": "stream",
     "text": [
      "I'm in inner, x = 10, y = 5!\n",
      "I'm in inner, x = 20, y = 5!\n"
     ]
    }
   ],
   "source": [
    "def outer(x):\n",
    "    def inner(y):\n",
    "        print(f\"I'm in inner, x = {x}, y = {y}!\")\n",
    "    return inner\n",
    "\n",
    "f1 = outer(10)\n",
    "f2 = outer(20)\n",
    "\n",
    "f1(5)\n",
    "f2(5)\n"
   ]
  },
  {
   "cell_type": "code",
   "execution_count": 22,
   "metadata": {},
   "outputs": [
    {
     "data": {
      "text/plain": [
       "['__class__',\n",
       " '__delattr__',\n",
       " '__dir__',\n",
       " '__doc__',\n",
       " '__eq__',\n",
       " '__format__',\n",
       " '__ge__',\n",
       " '__getattribute__',\n",
       " '__gt__',\n",
       " '__hash__',\n",
       " '__init__',\n",
       " '__init_subclass__',\n",
       " '__le__',\n",
       " '__lt__',\n",
       " '__ne__',\n",
       " '__new__',\n",
       " '__reduce__',\n",
       " '__reduce_ex__',\n",
       " '__repr__',\n",
       " '__setattr__',\n",
       " '__sizeof__',\n",
       " '__str__',\n",
       " '__subclasshook__',\n",
       " 'co_argcount',\n",
       " 'co_cellvars',\n",
       " 'co_code',\n",
       " 'co_consts',\n",
       " 'co_filename',\n",
       " 'co_firstlineno',\n",
       " 'co_flags',\n",
       " 'co_freevars',\n",
       " 'co_kwonlyargcount',\n",
       " 'co_lnotab',\n",
       " 'co_name',\n",
       " 'co_names',\n",
       " 'co_nlocals',\n",
       " 'co_stacksize',\n",
       " 'co_varnames']"
      ]
     },
     "execution_count": 22,
     "metadata": {},
     "output_type": "execute_result"
    }
   ],
   "source": [
    "dir(f1.__code__)"
   ]
  },
  {
   "cell_type": "code",
   "execution_count": 23,
   "metadata": {},
   "outputs": [
    {
     "data": {
      "text/plain": [
       "('x',)"
      ]
     },
     "execution_count": 23,
     "metadata": {},
     "output_type": "execute_result"
    }
   ],
   "source": [
    "f1.__code__.co_freevars"
   ]
  },
  {
   "cell_type": "code",
   "execution_count": 24,
   "metadata": {},
   "outputs": [
    {
     "data": {
      "text/plain": [
       "()"
      ]
     },
     "execution_count": 24,
     "metadata": {},
     "output_type": "execute_result"
    }
   ],
   "source": [
    "f1.__code__.co_cellvars"
   ]
  },
  {
   "cell_type": "code",
   "execution_count": 28,
   "metadata": {},
   "outputs": [
    {
     "data": {
      "text/plain": [
       "10"
      ]
     },
     "execution_count": 28,
     "metadata": {},
     "output_type": "execute_result"
    }
   ],
   "source": [
    "f1.__closure__[0].cell_contents"
   ]
  },
  {
   "cell_type": "code",
   "execution_count": 29,
   "metadata": {},
   "outputs": [
    {
     "data": {
      "text/plain": [
       "30"
      ]
     },
     "execution_count": 29,
     "metadata": {},
     "output_type": "execute_result"
    }
   ],
   "source": [
    "mylist = [10, 20, 30, 40, 50]\n",
    "s = 'abcde'\n",
    "\n",
    "mylist[2]"
   ]
  },
  {
   "cell_type": "code",
   "execution_count": 30,
   "metadata": {},
   "outputs": [
    {
     "data": {
      "text/plain": [
       "'c'"
      ]
     },
     "execution_count": 30,
     "metadata": {},
     "output_type": "execute_result"
    }
   ],
   "source": [
    "s[2]"
   ]
  },
  {
   "cell_type": "code",
   "execution_count": 32,
   "metadata": {},
   "outputs": [
    {
     "data": {
      "text/plain": [
       "'c'"
      ]
     },
     "execution_count": 32,
     "metadata": {},
     "output_type": "execute_result"
    }
   ],
   "source": [
    "def index2(data):\n",
    "    return data[2]\n",
    "\n",
    "index2(s)"
   ]
  },
  {
   "cell_type": "code",
   "execution_count": 33,
   "metadata": {},
   "outputs": [
    {
     "data": {
      "text/plain": [
       "30"
      ]
     },
     "execution_count": 33,
     "metadata": {},
     "output_type": "execute_result"
    }
   ],
   "source": [
    "index2(mylist)"
   ]
  },
  {
   "cell_type": "code",
   "execution_count": 34,
   "metadata": {},
   "outputs": [
    {
     "data": {
      "text/plain": [
       "'d'"
      ]
     },
     "execution_count": 34,
     "metadata": {},
     "output_type": "execute_result"
    }
   ],
   "source": [
    "def index3(data):\n",
    "    return data[3]\n",
    "\n",
    "index3(s)"
   ]
  },
  {
   "cell_type": "code",
   "execution_count": 35,
   "metadata": {},
   "outputs": [
    {
     "data": {
      "text/plain": [
       "40"
      ]
     },
     "execution_count": 35,
     "metadata": {},
     "output_type": "execute_result"
    }
   ],
   "source": [
    "index3(mylist)"
   ]
  },
  {
   "cell_type": "code",
   "execution_count": 36,
   "metadata": {},
   "outputs": [],
   "source": [
    "def indexn(n):\n",
    "    def return_item(data):\n",
    "        return data[n]\n",
    "    return return_item"
   ]
  },
  {
   "cell_type": "code",
   "execution_count": 44,
   "metadata": {},
   "outputs": [
    {
     "data": {
      "text/plain": [
       "'c'"
      ]
     },
     "execution_count": 44,
     "metadata": {},
     "output_type": "execute_result"
    }
   ],
   "source": [
    "index2 = indexn(2)\n",
    "index2(s)"
   ]
  },
  {
   "cell_type": "code",
   "execution_count": 37,
   "metadata": {},
   "outputs": [],
   "source": [
    "index3 = indexn(3)\n",
    "index0 = indexn(0)"
   ]
  },
  {
   "cell_type": "code",
   "execution_count": 38,
   "metadata": {},
   "outputs": [],
   "source": [
    "import operator"
   ]
  },
  {
   "cell_type": "code",
   "execution_count": 42,
   "metadata": {},
   "outputs": [
    {
     "data": {
      "text/plain": [
       "'c'"
      ]
     },
     "execution_count": 42,
     "metadata": {},
     "output_type": "execute_result"
    }
   ],
   "source": [
    "index2 = operator.itemgetter(2)\n",
    "index2(s)"
   ]
  },
  {
   "cell_type": "code",
   "execution_count": 43,
   "metadata": {},
   "outputs": [],
   "source": [
    "operator.itemgetter??"
   ]
  },
  {
   "cell_type": "code",
   "execution_count": 49,
   "metadata": {},
   "outputs": [
    {
     "name": "stdout",
     "output_type": "stream",
     "text": [
      "x = 10, y = 5, called 1 times\n",
      "x = 10, y = 5, called 2 times\n",
      "x = 10, y = 5, called 3 times\n",
      "x = 10, y = 5, called 4 times\n",
      "x = 10, y = 5, called 5 times\n",
      "x = 10, y = 5, called 6 times\n",
      "x = 10, y = 5, called 7 times\n",
      "x = 10, y = 5, called 8 times\n",
      "x = 10, y = 5, called 9 times\n",
      "x = 10, y = 5, called 10 times\n",
      "x = 20, y = 5, called 1 times\n",
      "x = 20, y = 5, called 2 times\n",
      "x = 20, y = 5, called 3 times\n",
      "x = 20, y = 5, called 4 times\n",
      "x = 20, y = 5, called 5 times\n",
      "x = 20, y = 5, called 6 times\n",
      "x = 20, y = 5, called 7 times\n",
      "x = 20, y = 5, called 8 times\n",
      "x = 20, y = 5, called 9 times\n",
      "x = 20, y = 5, called 10 times\n"
     ]
    }
   ],
   "source": [
    "def outer(x):\n",
    "    count = 0\n",
    "    def inner(y):\n",
    "        nonlocal count\n",
    "        count += 1\n",
    "        print(f'x = {x}, y = {y}, called {count} times')\n",
    "    return inner\n",
    "\n",
    "func1 = outer(10)\n",
    "func2 = outer(20)\n",
    "\n",
    "for i in range(10):\n",
    "    func1(5)\n",
    "\n",
    "for i in range(10):\n",
    "    func2(5)"
   ]
  },
  {
   "cell_type": "code",
   "execution_count": 50,
   "metadata": {},
   "outputs": [
    {
     "ename": "SyntaxError",
     "evalue": "no binding for nonlocal 'x' found (<ipython-input-50-0cc2013d775f>, line 2)",
     "output_type": "error",
     "traceback": [
      "\u001b[0;36m  File \u001b[0;32m\"<ipython-input-50-0cc2013d775f>\"\u001b[0;36m, line \u001b[0;32m2\u001b[0m\n\u001b[0;31m    nonlocal x\u001b[0m\n\u001b[0m    ^\u001b[0m\n\u001b[0;31mSyntaxError\u001b[0m\u001b[0;31m:\u001b[0m no binding for nonlocal 'x' found\n"
     ]
    }
   ],
   "source": [
    "def foo():\n",
    "    nonlocal x\n",
    "    x = 100"
   ]
  },
  {
   "cell_type": "code",
   "execution_count": 51,
   "metadata": {},
   "outputs": [
    {
     "name": "stdout",
     "output_type": "stream",
     "text": [
      "Enter func name: a\n",
      "I'm in a!\n",
      "Enter func name: b\n",
      "I'm in b!\n",
      "Enter func name: c\n",
      "No such function c\n",
      "Enter func name: \n"
     ]
    }
   ],
   "source": [
    "def a():\n",
    "    return \"I'm in a!\"\n",
    "\n",
    "def b():\n",
    "    return \"I'm in b!\"\n",
    "\n",
    "while True:\n",
    "    funcname = input(\"Enter func name: \").strip()\n",
    "    \n",
    "    if not funcname:\n",
    "        break\n",
    "        \n",
    "    elif funcname == 'a':\n",
    "        print(a())\n",
    "        \n",
    "    elif funcname == 'b':\n",
    "        print(b())\n",
    "        \n",
    "    else:\n",
    "        print(f\"No such function {funcname}\")"
   ]
  },
  {
   "cell_type": "code",
   "execution_count": null,
   "metadata": {},
   "outputs": [],
   "source": [
    "def a():\n",
    "    return \"I'm in a!\"\n",
    "\n",
    "def b():\n",
    "    return \"I'm in b!\"\n",
    "\n",
    "# dispatch table\n",
    "funcs = {'a':a, \n",
    "         'b':b}\n",
    "\n",
    "while True:\n",
    "    funcname = input(\"Enter func name: \").strip()\n",
    "    \n",
    "    if not funcname:\n",
    "        break\n",
    "        \n",
    "    elif funcname in funcs:\n",
    "        print(funcs[funcname]())\n",
    "        \n",
    "    else:\n",
    "        print(f\"No such function {funcname}\")"
   ]
  },
  {
   "cell_type": "code",
   "execution_count": null,
   "metadata": {},
   "outputs": [],
   "source": [
    "2 + 2\n",
    "4 \n",
    "\n",
    "2 * 3\n",
    "6\n",
    "\n",
    "+ - * / b"
   ]
  },
  {
   "cell_type": "code",
   "execution_count": 52,
   "metadata": {},
   "outputs": [
    {
     "data": {
      "text/plain": [
       "['a', 'b', 'c']"
      ]
     },
     "execution_count": 52,
     "metadata": {},
     "output_type": "execute_result"
    }
   ],
   "source": [
    "s = 'a b c'\n",
    "s.split()"
   ]
  },
  {
   "cell_type": "code",
   "execution_count": 53,
   "metadata": {},
   "outputs": [
    {
     "data": {
      "text/plain": [
       "['3', '3']"
      ]
     },
     "execution_count": 53,
     "metadata": {},
     "output_type": "execute_result"
    }
   ],
   "source": [
    "s = '3+3'\n",
    "s.split('+')"
   ]
  },
  {
   "cell_type": "code",
   "execution_count": 54,
   "metadata": {},
   "outputs": [
    {
     "data": {
      "text/plain": [
       "4"
      ]
     },
     "execution_count": 54,
     "metadata": {},
     "output_type": "execute_result"
    }
   ],
   "source": [
    "len('abcd')"
   ]
  },
  {
   "cell_type": "code",
   "execution_count": 55,
   "metadata": {},
   "outputs": [
    {
     "data": {
      "text/plain": [
       "3"
      ]
     },
     "execution_count": 55,
     "metadata": {},
     "output_type": "execute_result"
    }
   ],
   "source": [
    "x = 1\n",
    "y = 2\n",
    "\n",
    "x + y"
   ]
  },
  {
   "cell_type": "code",
   "execution_count": 56,
   "metadata": {},
   "outputs": [
    {
     "ename": "TypeError",
     "evalue": "unsupported operand type(s) for +: 'int' and 'str'",
     "output_type": "error",
     "traceback": [
      "\u001b[0;31m---------------------------------------------------------------------------\u001b[0m",
      "\u001b[0;31mTypeError\u001b[0m                                 Traceback (most recent call last)",
      "\u001b[0;32m<ipython-input-56-3e7c08949ecc>\u001b[0m in \u001b[0;36m<module>\u001b[0;34m\u001b[0m\n\u001b[1;32m      2\u001b[0m \u001b[0my\u001b[0m \u001b[0;34m=\u001b[0m \u001b[0;34m'2'\u001b[0m\u001b[0;34m\u001b[0m\u001b[0;34m\u001b[0m\u001b[0m\n\u001b[1;32m      3\u001b[0m \u001b[0;34m\u001b[0m\u001b[0m\n\u001b[0;32m----> 4\u001b[0;31m \u001b[0mx\u001b[0m \u001b[0;34m+\u001b[0m \u001b[0my\u001b[0m\u001b[0;34m\u001b[0m\u001b[0;34m\u001b[0m\u001b[0m\n\u001b[0m",
      "\u001b[0;31mTypeError\u001b[0m: unsupported operand type(s) for +: 'int' and 'str'"
     ]
    }
   ],
   "source": [
    "x = 1\n",
    "y = '2'\n",
    "\n",
    "x + y"
   ]
  },
  {
   "cell_type": "code",
   "execution_count": 61,
   "metadata": {},
   "outputs": [
    {
     "data": {
      "text/plain": [
       "3"
      ]
     },
     "execution_count": 61,
     "metadata": {},
     "output_type": "execute_result"
    }
   ],
   "source": [
    "x  + eval(y)"
   ]
  },
  {
   "cell_type": "code",
   "execution_count": null,
   "metadata": {},
   "outputs": [],
   "source": [
    "# eval    evil \n",
    "\n"
   ]
  },
  {
   "cell_type": "code",
   "execution_count": 62,
   "metadata": {},
   "outputs": [
    {
     "name": "stdout",
     "output_type": "stream",
     "text": [
      "Enter expression: 2 + 3\n",
      "5\n",
      "Enter expression: 100 * 5\n",
      "500\n",
      "Enter expression: \n"
     ]
    }
   ],
   "source": [
    "def add(a, b):\n",
    "    return a + b\n",
    "\n",
    "def sub(a, b):\n",
    "    return a - b\n",
    "\n",
    "def mul(a, b):\n",
    "    return a * b\n",
    "\n",
    "def div(a, b):\n",
    "    return a / b\n",
    "\n",
    "funcs = {'+':add,\n",
    "        '-':sub,\n",
    "        '*':mul,\n",
    "        '/':div}\n",
    "\n",
    "while True:\n",
    "    s = input(\"Enter expression: \").strip()\n",
    "    \n",
    "    if not s:\n",
    "        break\n",
    "        \n",
    "    first, op, second = s.split()\n",
    "    \n",
    "    if op in funcs:\n",
    "        print(funcs[op](int(first), int(second)))\n",
    "        \n",
    "    else:\n",
    "        print(f\"No such operator {op}\")\n",
    "        \n",
    "    "
   ]
  },
  {
   "cell_type": "code",
   "execution_count": 64,
   "metadata": {},
   "outputs": [
    {
     "name": "stdout",
     "output_type": "stream",
     "text": [
      "Enter expression: 10 / 3\n",
      "3.3333333333333335\n",
      "Enter expression: \n"
     ]
    }
   ],
   "source": [
    "import operator\n",
    "\n",
    "funcs = {'+':operator.add,\n",
    "        '-':operator.sub,\n",
    "        '*':operator.mul,\n",
    "        '/':operator.truediv}\n",
    "\n",
    "while True:\n",
    "    s = input(\"Enter expression: \").strip()\n",
    "    \n",
    "    if not s:\n",
    "        break\n",
    "        \n",
    "    first, op, second = s.split()\n",
    "    \n",
    "    if op in funcs:\n",
    "        print(funcs[op](int(first), int(second)))\n",
    "        \n",
    "    else:\n",
    "        print(f\"No such operator {op}\")\n",
    "        \n",
    "    "
   ]
  },
  {
   "cell_type": "code",
   "execution_count": null,
   "metadata": {},
   "outputs": [],
   "source": [
    "import operator\n",
    "\n",
    "funcs = {'+':operator.add,\n",
    "        '-':operator.sub,\n",
    "        '*':operator.mul,\n",
    "        '/':operator.truediv}\n",
    "\n",
    "while True:\n",
    "    s = input(\"Enter expression: \").strip()\n",
    "    \n",
    "    if not s:\n",
    "        break\n",
    "        \n",
    "    op, *numbers = s.split()\n",
    "    \n",
    "    int_numbers = []\n",
    "    for one_number in numbers:\n",
    "        int_numbers.append(int(one_number))\n",
    "\n",
    "    if op in funcs:\n",
    "        print(funcs[op](*int_numbers)\n",
    "        \n",
    "    else:\n",
    "        print(f\"No such operator {op}\")\n",
    "        \n",
    "# Polish notation / prefix notation\n",
    "# + 2 3 4   \n",
    "\n",
    "# RPN -- reverse Polish notation\n",
    "# 2 3 + \n",
    "# 2 3 4 + *    #  -> (3 + 4 ) * 2\n",
    "\n"
   ]
  },
  {
   "cell_type": "code",
   "execution_count": 66,
   "metadata": {},
   "outputs": [
    {
     "data": {
      "text/plain": [
       "'Hello, 5'"
      ]
     },
     "execution_count": 66,
     "metadata": {},
     "output_type": "execute_result"
    }
   ],
   "source": [
    "def hello(name:str) -> str:           # type hints / annotations\n",
    "    return f'Hello, {name}'\n",
    "\n",
    "hello(5)"
   ]
  },
  {
   "cell_type": "code",
   "execution_count": 67,
   "metadata": {},
   "outputs": [
    {
     "data": {
      "text/plain": [
       "{'name': str, 'return': str}"
      ]
     },
     "execution_count": 67,
     "metadata": {},
     "output_type": "execute_result"
    }
   ],
   "source": [
    "hello.__annotations__"
   ]
  },
  {
   "cell_type": "code",
   "execution_count": 68,
   "metadata": {},
   "outputs": [
    {
     "data": {
      "text/plain": [
       "[0, 1, 4, 9, 16, 25, 36, 49, 64, 81]"
      ]
     },
     "execution_count": 68,
     "metadata": {},
     "output_type": "execute_result"
    }
   ],
   "source": [
    "numbers = range(10)\n",
    "\n",
    "output = []\n",
    "\n",
    "for one_number in numbers:\n",
    "    output.append(one_number * one_number)\n",
    "    \n",
    "output"
   ]
  },
  {
   "cell_type": "code",
   "execution_count": 69,
   "metadata": {},
   "outputs": [
    {
     "data": {
      "text/plain": [
       "[0, 1, 4, 9, 16, 25, 36, 49, 64, 81]"
      ]
     },
     "execution_count": 69,
     "metadata": {},
     "output_type": "execute_result"
    }
   ],
   "source": [
    "[one_number * one_number for one_number in numbers]"
   ]
  },
  {
   "cell_type": "code",
   "execution_count": 70,
   "metadata": {},
   "outputs": [
    {
     "data": {
      "text/plain": [
       "[0, 1, 4, 9, 16, 25, 36, 49, 64, 81]"
      ]
     },
     "execution_count": 70,
     "metadata": {},
     "output_type": "execute_result"
    }
   ],
   "source": [
    "[one_number * one_number         # SELECT\n",
    " for one_number in numbers]      # FROM"
   ]
  },
  {
   "cell_type": "code",
   "execution_count": 71,
   "metadata": {},
   "outputs": [
    {
     "data": {
      "text/plain": [
       "'a*b*c'"
      ]
     },
     "execution_count": 71,
     "metadata": {},
     "output_type": "execute_result"
    }
   ],
   "source": [
    "mylist = ['a', 'b', 'c']\n",
    "'*'.join(mylist)"
   ]
  },
  {
   "cell_type": "code",
   "execution_count": 72,
   "metadata": {},
   "outputs": [
    {
     "ename": "TypeError",
     "evalue": "sequence item 0: expected str instance, int found",
     "output_type": "error",
     "traceback": [
      "\u001b[0;31m---------------------------------------------------------------------------\u001b[0m",
      "\u001b[0;31mTypeError\u001b[0m                                 Traceback (most recent call last)",
      "\u001b[0;32m<ipython-input-72-9f168fe76eec>\u001b[0m in \u001b[0;36m<module>\u001b[0;34m\u001b[0m\n\u001b[1;32m      1\u001b[0m \u001b[0mmylist\u001b[0m \u001b[0;34m=\u001b[0m \u001b[0;34m[\u001b[0m\u001b[0;36m10\u001b[0m\u001b[0;34m,\u001b[0m \u001b[0;36m20\u001b[0m\u001b[0;34m,\u001b[0m \u001b[0;36m30\u001b[0m\u001b[0;34m]\u001b[0m\u001b[0;34m\u001b[0m\u001b[0;34m\u001b[0m\u001b[0m\n\u001b[0;32m----> 2\u001b[0;31m \u001b[0;34m'*'\u001b[0m\u001b[0;34m.\u001b[0m\u001b[0mjoin\u001b[0m\u001b[0;34m(\u001b[0m\u001b[0mmylist\u001b[0m\u001b[0;34m)\u001b[0m\u001b[0;34m\u001b[0m\u001b[0;34m\u001b[0m\u001b[0m\n\u001b[0m",
      "\u001b[0;31mTypeError\u001b[0m: sequence item 0: expected str instance, int found"
     ]
    }
   ],
   "source": [
    "mylist = [10, 20, 30]\n",
    "'*'.join(mylist)"
   ]
  },
  {
   "cell_type": "code",
   "execution_count": 73,
   "metadata": {},
   "outputs": [
    {
     "data": {
      "text/plain": [
       "['10', '20', '30']"
      ]
     },
     "execution_count": 73,
     "metadata": {},
     "output_type": "execute_result"
    }
   ],
   "source": [
    "[str(one_item)\n",
    "for one_item in mylist]"
   ]
  },
  {
   "cell_type": "code",
   "execution_count": 74,
   "metadata": {},
   "outputs": [
    {
     "data": {
      "text/plain": [
       "'10*20*30'"
      ]
     },
     "execution_count": 74,
     "metadata": {},
     "output_type": "execute_result"
    }
   ],
   "source": [
    "'*'.join([str(one_item)\n",
    "         for one_item in mylist])"
   ]
  },
  {
   "cell_type": "code",
   "execution_count": 77,
   "metadata": {},
   "outputs": [
    {
     "data": {
      "text/plain": [
       "['*', '*', '*', '*', '*', '*', '*', '*', '*', '*']"
      ]
     },
     "execution_count": 77,
     "metadata": {},
     "output_type": "execute_result"
    }
   ],
   "source": [
    "['*'\n",
    "for _ in range(10)]"
   ]
  },
  {
   "cell_type": "code",
   "execution_count": 78,
   "metadata": {},
   "outputs": [
    {
     "data": {
      "text/plain": [
       "['*', '*', '*', '*', '*', '*', '*', '*', '*', '*']"
      ]
     },
     "execution_count": 78,
     "metadata": {},
     "output_type": "execute_result"
    }
   ],
   "source": [
    "i = 500\n",
    "\n",
    "['*'\n",
    "for i in range(10)]"
   ]
  },
  {
   "cell_type": "code",
   "execution_count": 79,
   "metadata": {},
   "outputs": [
    {
     "data": {
      "text/plain": [
       "500"
      ]
     },
     "execution_count": 79,
     "metadata": {},
     "output_type": "execute_result"
    }
   ],
   "source": [
    "i"
   ]
  },
  {
   "cell_type": "code",
   "execution_count": 80,
   "metadata": {},
   "outputs": [
    {
     "data": {
      "text/plain": [
       "'**********'"
      ]
     },
     "execution_count": 80,
     "metadata": {},
     "output_type": "execute_result"
    }
   ],
   "source": [
    "''.join(['*'\n",
    "        for i in range(10)])"
   ]
  },
  {
   "cell_type": "code",
   "execution_count": 81,
   "metadata": {},
   "outputs": [
    {
     "data": {
      "text/plain": [
       "'**********'"
      ]
     },
     "execution_count": 81,
     "metadata": {},
     "output_type": "execute_result"
    }
   ],
   "source": [
    "'*' * 10"
   ]
  },
  {
   "cell_type": "code",
   "execution_count": 82,
   "metadata": {},
   "outputs": [
    {
     "data": {
      "text/plain": [
       "'This Is A Test Sentence For My Python Course'"
      ]
     },
     "execution_count": 82,
     "metadata": {},
     "output_type": "execute_result"
    }
   ],
   "source": [
    "s = 'this is a test sentence for my Python course'\n",
    "\n",
    "s.title()"
   ]
  },
  {
   "cell_type": "code",
   "execution_count": 83,
   "metadata": {},
   "outputs": [
    {
     "data": {
      "text/plain": [
       "'this is a test sentence for my Python course'"
      ]
     },
     "execution_count": 83,
     "metadata": {},
     "output_type": "execute_result"
    }
   ],
   "source": [
    "s"
   ]
  },
  {
   "cell_type": "code",
   "execution_count": 87,
   "metadata": {},
   "outputs": [
    {
     "data": {
      "text/plain": [
       "'This Is A Test Sentence For My Python Course'"
      ]
     },
     "execution_count": 87,
     "metadata": {},
     "output_type": "execute_result"
    }
   ],
   "source": [
    "' '.join([one_word.capitalize()\n",
    " for one_word in s.split()])"
   ]
  },
  {
   "cell_type": "code",
   "execution_count": 88,
   "metadata": {},
   "outputs": [
    {
     "data": {
      "text/plain": [
       "150"
      ]
     },
     "execution_count": 88,
     "metadata": {},
     "output_type": "execute_result"
    }
   ],
   "source": [
    "# 10 20 30 40 50\n",
    "# 150\n",
    "\n",
    "sum([10, 20, 30, 40, 50])"
   ]
  },
  {
   "cell_type": "code",
   "execution_count": 89,
   "metadata": {},
   "outputs": [
    {
     "name": "stdout",
     "output_type": "stream",
     "text": [
      "Enter numbers: 10 20 30 40 50\n"
     ]
    }
   ],
   "source": [
    "s = input(\"Enter numbers: \")\n",
    "\n"
   ]
  },
  {
   "cell_type": "code",
   "execution_count": 93,
   "metadata": {},
   "outputs": [
    {
     "data": {
      "text/plain": [
       "150"
      ]
     },
     "execution_count": 93,
     "metadata": {},
     "output_type": "execute_result"
    }
   ],
   "source": [
    "sum([int(one_number)\n",
    "     for one_number in s.split()])"
   ]
  },
  {
   "cell_type": "code",
   "execution_count": 97,
   "metadata": {
    "scrolled": true
   },
   "outputs": [
    {
     "data": {
      "text/plain": [
       "['nobody',\n",
       " 'root',\n",
       " 'daemon',\n",
       " '_uucp',\n",
       " '_taskgated',\n",
       " '_networkd',\n",
       " '_installassistant',\n",
       " '_lp',\n",
       " '_postfix',\n",
       " '_scsd',\n",
       " '_ces',\n",
       " '_appstore',\n",
       " '_mcxalr',\n",
       " '_appleevents',\n",
       " '_geod',\n",
       " '_devdocs',\n",
       " '_sandbox',\n",
       " '_mdnsresponder',\n",
       " '_ard',\n",
       " '_www',\n",
       " '_eppc',\n",
       " '_cvs',\n",
       " '_svn',\n",
       " '_mysql',\n",
       " '_sshd',\n",
       " '_qtss',\n",
       " '_cyrus',\n",
       " '_mailman',\n",
       " '_appserver',\n",
       " '_clamav',\n",
       " '_amavisd',\n",
       " '_jabber',\n",
       " '_appowner',\n",
       " '_windowserver',\n",
       " '_spotlight',\n",
       " '_tokend',\n",
       " '_securityagent',\n",
       " '_calendar',\n",
       " '_teamsserver',\n",
       " '_update_sharing',\n",
       " '_installer',\n",
       " '_atsserver',\n",
       " '_ftp',\n",
       " '_unknown',\n",
       " '_softwareupdate',\n",
       " '_coreaudiod',\n",
       " '_screensaver',\n",
       " '_locationd',\n",
       " '_trustevaluationagent',\n",
       " '_timezone',\n",
       " '_lda',\n",
       " '_cvmsroot',\n",
       " '_usbmuxd',\n",
       " '_dovecot',\n",
       " '_dpaudio',\n",
       " '_postgres',\n",
       " '_krbtgt',\n",
       " '_kadmin_admin',\n",
       " '_kadmin_changepw',\n",
       " '_devicemgr',\n",
       " '_webauthserver',\n",
       " '_netbios',\n",
       " '_warmd',\n",
       " '_dovenull',\n",
       " '_netstatistics',\n",
       " '_avbdeviced',\n",
       " '_krb_krbtgt',\n",
       " '_krb_kadmin',\n",
       " '_krb_changepw',\n",
       " '_krb_kerberos',\n",
       " '_krb_anonymous',\n",
       " '_assetcache',\n",
       " '_coremediaiod',\n",
       " '_launchservicesd',\n",
       " '_iconservices',\n",
       " '_distnote',\n",
       " '_nsurlsessiond',\n",
       " '_nsurlstoraged',\n",
       " '_displaypolicyd',\n",
       " '_astris',\n",
       " '_krbfast',\n",
       " '_gamecontrollerd',\n",
       " '_mbsetupuser',\n",
       " '_ondemand',\n",
       " '_xserverdocs',\n",
       " '_wwwproxy',\n",
       " '_mobileasset',\n",
       " '_findmydevice',\n",
       " '_datadetectors',\n",
       " '_captiveagent',\n",
       " '_ctkd',\n",
       " '_applepay',\n",
       " '_hidd',\n",
       " '_cmiodalassistants',\n",
       " '_analyticsd',\n",
       " '_fpsd',\n",
       " '_timed',\n",
       " '_nearbyd',\n",
       " '_reportmemoryexception',\n",
       " '_driverkit']"
      ]
     },
     "execution_count": 97,
     "metadata": {},
     "output_type": "execute_result"
    }
   ],
   "source": [
    "[one_line.split(':')[0]\n",
    "for one_line in open('/etc/passwd')\n",
    "if not one_line.startswith(\"#\")]"
   ]
  },
  {
   "cell_type": "code",
   "execution_count": 99,
   "metadata": {},
   "outputs": [
    {
     "name": "stdout",
     "output_type": "stream",
     "text": [
      "linux-etc-passwd.txt  myconfig.txt  shoe-data.txt\r\n",
      "mini-access-log.txt   nums.txt\t    wcfile.txt\r\n"
     ]
    }
   ],
   "source": [
    "%ls *.txt"
   ]
  },
  {
   "cell_type": "code",
   "execution_count": 101,
   "metadata": {},
   "outputs": [
    {
     "name": "stdout",
     "output_type": "stream",
     "text": [
      "0\n",
      "1\n",
      "2\n",
      "3\n",
      "4\n"
     ]
    },
    {
     "data": {
      "text/plain": [
       "[None, None, None, None, None]"
      ]
     },
     "execution_count": 101,
     "metadata": {},
     "output_type": "execute_result"
    }
   ],
   "source": [
    "[print(x)\n",
    "for x in range(5)]"
   ]
  },
  {
   "cell_type": "code",
   "execution_count": 103,
   "metadata": {},
   "outputs": [
    {
     "data": {
      "text/plain": [
       "[('a', 10), ('b', 20), ('c', 30), ('d', 40)]"
      ]
     },
     "execution_count": 103,
     "metadata": {},
     "output_type": "execute_result"
    }
   ],
   "source": [
    "x = 'abcd'\n",
    "y = [10, 20, 30, 40]\n",
    "\n",
    "list(zip(x, y))"
   ]
  },
  {
   "cell_type": "code",
   "execution_count": 104,
   "metadata": {},
   "outputs": [
    {
     "data": {
      "text/plain": [
       "{'a': 10, 'b': 20, 'c': 30, 'd': 40}"
      ]
     },
     "execution_count": 104,
     "metadata": {},
     "output_type": "execute_result"
    }
   ],
   "source": [
    "dict(zip(x,y))"
   ]
  },
  {
   "cell_type": "code",
   "execution_count": 108,
   "metadata": {},
   "outputs": [
    {
     "name": "stdout",
     "output_type": "stream",
     "text": [
      "Enter numbers: 10 20 30 10 20 30\n"
     ]
    }
   ],
   "source": [
    "s = input(\"Enter numbers: \")"
   ]
  },
  {
   "cell_type": "code",
   "execution_count": 109,
   "metadata": {},
   "outputs": [
    {
     "data": {
      "text/plain": [
       "120"
      ]
     },
     "execution_count": 109,
     "metadata": {},
     "output_type": "execute_result"
    }
   ],
   "source": [
    "sum([int(one_number)\n",
    "for one_number in s.split()])"
   ]
  },
  {
   "cell_type": "code",
   "execution_count": 110,
   "metadata": {},
   "outputs": [
    {
     "data": {
      "text/plain": [
       "60"
      ]
     },
     "execution_count": 110,
     "metadata": {},
     "output_type": "execute_result"
    }
   ],
   "source": [
    "sum(set([int(one_number)\n",
    "for one_number in s.split()]))"
   ]
  },
  {
   "cell_type": "code",
   "execution_count": 111,
   "metadata": {},
   "outputs": [
    {
     "data": {
      "text/plain": [
       "{10, 20, 30}"
      ]
     },
     "execution_count": 111,
     "metadata": {},
     "output_type": "execute_result"
    }
   ],
   "source": [
    "# set comprehension\n",
    "{int(one_number)\n",
    "for one_number in s.split()}"
   ]
  },
  {
   "cell_type": "code",
   "execution_count": 112,
   "metadata": {},
   "outputs": [
    {
     "name": "stdout",
     "output_type": "stream",
     "text": [
      "67.218.116.165 - - [30/Jan/2010:00:03:18 +0200] \"GET /robots.txt HTTP/1.0\" 200 99 \"-\" \"Mozilla/5.0 (Twiceler-0.9 http://www.cuil.com/twiceler/robot.html)\"\r\n",
      "66.249.71.65 - - [30/Jan/2010:00:12:06 +0200] \"GET /browse/one_node/1557 HTTP/1.1\" 200 39208 \"-\" \"Mozilla/5.0 (compatible; Googlebot/2.1; +http://www.google.com/bot.html)\"\r\n",
      "65.55.106.183 - - [30/Jan/2010:01:29:23 +0200] \"GET /robots.txt HTTP/1.1\" 200 99 \"-\" \"msnbot/2.0b (+http://search.msn.com/msnbot.htm)\"\r\n",
      "65.55.106.183 - - [30/Jan/2010:01:30:06 +0200] \"GET /browse/one_model/2162 HTTP/1.1\" 200 2181 \"-\" \"msnbot/2.0b (+http://search.msn.com/msnbot.htm)\"\r\n",
      "66.249.71.65 - - [30/Jan/2010:02:07:14 +0200] \"GET /browse/browse_applet_tab/2593 HTTP/1.1\" 200 10305 \"-\" \"Mozilla/5.0 (compatible; Googlebot/2.1; +http://www.google.com/bot.html)\"\r\n",
      "66.249.71.65 - - [30/Jan/2010:02:10:39 +0200] \"GET /browse/browse_files_tab/2499?tab=true HTTP/1.1\" 200 446 \"-\" \"Mozilla/5.0 (compatible; Googlebot/2.1; +http://www.google.com/bot.html)\"\r\n",
      "66.249.65.12 - - [30/Jan/2010:03:13:34 +0200] \"GET /robots.txt HTTP/1.1\" 200 99 \"-\" \"Mozilla/5.0 (compatible; Googlebot/2.1; +http://www.google.com/bot.html)\"\r\n",
      "66.249.65.12 - - [30/Jan/2010:03:13:34 +0200] \"GET /browse/one_node/2715 HTTP/1.1\" 200 26433 \"-\" \"Mozilla/5.0 (compatible; Googlebot/2.1; +http://www.google.com/bot.html)\"\r\n",
      "66.249.65.12 - - [30/Jan/2010:03:43:39 +0200] \"GET /browse/download_model/1969 HTTP/1.1\" 200 31713 \"-\" \"Mozilla/5.0 (compatible; Googlebot/2.1; +http://www.google.com/bot.html)\"\r\n",
      "66.249.65.12 - - [30/Jan/2010:04:05:43 +0200] \"GET /browse/one_node/1406 HTTP/1.1\" 302 118 \"-\" \"Mozilla/5.0 (compatible; Googlebot/2.1; +http://www.google.com/bot.html)\"\r\n"
     ]
    }
   ],
   "source": [
    "!head mini-access-log.txt"
   ]
  },
  {
   "cell_type": "code",
   "execution_count": 114,
   "metadata": {
    "collapsed": true
   },
   "outputs": [
    {
     "data": {
      "text/plain": [
       "['67.218.116.165',\n",
       " '66.249.71.65',\n",
       " '65.55.106.183',\n",
       " '65.55.106.183',\n",
       " '66.249.71.65',\n",
       " '66.249.71.65',\n",
       " '66.249.65.12',\n",
       " '66.249.65.12',\n",
       " '66.249.65.12',\n",
       " '66.249.65.12',\n",
       " '66.249.65.12',\n",
       " '65.55.106.131',\n",
       " '65.55.106.131',\n",
       " '66.249.65.12',\n",
       " '66.249.65.12',\n",
       " '66.249.65.12',\n",
       " '66.249.65.12',\n",
       " '66.249.65.12',\n",
       " '66.249.65.12',\n",
       " '66.249.65.12',\n",
       " '65.55.106.186',\n",
       " '65.55.106.186',\n",
       " '66.249.65.12',\n",
       " '66.249.65.12',\n",
       " '66.249.65.12',\n",
       " '74.52.245.146',\n",
       " '74.52.245.146',\n",
       " '66.249.65.43',\n",
       " '66.249.65.43',\n",
       " '66.249.65.43',\n",
       " '66.249.65.12',\n",
       " '66.249.65.12',\n",
       " '66.249.65.12',\n",
       " '66.249.65.12',\n",
       " '66.249.65.12',\n",
       " '66.249.65.12',\n",
       " '65.55.207.25',\n",
       " '65.55.207.25',\n",
       " '66.249.65.12',\n",
       " '66.249.65.12',\n",
       " '66.249.65.12',\n",
       " '66.249.65.12',\n",
       " '66.249.65.12',\n",
       " '66.249.65.12',\n",
       " '66.249.65.12',\n",
       " '65.55.207.94',\n",
       " '65.55.207.94',\n",
       " '66.249.65.12',\n",
       " '65.55.207.71',\n",
       " '66.249.65.12',\n",
       " '66.249.65.12',\n",
       " '66.249.65.12',\n",
       " '98.242.170.241',\n",
       " '66.249.65.38',\n",
       " '66.249.65.38',\n",
       " '66.249.65.38',\n",
       " '66.249.65.38',\n",
       " '66.249.65.38',\n",
       " '66.249.65.38',\n",
       " '66.249.65.38',\n",
       " '66.249.65.38',\n",
       " '66.249.65.38',\n",
       " '66.249.65.38',\n",
       " '66.249.65.38',\n",
       " '66.249.65.38',\n",
       " '66.249.65.38',\n",
       " '66.249.65.38',\n",
       " '66.249.65.38',\n",
       " '66.249.65.38',\n",
       " '66.249.65.38',\n",
       " '66.249.65.38',\n",
       " '66.249.65.38',\n",
       " '66.249.65.38',\n",
       " '66.249.65.38',\n",
       " '66.249.65.38',\n",
       " '66.249.65.38',\n",
       " '66.249.65.38',\n",
       " '66.249.65.38',\n",
       " '66.249.65.38',\n",
       " '65.55.207.126',\n",
       " '65.55.207.126',\n",
       " '66.249.65.38',\n",
       " '66.249.65.38',\n",
       " '66.249.65.38',\n",
       " '66.249.65.38',\n",
       " '82.34.9.20',\n",
       " '82.34.9.20',\n",
       " '66.249.65.38',\n",
       " '66.249.65.38',\n",
       " '66.249.65.38',\n",
       " '66.249.65.38',\n",
       " '66.249.65.38',\n",
       " '66.249.65.38',\n",
       " '66.249.65.38',\n",
       " '66.249.65.38',\n",
       " '66.249.65.38',\n",
       " '65.55.106.155',\n",
       " '65.55.106.155',\n",
       " '66.249.65.38',\n",
       " '66.249.65.38',\n",
       " '66.249.65.38',\n",
       " '66.249.65.38',\n",
       " '66.249.65.38',\n",
       " '65.55.207.77',\n",
       " '65.55.207.77',\n",
       " '66.249.65.38',\n",
       " '67.218.116.165',\n",
       " '66.249.65.38',\n",
       " '208.80.193.28',\n",
       " '66.249.65.38',\n",
       " '66.249.65.38',\n",
       " '66.249.65.38',\n",
       " '66.249.65.38',\n",
       " '66.249.65.38',\n",
       " '66.249.65.38',\n",
       " '66.249.65.38',\n",
       " '66.249.65.38',\n",
       " '66.249.65.38',\n",
       " '89.248.172.58',\n",
       " '89.248.172.58',\n",
       " '89.248.172.58',\n",
       " '89.248.172.58',\n",
       " '89.248.172.58',\n",
       " '89.248.172.58',\n",
       " '89.248.172.58',\n",
       " '89.248.172.58',\n",
       " '89.248.172.58',\n",
       " '89.248.172.58',\n",
       " '89.248.172.58',\n",
       " '89.248.172.58',\n",
       " '89.248.172.58',\n",
       " '89.248.172.58',\n",
       " '89.248.172.58',\n",
       " '89.248.172.58',\n",
       " '89.248.172.58',\n",
       " '89.248.172.58',\n",
       " '89.248.172.58',\n",
       " '89.248.172.58',\n",
       " '89.248.172.58',\n",
       " '89.248.172.58',\n",
       " '66.249.65.38',\n",
       " '66.249.65.38',\n",
       " '66.249.65.38',\n",
       " '66.249.65.38',\n",
       " '66.249.65.38',\n",
       " '66.249.65.38',\n",
       " '66.249.65.38',\n",
       " '66.249.65.38',\n",
       " '66.249.65.38',\n",
       " '66.249.65.38',\n",
       " '66.249.65.38',\n",
       " '66.249.65.38',\n",
       " '66.249.65.38',\n",
       " '66.249.65.38',\n",
       " '66.249.65.38',\n",
       " '66.249.65.38',\n",
       " '66.249.65.38',\n",
       " '66.249.65.38',\n",
       " '66.249.65.38',\n",
       " '66.249.65.38',\n",
       " '66.249.65.38',\n",
       " '66.249.65.38',\n",
       " '66.249.65.38',\n",
       " '66.249.65.38',\n",
       " '66.249.65.38',\n",
       " '66.249.65.38',\n",
       " '66.249.65.38',\n",
       " '66.249.65.38',\n",
       " '66.249.65.38',\n",
       " '67.195.112.35',\n",
       " '67.195.112.35',\n",
       " '67.195.112.35',\n",
       " '67.195.112.35',\n",
       " '67.195.112.35',\n",
       " '67.195.112.35',\n",
       " '67.195.112.35',\n",
       " '67.195.112.35',\n",
       " '67.195.112.35',\n",
       " '67.195.112.35',\n",
       " '67.195.112.35',\n",
       " '67.195.112.35',\n",
       " '67.195.112.35',\n",
       " '67.195.112.35',\n",
       " '67.195.112.35',\n",
       " '67.195.112.35',\n",
       " '66.249.65.38',\n",
       " '65.55.207.50',\n",
       " '65.55.207.50',\n",
       " '65.55.207.50',\n",
       " '66.249.65.38',\n",
       " '66.249.65.38',\n",
       " '66.249.65.38',\n",
       " '66.249.65.38',\n",
       " '66.249.65.38',\n",
       " '66.249.65.38',\n",
       " '65.55.215.75',\n",
       " '65.55.215.75',\n",
       " '66.249.65.38',\n",
       " '66.249.65.38',\n",
       " '66.249.65.38',\n",
       " '66.249.65.38',\n",
       " '66.249.65.38',\n",
       " '66.249.65.38',\n",
       " '66.249.65.38',\n",
       " '66.249.65.38',\n",
       " '66.249.65.38']"
      ]
     },
     "execution_count": 114,
     "metadata": {},
     "output_type": "execute_result"
    }
   ],
   "source": [
    "[one_line.split()[0]\n",
    "for one_line in open('mini-access-log.txt')]"
   ]
  },
  {
   "cell_type": "code",
   "execution_count": 115,
   "metadata": {},
   "outputs": [
    {
     "data": {
      "text/plain": [
       "{'208.80.193.28',\n",
       " '65.55.106.131',\n",
       " '65.55.106.155',\n",
       " '65.55.106.183',\n",
       " '65.55.106.186',\n",
       " '65.55.207.126',\n",
       " '65.55.207.25',\n",
       " '65.55.207.50',\n",
       " '65.55.207.71',\n",
       " '65.55.207.77',\n",
       " '65.55.207.94',\n",
       " '65.55.215.75',\n",
       " '66.249.65.12',\n",
       " '66.249.65.38',\n",
       " '66.249.65.43',\n",
       " '66.249.71.65',\n",
       " '67.195.112.35',\n",
       " '67.218.116.165',\n",
       " '74.52.245.146',\n",
       " '82.34.9.20',\n",
       " '89.248.172.58',\n",
       " '98.242.170.241'}"
      ]
     },
     "execution_count": 115,
     "metadata": {},
     "output_type": "execute_result"
    }
   ],
   "source": [
    "{one_line.split()[0]\n",
    "for one_line in open('mini-access-log.txt')}"
   ]
  },
  {
   "cell_type": "code",
   "execution_count": 120,
   "metadata": {},
   "outputs": [
    {
     "name": "stdout",
     "output_type": "stream",
     "text": [
      "67.218.116.165      : xx\n",
      "66.249.71.65        : xxx\n",
      "65.55.106.183       : xx\n",
      "66.249.65.12        : xxxxxxxxxxxxxxxxxxxxxxxxxxxxxxxx\n",
      "65.55.106.131       : xx\n",
      "65.55.106.186       : xx\n",
      "74.52.245.146       : xx\n",
      "66.249.65.43        : xxx\n",
      "65.55.207.25        : xx\n",
      "65.55.207.94        : xx\n",
      "65.55.207.71        : x\n",
      "98.242.170.241      : x\n",
      "66.249.65.38        : xxxxxxxxxxxxxxxxxxxxxxxxxxxxxxxxxxxxxxxxxxxxxxxxxxxxxxxxxxxxxxxxxxxxxxxxxxxxxxxxxxxxxxxxxxxxxxxxxxxx\n",
      "65.55.207.126       : xx\n",
      "82.34.9.20          : xx\n",
      "65.55.106.155       : xx\n",
      "65.55.207.77        : xx\n",
      "208.80.193.28       : x\n",
      "89.248.172.58       : xxxxxxxxxxxxxxxxxxxxxx\n",
      "67.195.112.35       : xxxxxxxxxxxxxxxx\n",
      "65.55.207.50        : xxx\n",
      "65.55.215.75        : xx\n"
     ]
    }
   ],
   "source": [
    "from collections import Counter\n",
    "\n",
    "c = Counter([one_line.split()[0]\n",
    "     for one_line in open('mini-access-log.txt')])\n",
    "\n",
    "for key, value in c.items():\n",
    "    print(f'{key:20}: {value * \"x\"}')"
   ]
  },
  {
   "cell_type": "code",
   "execution_count": 121,
   "metadata": {},
   "outputs": [
    {
     "name": "stdout",
     "output_type": "stream",
     "text": [
      "# This is a comment\r\n",
      "# You should ignore me\r\n",
      "root:x:0:0:root:/root:/bin/bash\r\n",
      "daemon:x:1:1:daemon:/usr/sbin:/usr/sbin/nologin\r\n",
      "bin:x:2:2:bin:/bin:/usr/sbin/nologin\r\n",
      "sys:x:3:3:sys:/dev:/usr/sbin/nologin\r\n",
      "sync:x:4:65534:sync:/bin:/bin/sync\r\n",
      "games:x:5:60:games:/usr/games:/usr/sbin/nologin\r\n",
      "man:x:6:12:man:/var/cache/man:/usr/sbin/nologin\r\n",
      "lp:x:7:7:lp:/var/spool/lpd:/usr/sbin/nologin\r\n"
     ]
    }
   ],
   "source": [
    "!head linux-etc-passwd.txt"
   ]
  },
  {
   "cell_type": "code",
   "execution_count": 122,
   "metadata": {},
   "outputs": [],
   "source": [
    "# - set comprehension on linux-etc-passwd.txt  (from files.lerner.co.il)\n",
    "# - ignore comment lines\n",
    "# - ignore blank lines\n",
    "# - what are the different values for shell (i.e., final element on each line)?"
   ]
  },
  {
   "cell_type": "code",
   "execution_count": 125,
   "metadata": {},
   "outputs": [
    {
     "data": {
      "text/plain": [
       "['root:x:0:0:root:/root:/bin/bash\\n',\n",
       " 'daemon:x:1:1:daemon:/usr/sbin:/usr/sbin/nologin\\n',\n",
       " 'bin:x:2:2:bin:/bin:/usr/sbin/nologin\\n',\n",
       " 'sys:x:3:3:sys:/dev:/usr/sbin/nologin\\n',\n",
       " 'sync:x:4:65534:sync:/bin:/bin/sync\\n',\n",
       " 'games:x:5:60:games:/usr/games:/usr/sbin/nologin\\n',\n",
       " 'man:x:6:12:man:/var/cache/man:/usr/sbin/nologin\\n',\n",
       " 'lp:x:7:7:lp:/var/spool/lpd:/usr/sbin/nologin\\n',\n",
       " 'mail:x:8:8:mail:/var/mail:/usr/sbin/nologin\\n',\n",
       " 'news:x:9:9:news:/var/spool/news:/usr/sbin/nologin\\n',\n",
       " 'uucp:x:10:10:uucp:/var/spool/uucp:/usr/sbin/nologin\\n',\n",
       " 'proxy:x:13:13:proxy:/bin:/usr/sbin/nologin\\n',\n",
       " 'www-data:x:33:33:www-data:/var/www:/usr/sbin/nologin\\n',\n",
       " 'backup:x:34:34:backup:/var/backups:/usr/sbin/nologin\\n',\n",
       " 'list:x:38:38:Mailing List Manager:/var/list:/usr/sbin/nologin\\n',\n",
       " 'irc:x:39:39:ircd:/var/run/ircd:/usr/sbin/nologin\\n',\n",
       " 'gnats:x:41:41:Gnats Bug-Reporting System (admin):/var/lib/gnats:/usr/sbin/nologin\\n',\n",
       " 'nobody:x:65534:65534:nobody:/nonexistent:/usr/sbin/nologin\\n',\n",
       " 'syslog:x:101:104::/home/syslog:/bin/false\\n',\n",
       " 'messagebus:x:102:106::/var/run/dbus:/bin/false\\n',\n",
       " 'landscape:x:103:109::/var/lib/landscape:/bin/false\\n',\n",
       " 'jci:x:955:955::/home/jci:/bin/bash\\n',\n",
       " 'sshd:x:104:65534::/var/run/sshd:/usr/sbin/nologin\\n',\n",
       " 'user:x:1000:1000:user,,,:/home/user:/bin/bash\\n',\n",
       " 'reuven:x:1001:1001:Reuven M. Lerner,,,:/home/reuven:/bin/bash\\n',\n",
       " 'postfix:x:105:113::/var/spool/postfix:/bin/false\\n',\n",
       " 'colord:x:106:116:colord colour management daemon,,,:/var/lib/colord:/bin/false\\n',\n",
       " 'postgres:x:107:117:PostgreSQL administrator,,,:/var/lib/postgresql:/bin/bash\\n',\n",
       " 'dovecot:x:108:119:Dovecot mail server,,,:/usr/lib/dovecot:/bin/false\\n',\n",
       " 'dovenull:x:109:120:Dovecot login user,,,:/nonexistent:/bin/false\\n',\n",
       " 'postgrey:x:110:121::/var/lib/postgrey:/bin/false\\n',\n",
       " 'debian-spamd:x:111:122::/var/lib/spamassassin:/bin/sh\\n',\n",
       " 'memcache:x:113:124:Memcached,,,:/nonexistent:/bin/false\\n',\n",
       " 'genadi:x:1002:1003:Genadi Reznichenko,,,:/home/genadi:/bin/bash\\n',\n",
       " 'shira:x:1003:1004:Shira Friedman,,,:/home/shira:/bin/bash\\n',\n",
       " 'atara:x:1004:1005:Atara Lerner-Friedman,,,:/home/atara:/bin/bash\\n',\n",
       " 'shikma:x:1005:1006:Shikma Lerner-Friedman,,,:/home/shikma:/bin/bash\\n',\n",
       " 'amotz:x:1006:1007:Amotz Lerner-Friedman,,,:/home/amotz:/bin/bash\\n',\n",
       " 'mysql:x:114:125:MySQL Server,,,:/nonexistent:/bin/false\\n',\n",
       " 'clamav:x:115:126::/var/lib/clamav:/bin/false\\n',\n",
       " 'amavis:x:116:127:AMaViS system user,,,:/var/lib/amavis:/bin/sh\\n',\n",
       " 'opendkim:x:117:128::/var/run/opendkim:/bin/false\\n',\n",
       " 'gitlab-redis:x:999:1009::/var/opt/gitlab/redis:/bin/nologin\\n',\n",
       " 'gitlab-psql:x:998:1010::/var/opt/gitlab/postgresql:/bin/sh\\n',\n",
       " 'git:x:1007:1008:GitLab,,,:/home/git:/bin/bash\\n',\n",
       " 'opendmarc:x:118:129::/var/run/opendmarc:/bin/false\\n',\n",
       " 'dkim-milter-python:x:119:130::/var/run/dkim-milter-python:/bin/false\\n',\n",
       " 'deploy:x:1008:1011:Deploy,,,:/home/deploy:/bin/bash\\n',\n",
       " 'redis:x:112:123:redis server,,,:/var/lib/redis:/bin/false\\n']"
      ]
     },
     "execution_count": 125,
     "metadata": {},
     "output_type": "execute_result"
    }
   ],
   "source": [
    "[one_line\n",
    "for one_line in open('linux-etc-passwd.txt')\n",
    "if not one_line.startswith(\"#\") and one_line.strip() ]"
   ]
  },
  {
   "cell_type": "code",
   "execution_count": 132,
   "metadata": {},
   "outputs": [
    {
     "data": {
      "text/plain": [
       "{'/bin/bash',\n",
       " '/bin/false',\n",
       " '/bin/nologin',\n",
       " '/bin/sh',\n",
       " '/bin/sync',\n",
       " '/usr/sbin/nologin'}"
      ]
     },
     "execution_count": 132,
     "metadata": {},
     "output_type": "execute_result"
    }
   ],
   "source": [
    "{one_line.split(\":\")[-1].strip()\n",
    "for one_line in open('linux-etc-passwd.txt')\n",
    "if not one_line.startswith((\"#\", '\\n'))}"
   ]
  },
  {
   "cell_type": "code",
   "execution_count": 133,
   "metadata": {},
   "outputs": [
    {
     "data": {
      "text/plain": [
       "{'this': 4, 'is': 2, 'a': 1, 'bunch': 5, 'of': 2, 'words': 5}"
      ]
     },
     "execution_count": 133,
     "metadata": {},
     "output_type": "execute_result"
    }
   ],
   "source": [
    "# dict comprehension\n",
    "words = 'this is a bunch of words'\n",
    "\n",
    "{  \n",
    "    one_word   : len(one_word)\n",
    "    for one_word in words.split()\n",
    "}\n",
    "\n"
   ]
  },
  {
   "cell_type": "code",
   "execution_count": 134,
   "metadata": {},
   "outputs": [
    {
     "data": {
      "text/plain": [
       "{1: 'a', 2: 'b', 3: 'c', 4: 'd'}"
      ]
     },
     "execution_count": 134,
     "metadata": {},
     "output_type": "execute_result"
    }
   ],
   "source": [
    "d = {'a':1, 'b':2, 'c':3, 'd':4}\n",
    "\n",
    "{value : key\n",
    "for key,value in d.items()}"
   ]
  },
  {
   "cell_type": "code",
   "execution_count": 135,
   "metadata": {},
   "outputs": [
    {
     "data": {
      "text/plain": [
       "{1: 'a', 2: 'b', 3: 'd'}"
      ]
     },
     "execution_count": 135,
     "metadata": {},
     "output_type": "execute_result"
    }
   ],
   "source": [
    "d = {'a':1, 'b':2, 'c':3, 'd':3}\n",
    "\n",
    "{value : key\n",
    "for key,value in d.items()}"
   ]
  },
  {
   "cell_type": "code",
   "execution_count": 136,
   "metadata": {},
   "outputs": [
    {
     "name": "stdout",
     "output_type": "stream",
     "text": [
      "# This is a comment\r\n",
      "# You should ignore me\r\n",
      "root:x:0:0:root:/root:/bin/bash\r\n",
      "daemon:x:1:1:daemon:/usr/sbin:/usr/sbin/nologin\r\n",
      "bin:x:2:2:bin:/bin:/usr/sbin/nologin\r\n",
      "sys:x:3:3:sys:/dev:/usr/sbin/nologin\r\n",
      "sync:x:4:65534:sync:/bin:/bin/sync\r\n",
      "games:x:5:60:games:/usr/games:/usr/sbin/nologin\r\n",
      "man:x:6:12:man:/var/cache/man:/usr/sbin/nologin\r\n",
      "lp:x:7:7:lp:/var/spool/lpd:/usr/sbin/nologin\r\n"
     ]
    }
   ],
   "source": [
    "!head linux-etc-passwd.txt"
   ]
  },
  {
   "cell_type": "code",
   "execution_count": 137,
   "metadata": {},
   "outputs": [
    {
     "data": {
      "text/plain": [
       "{'root': '0',\n",
       " 'daemon': '1',\n",
       " 'bin': '2',\n",
       " 'sys': '3',\n",
       " 'sync': '4',\n",
       " 'games': '5',\n",
       " 'man': '6',\n",
       " 'lp': '7',\n",
       " 'mail': '8',\n",
       " 'news': '9',\n",
       " 'uucp': '10',\n",
       " 'proxy': '13',\n",
       " 'www-data': '33',\n",
       " 'backup': '34',\n",
       " 'list': '38',\n",
       " 'irc': '39',\n",
       " 'gnats': '41',\n",
       " 'nobody': '65534',\n",
       " 'syslog': '101',\n",
       " 'messagebus': '102',\n",
       " 'landscape': '103',\n",
       " 'jci': '955',\n",
       " 'sshd': '104',\n",
       " 'user': '1000',\n",
       " 'reuven': '1001',\n",
       " 'postfix': '105',\n",
       " 'colord': '106',\n",
       " 'postgres': '107',\n",
       " 'dovecot': '108',\n",
       " 'dovenull': '109',\n",
       " 'postgrey': '110',\n",
       " 'debian-spamd': '111',\n",
       " 'memcache': '113',\n",
       " 'genadi': '1002',\n",
       " 'shira': '1003',\n",
       " 'atara': '1004',\n",
       " 'shikma': '1005',\n",
       " 'amotz': '1006',\n",
       " 'mysql': '114',\n",
       " 'clamav': '115',\n",
       " 'amavis': '116',\n",
       " 'opendkim': '117',\n",
       " 'gitlab-redis': '999',\n",
       " 'gitlab-psql': '998',\n",
       " 'git': '1007',\n",
       " 'opendmarc': '118',\n",
       " 'dkim-milter-python': '119',\n",
       " 'deploy': '1008',\n",
       " 'redis': '112'}"
      ]
     },
     "execution_count": 137,
     "metadata": {},
     "output_type": "execute_result"
    }
   ],
   "source": [
    "{ \n",
    "#     username                    user ID number\n",
    "  one_line.split(\":\")[0]   :    one_line.split(\":\")[2]\n",
    "  for one_line in open('linux-etc-passwd.txt')  \n",
    "  if not one_line.startswith(('#', '\\n'))\n",
    "}"
   ]
  },
  {
   "cell_type": "code",
   "execution_count": 138,
   "metadata": {},
   "outputs": [
    {
     "data": {
      "text/plain": [
       "[[10, 20, 30], [40, 50, 60], [70, 80, 90, 100]]"
      ]
     },
     "execution_count": 138,
     "metadata": {},
     "output_type": "execute_result"
    }
   ],
   "source": [
    "mylist = [[10, 20, 30], [40, 50, 60], [70, 80, 90, 100]]\n",
    "mylist"
   ]
  },
  {
   "cell_type": "code",
   "execution_count": 139,
   "metadata": {},
   "outputs": [
    {
     "data": {
      "text/plain": [
       "[[10, 20, 30], [40, 50, 60], [70, 80, 90, 100]]"
      ]
     },
     "execution_count": 139,
     "metadata": {},
     "output_type": "execute_result"
    }
   ],
   "source": [
    "[one_item\n",
    "for one_item in mylist]"
   ]
  },
  {
   "cell_type": "code",
   "execution_count": 140,
   "metadata": {},
   "outputs": [
    {
     "data": {
      "text/plain": [
       "[10, 20, 30, 40, 50, 60, 70, 80, 90, 100]"
      ]
     },
     "execution_count": 140,
     "metadata": {},
     "output_type": "execute_result"
    }
   ],
   "source": [
    "[one_item\n",
    "for one_sublist in mylist\n",
    "for one_item in one_sublist]"
   ]
  },
  {
   "cell_type": "code",
   "execution_count": 141,
   "metadata": {},
   "outputs": [
    {
     "data": {
      "text/plain": [
       "[10, 20, 30, 40, 50, 60, 70, 80, 90, 100]"
      ]
     },
     "execution_count": 141,
     "metadata": {},
     "output_type": "execute_result"
    }
   ],
   "source": [
    "[one_item\n",
    "for one_sublist in mylist\n",
    "for one_item in one_sublist]"
   ]
  },
  {
   "cell_type": "code",
   "execution_count": 142,
   "metadata": {},
   "outputs": [],
   "source": [
    "offices = {1: ['A', 'B', 'C'],\n",
    "          2: ['D', 'E', 'F', 'G'],\n",
    "          3: ['H', 'I', 'J', 'K', 'L', 'M']}"
   ]
  },
  {
   "cell_type": "code",
   "execution_count": 147,
   "metadata": {},
   "outputs": [
    {
     "data": {
      "text/plain": [
       "['A', 'B', 'C', 'D', 'E', 'F', 'G', 'H', 'I', 'J', 'K', 'L', 'M']"
      ]
     },
     "execution_count": 147,
     "metadata": {},
     "output_type": "execute_result"
    }
   ],
   "source": [
    "[one_person\n",
    "for one_office in offices.values()\n",
    "for one_person in one_office]"
   ]
  },
  {
   "cell_type": "code",
   "execution_count": 148,
   "metadata": {},
   "outputs": [
    {
     "data": {
      "text/plain": [
       "['D', 'E', 'F', 'G', 'H', 'I', 'J', 'K', 'L', 'M']"
      ]
     },
     "execution_count": 148,
     "metadata": {},
     "output_type": "execute_result"
    }
   ],
   "source": [
    "[one_person\n",
    "for one_office in offices.values()\n",
    "if len(one_office) > 3\n",
    "for one_person in one_office]"
   ]
  },
  {
   "cell_type": "code",
   "execution_count": 149,
   "metadata": {},
   "outputs": [
    {
     "name": "stdout",
     "output_type": "stream",
     "text": [
      "1::Toy Story (1995)::Animation|Children's|Comedy\r\n",
      "2::Jumanji (1995)::Adventure|Children's|Fantasy\r\n",
      "3::Grumpier Old Men (1995)::Comedy|Romance\r\n",
      "4::Waiting to Exhale (1995)::Comedy|Drama\r\n",
      "5::Father of the Bride Part II (1995)::Comedy\r\n",
      "6::Heat (1995)::Action|Crime|Thriller\r\n",
      "7::Sabrina (1995)::Comedy|Romance\r\n",
      "8::Tom and Huck (1995)::Adventure|Children's\r\n",
      "9::Sudden Death (1995)::Action\r\n",
      "10::GoldenEye (1995)::Action|Adventure|Thriller\r\n"
     ]
    }
   ],
   "source": [
    "!head movies.dat"
   ]
  },
  {
   "cell_type": "code",
   "execution_count": 150,
   "metadata": {},
   "outputs": [],
   "source": [
    "# files.lerner.co.il -- movies.dat"
   ]
  },
  {
   "cell_type": "code",
   "execution_count": 153,
   "metadata": {},
   "outputs": [
    {
     "data": {
      "text/plain": [
       "[\"1::Toy Story (1995)::Animation|Children's|Comedy\\n\",\n",
       " \"2::Jumanji (1995)::Adventure|Children's|Fantasy\\n\",\n",
       " '3::Grumpier Old Men (1995)::Comedy|Romance\\n',\n",
       " '4::Waiting to Exhale (1995)::Comedy|Drama\\n',\n",
       " '5::Father of the Bride Part II (1995)::Comedy\\n',\n",
       " '6::Heat (1995)::Action|Crime|Thriller\\n',\n",
       " '7::Sabrina (1995)::Comedy|Romance\\n',\n",
       " \"8::Tom and Huck (1995)::Adventure|Children's\\n\",\n",
       " '9::Sudden Death (1995)::Action\\n',\n",
       " '10::GoldenEye (1995)::Action|Adventure|Thriller\\n',\n",
       " '11::American President, The (1995)::Comedy|Drama|Romance\\n',\n",
       " '12::Dracula: Dead and Loving It (1995)::Comedy|Horror\\n',\n",
       " \"13::Balto (1995)::Animation|Children's\\n\",\n",
       " '14::Nixon (1995)::Drama\\n',\n",
       " '15::Cutthroat Island (1995)::Action|Adventure|Romance\\n',\n",
       " '16::Casino (1995)::Drama|Thriller\\n',\n",
       " '17::Sense and Sensibility (1995)::Drama|Romance\\n',\n",
       " '18::Four Rooms (1995)::Thriller\\n',\n",
       " '19::Ace Ventura: When Nature Calls (1995)::Comedy\\n',\n",
       " '20::Money Train (1995)::Action\\n',\n",
       " '21::Get Shorty (1995)::Action|Comedy|Drama\\n',\n",
       " '22::Copycat (1995)::Crime|Drama|Thriller\\n',\n",
       " '23::Assassins (1995)::Thriller\\n',\n",
       " '24::Powder (1995)::Drama|Sci-Fi\\n',\n",
       " '25::Leaving Las Vegas (1995)::Drama|Romance\\n',\n",
       " '26::Othello (1995)::Drama\\n',\n",
       " '27::Now and Then (1995)::Drama\\n',\n",
       " '28::Persuasion (1995)::Romance\\n',\n",
       " '29::City of Lost Children, The (1995)::Adventure|Sci-Fi\\n',\n",
       " '30::Shanghai Triad (Yao a yao yao dao waipo qiao) (1995)::Drama\\n',\n",
       " '31::Dangerous Minds (1995)::Drama\\n',\n",
       " '32::Twelve Monkeys (1995)::Drama|Sci-Fi\\n',\n",
       " '33::Wings of Courage (1995)::Adventure|Romance\\n',\n",
       " \"34::Babe (1995)::Children's|Comedy|Drama\\n\",\n",
       " '35::Carrington (1995)::Drama|Romance\\n',\n",
       " '36::Dead Man Walking (1995)::Drama\\n',\n",
       " '37::Across the Sea of Time (1995)::Documentary\\n',\n",
       " '38::It Takes Two (1995)::Comedy\\n',\n",
       " '39::Clueless (1995)::Comedy|Romance\\n',\n",
       " '40::Cry, the Beloved Country (1995)::Drama\\n',\n",
       " '41::Richard III (1995)::Drama|War\\n',\n",
       " '42::Dead Presidents (1995)::Action|Crime|Drama\\n',\n",
       " '43::Restoration (1995)::Drama\\n',\n",
       " '44::Mortal Kombat (1995)::Action|Adventure\\n',\n",
       " '45::To Die For (1995)::Comedy|Drama\\n',\n",
       " '46::How to Make an American Quilt (1995)::Drama|Romance\\n',\n",
       " '47::Seven (Se7en) (1995)::Crime|Thriller\\n',\n",
       " \"48::Pocahontas (1995)::Animation|Children's|Musical|Romance\\n\",\n",
       " '49::When Night Is Falling (1995)::Drama|Romance\\n',\n",
       " '50::Usual Suspects, The (1995)::Crime|Thriller\\n',\n",
       " '51::Guardian Angel (1994)::Action|Drama|Thriller\\n',\n",
       " '52::Mighty Aphrodite (1995)::Comedy\\n',\n",
       " '53::Lamerica (1994)::Drama\\n',\n",
       " \"54::Big Green, The (1995)::Children's|Comedy\\n\",\n",
       " '55::Georgia (1995)::Drama\\n',\n",
       " \"56::Kids of the Round Table (1995)::Adventure|Children's|Fantasy\\n\",\n",
       " '57::Home for the Holidays (1995)::Drama\\n',\n",
       " '58::Postino, Il (The Postman) (1994)::Drama|Romance\\n',\n",
       " '59::Confessional, The (Le Confessionnal) (1995)::Drama|Mystery\\n',\n",
       " \"60::Indian in the Cupboard, The (1995)::Adventure|Children's|Fantasy\\n\",\n",
       " '61::Eye for an Eye (1996)::Drama|Thriller\\n',\n",
       " \"62::Mr. Holland's Opus (1995)::Drama\\n\",\n",
       " \"63::Don't Be a Menace to South Central While Drinking Your Juice in the Hood (1996)::Comedy\\n\",\n",
       " '64::Two if by Sea (1996)::Comedy|Romance\\n',\n",
       " '65::Bio-Dome (1996)::Comedy\\n',\n",
       " '66::Lawnmower Man 2: Beyond Cyberspace (1996)::Sci-Fi|Thriller\\n',\n",
       " '67::Two Bits (1995)::Drama\\n',\n",
       " '68::French Twist (Gazon maudit) (1995)::Comedy|Romance\\n',\n",
       " '69::Friday (1995)::Comedy\\n',\n",
       " '70::From Dusk Till Dawn (1996)::Action|Comedy|Crime|Horror|Thriller\\n',\n",
       " '71::Fair Game (1995)::Action\\n',\n",
       " '72::Kicking and Screaming (1995)::Comedy|Drama\\n',\n",
       " '73::Misérables, Les (1995)::Drama|Musical\\n',\n",
       " '74::Bed of Roses (1996)::Drama|Romance\\n',\n",
       " '75::Big Bully (1996)::Comedy|Drama\\n',\n",
       " '76::Screamers (1995)::Sci-Fi|Thriller\\n',\n",
       " '77::Nico Icon (1995)::Documentary\\n',\n",
       " '78::Crossing Guard, The (1995)::Drama\\n',\n",
       " '79::Juror, The (1996)::Drama|Thriller\\n',\n",
       " '80::White Balloon, The (Badkonake Sefid ) (1995)::Drama\\n',\n",
       " \"81::Things to Do in Denver when You're Dead (1995)::Crime|Drama|Romance\\n\",\n",
       " \"82::Antonia's Line (Antonia) (1995)::Drama\\n\",\n",
       " '83::Once Upon a Time... When We Were Colored (1995)::Drama\\n',\n",
       " '84::Last Summer in the Hamptons (1995)::Comedy|Drama\\n',\n",
       " '85::Angels and Insects (1995)::Drama|Romance\\n',\n",
       " '86::White Squall (1996)::Adventure|Drama\\n',\n",
       " \"87::Dunston Checks In (1996)::Children's|Comedy\\n\",\n",
       " '88::Black Sheep (1996)::Comedy\\n',\n",
       " '89::Nick of Time (1995)::Action|Thriller\\n',\n",
       " '90::Journey of August King, The (1995)::Drama\\n',\n",
       " '92::Mary Reilly (1996)::Drama|Thriller\\n',\n",
       " '93::Vampire in Brooklyn (1995)::Comedy|Romance\\n',\n",
       " '94::Beautiful Girls (1996)::Drama\\n',\n",
       " '95::Broken Arrow (1996)::Action|Thriller\\n',\n",
       " '96::In the Bleak Midwinter (1995)::Comedy\\n',\n",
       " '97::Hate (Haine, La) (1995)::Drama\\n',\n",
       " '98::Shopping (1994)::Action|Thriller\\n',\n",
       " '99::Heidi Fleiss: Hollywood Madam (1995)::Documentary\\n',\n",
       " '100::City Hall (1996)::Drama|Thriller\\n',\n",
       " '101::Bottle Rocket (1996)::Comedy\\n',\n",
       " '102::Mr. Wrong (1996)::Comedy\\n',\n",
       " '103::Unforgettable (1996)::Thriller\\n',\n",
       " '104::Happy Gilmore (1996)::Comedy\\n',\n",
       " '105::Bridges of Madison County, The (1995)::Drama|Romance\\n',\n",
       " '106::Nobody Loves Me (Keiner liebt mich) (1994)::Comedy|Drama\\n',\n",
       " \"107::Muppet Treasure Island (1996)::Adventure|Children's|Comedy|Musical\\n\",\n",
       " '108::Catwalk (1995)::Documentary\\n',\n",
       " '109::Headless Body in Topless Bar (1995)::Comedy\\n',\n",
       " '110::Braveheart (1995)::Action|Drama|War\\n',\n",
       " '111::Taxi Driver (1976)::Drama|Thriller\\n',\n",
       " '112::Rumble in the Bronx (1995)::Action|Adventure|Crime\\n',\n",
       " '113::Before and After (1996)::Drama|Mystery\\n',\n",
       " \"114::Margaret's Museum (1995)::Drama\\n\",\n",
       " '115::Happiness Is in the Field (1995)::Comedy\\n',\n",
       " '116::Anne Frank Remembered (1995)::Documentary\\n',\n",
       " \"117::Young Poisoner's Handbook, The (1995)::Crime\\n\",\n",
       " '118::If Lucy Fell (1996)::Comedy|Romance\\n',\n",
       " '119::Steal Big, Steal Little (1995)::Comedy\\n',\n",
       " '120::Race the Sun (1996)::Drama\\n',\n",
       " '121::Boys of St. Vincent, The (1993)::Drama\\n',\n",
       " '122::Boomerang (1992)::Comedy|Romance\\n',\n",
       " '123::Chungking Express (1994)::Drama|Mystery|Romance\\n',\n",
       " \"124::Star Maker, The (Uomo delle stelle, L') (1995)::Drama\\n\",\n",
       " '125::Flirting With Disaster (1996)::Comedy\\n',\n",
       " \"126::NeverEnding Story III, The (1994)::Adventure|Children's|Fantasy\\n\",\n",
       " '127::Silence of the Palace, The (Saimt el Qusur) (1994)::Drama\\n',\n",
       " \"128::Jupiter's Wife (1994)::Documentary\\n\",\n",
       " '129::Pie in the Sky (1995)::Comedy|Romance\\n',\n",
       " '130::Angela (1995)::Drama\\n',\n",
       " '131::Frankie Starlight (1995)::Drama|Romance\\n',\n",
       " '132::Jade (1995)::Thriller\\n',\n",
       " '133::Nueba Yol (1995)::Comedy|Drama\\n',\n",
       " '134::Sonic Outlaws (1995)::Documentary\\n',\n",
       " '135::Down Periscope (1996)::Comedy\\n',\n",
       " '136::From the Journals of Jean Seberg (1995)::Documentary\\n',\n",
       " '137::Man of the Year (1995)::Documentary\\n',\n",
       " '138::Neon Bible, The (1995)::Drama\\n',\n",
       " '139::Target (1995)::Action|Drama\\n',\n",
       " '140::Up Close and Personal (1996)::Drama|Romance\\n',\n",
       " '141::Birdcage, The (1996)::Comedy\\n',\n",
       " '142::Shadows (Cienie) (1988)::Drama\\n',\n",
       " '143::Gospa (1995)::Drama\\n',\n",
       " '144::Brothers McMullen, The (1995)::Comedy\\n',\n",
       " '145::Bad Boys (1995)::Action\\n',\n",
       " \"146::Amazing Panda Adventure, The (1995)::Adventure|Children's\\n\",\n",
       " '147::Basketball Diaries, The (1995)::Drama\\n',\n",
       " '148::Awfully Big Adventure, An (1995)::Drama\\n',\n",
       " '149::Amateur (1994)::Crime|Drama|Thriller\\n',\n",
       " '150::Apollo 13 (1995)::Drama\\n',\n",
       " '151::Rob Roy (1995)::Drama|Romance|War\\n',\n",
       " '152::Addiction, The (1995)::Horror\\n',\n",
       " '153::Batman Forever (1995)::Action|Adventure|Comedy|Crime\\n',\n",
       " '154::Belle de jour (1967)::Drama\\n',\n",
       " '155::Beyond Rangoon (1995)::Drama|War\\n',\n",
       " '156::Blue in the Face (1995)::Comedy\\n',\n",
       " '157::Canadian Bacon (1994)::Comedy|War\\n',\n",
       " \"158::Casper (1995)::Adventure|Children's\\n\",\n",
       " '159::Clockers (1995)::Drama\\n',\n",
       " '160::Congo (1995)::Action|Adventure|Mystery|Sci-Fi\\n',\n",
       " '161::Crimson Tide (1995)::Drama|Thriller|War\\n',\n",
       " '162::Crumb (1994)::Documentary\\n',\n",
       " '163::Desperado (1995)::Action|Romance|Thriller\\n',\n",
       " '164::Devil in a Blue Dress (1995)::Crime|Film-Noir|Mystery|Thriller\\n',\n",
       " '165::Die Hard: With a Vengeance (1995)::Action|Thriller\\n',\n",
       " '166::Doom Generation, The (1995)::Comedy|Drama\\n',\n",
       " '167::Feast of July (1995)::Drama\\n',\n",
       " '168::First Knight (1995)::Action|Adventure|Drama|Romance\\n',\n",
       " \"169::Free Willy 2: The Adventure Home (1995)::Adventure|Children's|Drama\\n\",\n",
       " '170::Hackers (1995)::Action|Crime|Thriller\\n',\n",
       " '171::Jeffrey (1995)::Comedy\\n',\n",
       " '172::Johnny Mnemonic (1995)::Action|Sci-Fi|Thriller\\n',\n",
       " '173::Judge Dredd (1995)::Action|Adventure|Sci-Fi\\n',\n",
       " '174::Jury Duty (1995)::Comedy\\n',\n",
       " '175::Kids (1995)::Drama\\n',\n",
       " '176::Living in Oblivion (1995)::Comedy\\n',\n",
       " '177::Lord of Illusions (1995)::Horror\\n',\n",
       " '178::Love & Human Remains (1993)::Comedy\\n',\n",
       " '179::Mad Love (1995)::Drama|Romance\\n',\n",
       " '180::Mallrats (1995)::Comedy\\n',\n",
       " \"181::Mighty Morphin Power Rangers: The Movie (1995)::Action|Children's\\n\",\n",
       " '182::Moonlight and Valentino (1995)::Drama|Romance\\n',\n",
       " '183::Mute Witness (1994)::Thriller\\n',\n",
       " '184::Nadja (1994)::Drama\\n',\n",
       " '185::Net, The (1995)::Sci-Fi|Thriller\\n',\n",
       " '186::Nine Months (1995)::Comedy\\n',\n",
       " '187::Party Girl (1995)::Comedy\\n',\n",
       " '188::Prophecy, The (1995)::Horror\\n',\n",
       " '189::Reckless (1995)::Comedy\\n',\n",
       " '190::Safe (1995)::Thriller\\n',\n",
       " '191::Scarlet Letter, The (1995)::Drama\\n',\n",
       " '192::Show, The (1995)::Documentary\\n',\n",
       " '193::Showgirls (1995)::Drama\\n',\n",
       " '194::Smoke (1995)::Drama\\n',\n",
       " '195::Something to Talk About (1995)::Comedy|Drama|Romance\\n',\n",
       " '196::Species (1995)::Horror|Sci-Fi\\n',\n",
       " '197::Stars Fell on Henrietta, The (1995)::Drama\\n',\n",
       " '198::Strange Days (1995)::Action|Crime|Sci-Fi\\n',\n",
       " '199::Umbrellas of Cherbourg, The (Parapluies de Cherbourg, Les) (1964)::Drama|Musical\\n',\n",
       " '200::Tie That Binds, The (1995)::Thriller\\n',\n",
       " '201::Three Wishes (1995)::Drama\\n',\n",
       " '202::Total Eclipse (1995)::Drama|Romance\\n',\n",
       " '203::To Wong Foo, Thanks for Everything! Julie Newmar (1995)::Comedy\\n',\n",
       " '204::Under Siege 2: Dark Territory (1995)::Action\\n',\n",
       " '205::Unstrung Heroes (1995)::Comedy|Drama\\n',\n",
       " '206::Unzipped (1995)::Documentary\\n',\n",
       " '207::Walk in the Clouds, A (1995)::Drama|Romance\\n',\n",
       " '208::Waterworld (1995)::Action|Adventure\\n',\n",
       " \"209::White Man's Burden (1995)::Drama\\n\",\n",
       " '210::Wild Bill (1995)::Western\\n',\n",
       " '211::Browning Version, The (1994)::Drama\\n',\n",
       " '212::Bushwhacked (1995)::Comedy\\n',\n",
       " '213::Burnt By the Sun (Utomlyonnye solntsem) (1994)::Drama\\n',\n",
       " '214::Before the Rain (Pred dozhdot) (1994)::Drama\\n',\n",
       " '215::Before Sunrise (1995)::Drama|Romance\\n',\n",
       " '216::Billy Madison (1995)::Comedy\\n',\n",
       " '217::Babysitter, The (1995)::Drama|Thriller\\n',\n",
       " '218::Boys on the Side (1995)::Comedy|Drama\\n',\n",
       " '219::Cure, The (1995)::Drama\\n',\n",
       " '220::Castle Freak (1995)::Horror\\n',\n",
       " '222::Circle of Friends (1995)::Drama|Romance\\n',\n",
       " '223::Clerks (1994)::Comedy\\n',\n",
       " '224::Don Juan DeMarco (1995)::Comedy|Drama|Romance\\n',\n",
       " '225::Disclosure (1994)::Drama|Thriller\\n',\n",
       " '226::Dream Man (1995)::Thriller\\n',\n",
       " '227::Drop Zone (1994)::Action\\n',\n",
       " '228::Destiny Turns on the Radio (1995)::Comedy\\n',\n",
       " '229::Death and the Maiden (1994)::Drama|Thriller\\n',\n",
       " '230::Dolores Claiborne (1994)::Drama|Thriller\\n',\n",
       " '231::Dumb & Dumber (1994)::Comedy\\n',\n",
       " '232::Eat Drink Man Woman (1994)::Comedy|Drama\\n',\n",
       " '233::Exotica (1994)::Drama\\n',\n",
       " '234::Exit to Eden (1994)::Comedy\\n',\n",
       " '235::Ed Wood (1994)::Comedy|Drama\\n',\n",
       " '236::French Kiss (1995)::Comedy|Romance\\n',\n",
       " '237::Forget Paris (1995)::Comedy|Romance\\n',\n",
       " \"238::Far From Home: The Adventures of Yellow Dog (1995)::Adventure|Children's\\n\",\n",
       " \"239::Goofy Movie, A (1995)::Animation|Children's|Comedy|Romance\\n\",\n",
       " '240::Hideaway (1995)::Thriller\\n',\n",
       " \"241::Fluke (1995)::Children's|Drama\\n\",\n",
       " '242::Farinelli: il castrato (1994)::Drama|Musical\\n',\n",
       " '243::Gordy (1995)::Comedy\\n',\n",
       " \"244::Gumby: The Movie (1995)::Animation|Children's\\n\",\n",
       " '245::Glass Shield, The (1994)::Crime|Drama\\n',\n",
       " '246::Hoop Dreams (1994)::Documentary\\n',\n",
       " '247::Heavenly Creatures (1994)::Drama|Fantasy|Romance|Thriller\\n',\n",
       " '248::Houseguest (1994)::Comedy\\n',\n",
       " '249::Immortal Beloved (1994)::Drama|Romance\\n',\n",
       " \"250::Heavyweights (1994)::Children's|Comedy\\n\",\n",
       " '251::Hunted, The (1995)::Action\\n',\n",
       " '252::I.Q. (1994)::Comedy|Romance\\n',\n",
       " '253::Interview with the Vampire (1994)::Drama|Horror\\n',\n",
       " '254::Jefferson in Paris (1995)::Drama\\n',\n",
       " '255::Jerky Boys, The (1994)::Comedy\\n',\n",
       " '256::Junior (1994)::Comedy|Sci-Fi\\n',\n",
       " '257::Just Cause (1995)::Mystery|Thriller\\n',\n",
       " \"258::Kid in King Arthur's Court, A (1995)::Adventure|Children's|Comedy|Fantasy|Romance\\n\",\n",
       " '259::Kiss of Death (1995)::Crime|Drama|Thriller\\n',\n",
       " '260::Star Wars: Episode IV - A New Hope (1977)::Action|Adventure|Fantasy|Sci-Fi\\n',\n",
       " '261::Little Women (1994)::Drama\\n',\n",
       " \"262::Little Princess, A (1995)::Children's|Drama\\n\",\n",
       " '263::Ladybird Ladybird (1994)::Drama\\n',\n",
       " \"264::Enfer, L' (1994)::Drama\\n\",\n",
       " '265::Like Water for Chocolate (Como agua para chocolate) (1992)::Drama|Romance\\n',\n",
       " '266::Legends of the Fall (1994)::Drama|Romance|War|Western\\n',\n",
       " '267::Major Payne (1994)::Comedy\\n',\n",
       " '268::Little Odessa (1994)::Drama\\n',\n",
       " '269::My Crazy Life (Mi vida loca) (1993)::Drama\\n',\n",
       " '270::Love Affair (1994)::Drama|Romance\\n',\n",
       " '271::Losing Isaiah (1995)::Drama\\n',\n",
       " '272::Madness of King George, The (1994)::Drama\\n',\n",
       " \"273::Mary Shelley's Frankenstein (1994)::Drama|Horror\\n\",\n",
       " '274::Man of the House (1995)::Comedy\\n',\n",
       " '275::Mixed Nuts (1994)::Comedy\\n',\n",
       " '276::Milk Money (1994)::Comedy|Romance\\n',\n",
       " '277::Miracle on 34th Street (1994)::Drama\\n',\n",
       " '278::Miami Rhapsody (1995)::Comedy\\n',\n",
       " '279::My Family (1995)::Drama\\n',\n",
       " '280::Murder in the First (1995)::Drama|Thriller\\n',\n",
       " \"281::Nobody's Fool (1994)::Drama\\n\",\n",
       " '282::Nell (1994)::Drama\\n',\n",
       " '283::New Jersey Drive (1995)::Crime|Drama\\n',\n",
       " '284::New York Cop (1996)::Action|Crime\\n',\n",
       " '285::Beyond Bedlam (1993)::Drama|Horror\\n',\n",
       " '286::Nemesis 2: Nebula (1995)::Action|Sci-Fi|Thriller\\n',\n",
       " '287::Nina Takes a Lover (1994)::Comedy|Romance\\n',\n",
       " '288::Natural Born Killers (1994)::Action|Thriller\\n',\n",
       " '289::Only You (1994)::Comedy|Romance\\n',\n",
       " '290::Once Were Warriors (1994)::Crime|Drama\\n',\n",
       " '291::Poison Ivy II (1995)::Thriller\\n',\n",
       " '292::Outbreak (1995)::Action|Drama|Thriller\\n',\n",
       " '293::Professional, The (a.k.a. Leon: The Professional) (1994)::Crime|Drama|Romance|Thriller\\n',\n",
       " '294::Perez Family, The (1995)::Comedy|Romance\\n',\n",
       " \"295::Pyromaniac's Love Story, A (1995)::Comedy|Romance\\n\",\n",
       " '296::Pulp Fiction (1994)::Crime|Drama\\n',\n",
       " '297::Panther (1995)::Drama\\n',\n",
       " '298::Pushing Hands (1992)::Comedy\\n',\n",
       " '299::Priest (1994)::Drama\\n',\n",
       " '300::Quiz Show (1994)::Drama\\n',\n",
       " '301::Picture Bride (1995)::Drama|Romance\\n',\n",
       " '302::Queen Margot (La Reine Margot) (1994)::Drama|Romance\\n',\n",
       " '303::Quick and the Dead, The (1995)::Action|Adventure|Western\\n',\n",
       " '304::Roommates (1995)::Comedy|Drama\\n',\n",
       " '305::Ready to Wear (Pret-A-Porter) (1994)::Comedy\\n',\n",
       " '306::Three Colors: Red (1994)::Drama\\n',\n",
       " '307::Three Colors: Blue (1993)::Drama\\n',\n",
       " '308::Three Colors: White (1994)::Drama\\n',\n",
       " '309::Red Firecracker, Green Firecracker (1994)::Drama\\n',\n",
       " '310::Rent-a-Kid (1995)::Comedy\\n',\n",
       " '311::Relative Fear (1994)::Horror|Thriller\\n',\n",
       " '312::Stuart Saves His Family (1995)::Comedy\\n',\n",
       " \"313::Swan Princess, The (1994)::Animation|Children's\\n\",\n",
       " '314::Secret of Roan Inish, The (1994)::Drama\\n',\n",
       " '315::Specialist, The (1994)::Action\\n',\n",
       " '316::Stargate (1994)::Action|Adventure|Sci-Fi\\n',\n",
       " \"317::Santa Clause, The (1994)::Children's|Comedy|Fantasy\\n\",\n",
       " '318::Shawshank Redemption, The (1994)::Drama\\n',\n",
       " '319::Shallow Grave (1994)::Thriller\\n',\n",
       " '320::Suture (1993)::Film-Noir|Thriller\\n',\n",
       " '321::Strawberry and Chocolate (Fresa y chocolate) (1993)::Drama\\n',\n",
       " '322::Swimming with Sharks (1995)::Comedy|Drama\\n',\n",
       " '324::Sum of Us, The (1994)::Comedy\\n',\n",
       " \"325::National Lampoon's Senior Trip (1995)::Comedy\\n\",\n",
       " '326::To Live (Huozhe) (1994)::Drama\\n',\n",
       " '327::Tank Girl (1995)::Action|Comedy|Musical|Sci-Fi\\n',\n",
       " '328::Tales From the Crypt Presents: Demon Knight (1995)::Horror\\n',\n",
       " '329::Star Trek: Generations (1994)::Action|Adventure|Sci-Fi\\n',\n",
       " '330::Tales from the Hood (1995)::Comedy|Horror\\n',\n",
       " '331::Tom & Viv (1994)::Drama\\n',\n",
       " '332::Village of the Damned (1995)::Horror|Sci-Fi\\n',\n",
       " '333::Tommy Boy (1995)::Comedy\\n',\n",
       " '334::Vanya on 42nd Street (1994)::Drama\\n',\n",
       " '335::Underneath, The (1995)::Mystery|Thriller\\n',\n",
       " '336::Walking Dead, The (1995)::Drama|War\\n',\n",
       " \"337::What's Eating Gilbert Grape (1993)::Drama\\n\",\n",
       " '338::Virtuosity (1995)::Sci-Fi|Thriller\\n',\n",
       " '339::While You Were Sleeping (1995)::Comedy|Romance\\n',\n",
       " '340::War, The (1994)::Adventure|Drama\\n',\n",
       " '341::Double Happiness (1994)::Drama\\n',\n",
       " \"342::Muriel's Wedding (1994)::Comedy|Romance\\n\",\n",
       " \"343::Baby-Sitters Club, The (1995)::Children's\\n\",\n",
       " '344::Ace Ventura: Pet Detective (1994)::Comedy\\n',\n",
       " '345::Adventures of Priscilla, Queen of the Desert, The (1994)::Comedy|Drama\\n',\n",
       " '346::Backbeat (1993)::Drama|Musical\\n',\n",
       " '347::Bitter Moon (1992)::Drama\\n',\n",
       " '348::Bullets Over Broadway (1994)::Comedy\\n',\n",
       " '349::Clear and Present Danger (1994)::Action|Adventure|Thriller\\n',\n",
       " '350::Client, The (1994)::Drama|Mystery|Thriller\\n',\n",
       " '351::Corrina, Corrina (1994)::Comedy|Drama|Romance\\n',\n",
       " '352::Crooklyn (1994)::Comedy\\n',\n",
       " '353::Crow, The (1994)::Action|Romance|Thriller\\n',\n",
       " '354::Cobb (1994)::Drama\\n',\n",
       " \"355::Flintstones, The (1994)::Children's|Comedy\\n\",\n",
       " '356::Forrest Gump (1994)::Comedy|Romance|War\\n',\n",
       " '357::Four Weddings and a Funeral (1994)::Comedy|Romance\\n',\n",
       " '358::Higher Learning (1995)::Drama\\n',\n",
       " '359::I Like It Like That (1994)::Comedy|Drama|Romance\\n',\n",
       " '360::I Love Trouble (1994)::Action|Comedy\\n',\n",
       " '361::It Could Happen to You (1994)::Drama|Romance\\n',\n",
       " \"362::Jungle Book, The (1994)::Adventure|Children's|Romance\\n\",\n",
       " '363::Wonderful, Horrible Life of Leni Riefenstahl, The (Die Macht der Bilder) (1993)::Documentary\\n',\n",
       " \"364::Lion King, The (1994)::Animation|Children's|Musical\\n\",\n",
       " '365::Little Buddha (1993)::Drama\\n',\n",
       " \"366::Wes Craven's New Nightmare (1994)::Horror\\n\",\n",
       " '367::Mask, The (1994)::Comedy|Crime|Fantasy\\n',\n",
       " '368::Maverick (1994)::Action|Comedy|Western\\n',\n",
       " '369::Mrs. Parker and the Vicious Circle (1994)::Drama\\n',\n",
       " '370::Naked Gun 33 1/3: The Final Insult (1994)::Comedy\\n',\n",
       " '371::Paper, The (1994)::Comedy|Drama\\n',\n",
       " '372::Reality Bites (1994)::Comedy|Drama\\n',\n",
       " '373::Red Rock West (1992)::Thriller\\n',\n",
       " \"374::Richie Rich (1994)::Children's|Comedy\\n\",\n",
       " '375::Safe Passage (1994)::Drama\\n',\n",
       " '376::River Wild, The (1994)::Action|Thriller\\n',\n",
       " '377::Speed (1994)::Action|Romance|Thriller\\n',\n",
       " '378::Speechless (1994)::Comedy|Romance\\n',\n",
       " '379::Timecop (1994)::Action|Sci-Fi\\n',\n",
       " '380::True Lies (1994)::Action|Adventure|Comedy|Romance\\n',\n",
       " '381::When a Man Loves a Woman (1994)::Drama\\n',\n",
       " '382::Wolf (1994)::Drama|Horror\\n',\n",
       " '383::Wyatt Earp (1994)::Western\\n',\n",
       " '384::Bad Company (1995)::Action\\n',\n",
       " '385::Man of No Importance, A (1994)::Drama\\n',\n",
       " '386::S.F.W. (1994)::Drama\\n',\n",
       " '387::Low Down Dirty Shame, A (1994)::Action|Comedy\\n',\n",
       " '388::Boys Life (1995)::Drama\\n',\n",
       " '389::Colonel Chabert, Le (1994)::Drama|Romance|War\\n',\n",
       " '390::Faster Pussycat! Kill! Kill! (1965)::Action|Comedy|Drama\\n',\n",
       " \"391::Jason's Lyric (1994)::Crime|Drama\\n\",\n",
       " \"392::Secret Adventures of Tom Thumb, The (1993)::Adventure|Children's\\n\",\n",
       " '393::Street Fighter (1994)::Action\\n',\n",
       " '394::Coldblooded (1995)::Action\\n',\n",
       " '395::Desert Winds (1995)::Drama\\n',\n",
       " '396::Fall Time (1995)::Drama\\n',\n",
       " '397::Fear, The (1995)::Horror\\n',\n",
       " '398::Frank and Ollie (1995)::Documentary\\n',\n",
       " '399::Girl in the Cadillac (1995)::Drama\\n',\n",
       " '400::Homage (1995)::Drama\\n',\n",
       " '401::Mirage (1995)::Action|Thriller\\n',\n",
       " '402::Open Season (1996)::Comedy\\n',\n",
       " '403::Two Crimes (1995)::Comedy|Crime|Drama\\n',\n",
       " '404::Brother Minister: The Assassination of Malcolm X (1994)::Documentary\\n',\n",
       " '405::Highlander III: The Sorcerer (1994)::Action|Sci-Fi\\n',\n",
       " '406::Federal Hill (1994)::Drama\\n',\n",
       " '407::In the Mouth of Madness (1995)::Horror|Thriller\\n',\n",
       " '408::8 Seconds (1994)::Drama\\n',\n",
       " '409::Above the Rim (1994)::Drama\\n',\n",
       " '410::Addams Family Values (1993)::Comedy\\n',\n",
       " '411::You So Crazy (1994)::Comedy\\n',\n",
       " '412::Age of Innocence, The (1993)::Drama\\n',\n",
       " '413::Airheads (1994)::Comedy\\n',\n",
       " '414::Air Up There, The (1994)::Comedy\\n',\n",
       " '415::Another Stakeout (1993)::Comedy|Thriller\\n',\n",
       " '416::Bad Girls (1994)::Western\\n',\n",
       " '417::Barcelona (1994)::Comedy|Romance\\n',\n",
       " '418::Being Human (1993)::Drama\\n',\n",
       " '419::Beverly Hillbillies, The (1993)::Comedy\\n',\n",
       " '420::Beverly Hills Cop III (1994)::Action|Comedy\\n',\n",
       " \"421::Black Beauty (1994)::Adventure|Children's\\n\",\n",
       " '422::Blink (1994)::Thriller\\n',\n",
       " '423::Blown Away (1994)::Action|Thriller\\n',\n",
       " '424::Blue Chips (1994)::Drama\\n',\n",
       " '425::Blue Sky (1994)::Drama|Romance\\n',\n",
       " '426::Body Snatchers (1993)::Horror|Sci-Fi|Thriller\\n',\n",
       " '427::Boxing Helena (1993)::Mystery|Romance|Thriller\\n',\n",
       " '428::Bronx Tale, A (1993)::Drama\\n',\n",
       " '429::Cabin Boy (1994)::Comedy\\n',\n",
       " '430::Calendar Girl (1993)::Drama\\n',\n",
       " \"431::Carlito's Way (1993)::Crime|Drama\\n\",\n",
       " \"432::City Slickers II: The Legend of Curly's Gold (1994)::Comedy|Western\\n\",\n",
       " '433::Clean Slate (1994)::Comedy\\n',\n",
       " '434::Cliffhanger (1993)::Action|Adventure|Crime\\n',\n",
       " '435::Coneheads (1993)::Comedy|Sci-Fi\\n',\n",
       " '436::Color of Night (1994)::Drama|Thriller\\n',\n",
       " '437::Cops and Robbersons (1994)::Comedy\\n',\n",
       " '438::Cowboy Way, The (1994)::Action|Comedy\\n',\n",
       " '439::Dangerous Game (1993)::Drama\\n',\n",
       " '440::Dave (1993)::Comedy|Romance\\n',\n",
       " '441::Dazed and Confused (1993)::Comedy\\n',\n",
       " '442::Demolition Man (1993)::Action|Sci-Fi\\n',\n",
       " '443::Endless Summer 2, The (1994)::Documentary\\n',\n",
       " '444::Even Cowgirls Get the Blues (1993)::Comedy|Romance\\n',\n",
       " '445::Fatal Instinct (1993)::Comedy\\n',\n",
       " '446::Farewell My Concubine (1993)::Drama|Romance\\n',\n",
       " '447::Favor, The (1994)::Comedy|Romance\\n',\n",
       " '448::Fearless (1993)::Drama\\n',\n",
       " '449::Fear of a Black Hat (1993)::Comedy\\n',\n",
       " '450::With Honors (1994)::Comedy|Drama\\n',\n",
       " '451::Flesh and Bone (1993)::Drama|Mystery|Romance\\n',\n",
       " \"452::Widows' Peak (1994)::Drama\\n\",\n",
       " '453::For Love or Money (1993)::Comedy\\n',\n",
       " '454::Firm, The (1993)::Drama|Thriller\\n',\n",
       " \"455::Free Willy (1993)::Adventure|Children's|Drama\\n\",\n",
       " '456::Fresh (1994)::Drama\\n',\n",
       " '457::Fugitive, The (1993)::Action|Thriller\\n',\n",
       " '458::Geronimo: An American Legend (1993)::Drama|Western\\n',\n",
       " '459::Getaway, The (1994)::Action\\n',\n",
       " '460::Getting Even with Dad (1994)::Comedy\\n',\n",
       " '461::Go Fish (1994)::Drama|Romance\\n',\n",
       " '462::Good Man in Africa, A (1994)::Action|Adventure\\n',\n",
       " '463::Guilty as Sin (1993)::Crime|Drama|Thriller\\n',\n",
       " '464::Hard Target (1993)::Action|Adventure|Crime|Thriller\\n',\n",
       " '465::Heaven & Earth (1993)::Action|Drama|War\\n',\n",
       " '466::Hot Shots! Part Deux (1993)::Action|Comedy|War\\n',\n",
       " '467::Live Nude Girls (1995)::Comedy\\n',\n",
       " '468::Englishman Who Went Up a Hill, But Came Down a Mountain, The (1995)::Comedy|Romance\\n',\n",
       " '469::House of the Spirits, The (1993)::Drama|Romance\\n',\n",
       " '470::House Party 3 (1994)::Comedy\\n',\n",
       " '471::Hudsucker Proxy, The (1994)::Comedy|Romance\\n',\n",
       " \"472::I'll Do Anything (1994)::Comedy|Drama\\n\",\n",
       " '473::In the Army Now (1994)::Comedy|War\\n',\n",
       " '474::In the Line of Fire (1993)::Action|Thriller\\n',\n",
       " '475::In the Name of the Father (1993)::Drama\\n',\n",
       " '476::Inkwell, The (1994)::Comedy|Drama\\n',\n",
       " \"477::What's Love Got to Do with It? (1993)::Drama\\n\",\n",
       " '478::Jimmy Hollywood (1994)::Comedy\\n',\n",
       " '479::Judgment Night (1993)::Action\\n',\n",
       " '480::Jurassic Park (1993)::Action|Adventure|Sci-Fi\\n',\n",
       " '481::Kalifornia (1993)::Drama|Thriller\\n',\n",
       " '482::Killing Zoe (1994)::Thriller\\n',\n",
       " '483::King of the Hill (1993)::Drama\\n',\n",
       " \"484::Lassie (1994)::Adventure|Children's\\n\",\n",
       " '485::Last Action Hero (1993)::Action|Comedy\\n',\n",
       " '486::Life with Mikey (1993)::Comedy\\n',\n",
       " '487::Lightning Jack (1994)::Comedy|Western\\n',\n",
       " '488::M. Butterfly (1993)::Drama\\n',\n",
       " '489::Made in America (1993)::Comedy\\n',\n",
       " '490::Malice (1993)::Thriller\\n',\n",
       " '491::Man Without a Face, The (1993)::Drama\\n',\n",
       " '492::Manhattan Murder Mystery (1993)::Comedy|Mystery\\n',\n",
       " '493::Menace II Society (1993)::Action|Crime|Drama\\n',\n",
       " '494::Executive Decision (1996)::Action|Thriller\\n',\n",
       " '495::In the Realm of the Senses (Ai no corrida) (1976)::Drama\\n',\n",
       " '496::What Happened Was... (1994)::Comedy|Drama|Romance\\n',\n",
       " '497::Much Ado About Nothing (1993)::Comedy|Romance\\n',\n",
       " '498::Mr. Jones (1993)::Drama|Romance\\n',\n",
       " '499::Mr. Wonderful (1993)::Comedy|Romance\\n',\n",
       " '500::Mrs. Doubtfire (1993)::Comedy\\n',\n",
       " '501::Naked (1993)::Drama\\n',\n",
       " \"502::Next Karate Kid, The (1994)::Action|Children's\\n\",\n",
       " '503::New Age, The (1994)::Drama\\n',\n",
       " '504::No Escape (1994)::Action|Sci-Fi\\n',\n",
       " '505::North (1994)::Comedy\\n',\n",
       " '506::Orlando (1993)::Drama\\n',\n",
       " '507::Perfect World, A (1993)::Action|Drama\\n',\n",
       " '508::Philadelphia (1993)::Drama\\n',\n",
       " '509::Piano, The (1993)::Drama|Romance\\n',\n",
       " '510::Poetic Justice (1993)::Drama\\n',\n",
       " '511::Program, The (1993)::Action|Drama\\n',\n",
       " \"512::Robert A. Heinlein's The Puppet Masters (1994)::Horror|Sci-Fi\\n\",\n",
       " '513::Radioland Murders (1994)::Comedy|Mystery|Romance\\n',\n",
       " '514::Ref, The (1994)::Comedy\\n',\n",
       " '515::Remains of the Day, The (1993)::Drama\\n',\n",
       " '516::Renaissance Man (1994)::Comedy|Drama|War\\n',\n",
       " '517::Rising Sun (1993)::Action|Drama|Mystery\\n',\n",
       " '518::Road to Wellville, The (1994)::Comedy\\n',\n",
       " '519::Robocop 3 (1993)::Sci-Fi|Thriller\\n',\n",
       " '520::Robin Hood: Men in Tights (1993)::Comedy\\n',\n",
       " '521::Romeo Is Bleeding (1993)::Crime|Thriller\\n',\n",
       " '522::Romper Stomper (1992)::Action|Drama\\n',\n",
       " '523::Ruby in Paradise (1993)::Drama\\n',\n",
       " '524::Rudy (1993)::Drama\\n',\n",
       " '525::Saint of Fort Washington, The (1993)::Drama\\n',\n",
       " '526::Savage Nights (Nuits fauves, Les) (1992)::Drama\\n',\n",
       " \"527::Schindler's List (1993)::Drama|War\\n\",\n",
       " '528::Scout, The (1994)::Drama\\n',\n",
       " '529::Searching for Bobby Fischer (1993)::Drama\\n',\n",
       " '530::Second Best (1994)::Drama\\n',\n",
       " \"531::Secret Garden, The (1993)::Children's|Drama\\n\",\n",
       " '532::Serial Mom (1994)::Comedy|Crime|Horror\\n',\n",
       " '533::Shadow, The (1994)::Action\\n',\n",
       " '534::Shadowlands (1993)::Drama|Romance\\n',\n",
       " '535::Short Cuts (1993)::Drama\\n',\n",
       " '536::Simple Twist of Fate, A (1994)::Drama\\n',\n",
       " '537::Sirens (1994)::Comedy|Drama\\n',\n",
       " '538::Six Degrees of Separation (1993)::Drama\\n',\n",
       " '539::Sleepless in Seattle (1993)::Comedy|Romance\\n',\n",
       " '540::Sliver (1993)::Thriller\\n',\n",
       " '541::Blade Runner (1982)::Film-Noir|Sci-Fi\\n',\n",
       " '542::Son in Law (1993)::Comedy\\n',\n",
       " '543::So I Married an Axe Murderer (1993)::Comedy|Romance|Thriller\\n',\n",
       " '544::Striking Distance (1993)::Action\\n',\n",
       " '545::Harlem (1993)::Drama\\n',\n",
       " \"546::Super Mario Bros. (1993)::Action|Adventure|Children's|Sci-Fi\\n\",\n",
       " '547::Surviving the Game (1994)::Action|Adventure|Thriller\\n',\n",
       " '548::Terminal Velocity (1994)::Action\\n',\n",
       " '549::Thirty-Two Short Films About Glenn Gould (1993)::Documentary\\n',\n",
       " '550::Threesome (1994)::Comedy|Romance\\n',\n",
       " \"551::Nightmare Before Christmas, The (1993)::Children's|Comedy|Musical\\n\",\n",
       " '552::Three Musketeers, The (1993)::Action|Adventure|Comedy\\n',\n",
       " '553::Tombstone (1993)::Western\\n',\n",
       " '554::Trial by Jury (1994)::Thriller\\n',\n",
       " '555::True Romance (1993)::Action|Crime|Romance\\n',\n",
       " '556::War Room, The (1993)::Documentary\\n',\n",
       " '557::Mamma Roma (1962)::Drama\\n',\n",
       " \"558::Pagemaster, The (1994)::Action|Adventure|Animation|Children's|Fantasy\\n\",\n",
       " '559::Paris, France (1993)::Comedy\\n',\n",
       " '560::Beans of Egypt, Maine, The (1994)::Drama\\n',\n",
       " '561::Killer (Bulletproof Heart) (1994)::Thriller\\n',\n",
       " '562::Welcome to the Dollhouse (1995)::Comedy|Drama\\n',\n",
       " '563::Germinal (1993)::Drama\\n',\n",
       " '564::Chasers (1994)::Comedy\\n',\n",
       " '565::Cronos (1992)::Horror\\n',\n",
       " '566::Naked in New York (1994)::Comedy|Romance\\n',\n",
       " '567::Kika (1993)::Drama\\n',\n",
       " '568::Bhaji on the Beach (1993)::Comedy|Drama\\n',\n",
       " \"569::Little Big League (1994)::Children's|Comedy\\n\",\n",
       " '570::Slingshot, The (Kådisbellan ) (1993)::Comedy|Drama\\n',\n",
       " '571::Wedding Gift, The (1994)::Drama\\n',\n",
       " '572::Foreign Student (1994)::Drama\\n',\n",
       " '573::Ciao, Professore! (Io speriamo che me la cavo ) (1993)::Drama\\n',\n",
       " '574::Spanking the Monkey (1994)::Comedy|Drama\\n',\n",
       " \"575::Little Rascals, The (1994)::Children's|Comedy\\n\",\n",
       " '576::Fausto (1993)::Comedy\\n',\n",
       " \"577::Andre (1994)::Adventure|Children's\\n\",\n",
       " '578::Hour of the Pig, The (1993)::Drama|Mystery\\n',\n",
       " '579::Scorta, La (1993)::Thriller\\n',\n",
       " '580::Princess Caraboo (1994)::Drama\\n',\n",
       " '581::Celluloid Closet, The (1995)::Documentary\\n',\n",
       " '582::Metisse (Café au Lait) (1993)::Comedy\\n',\n",
       " '583::Dear Diary (Caro Diario) (1994)::Comedy|Drama\\n',\n",
       " \"584::I Don't Want to Talk About It (De eso no se habla) (1993)::Drama\\n\",\n",
       " '585::Brady Bunch Movie, The (1995)::Comedy\\n',\n",
       " \"586::Home Alone (1990)::Children's|Comedy\\n\",\n",
       " '587::Ghost (1990)::Comedy|Romance|Thriller\\n',\n",
       " \"588::Aladdin (1992)::Animation|Children's|Comedy|Musical\\n\",\n",
       " '589::Terminator 2: Judgment Day (1991)::Action|Sci-Fi|Thriller\\n',\n",
       " '590::Dances with Wolves (1990)::Adventure|Drama|Western\\n',\n",
       " '591::Tough and Deadly (1995)::Action|Drama|Thriller\\n',\n",
       " '592::Batman (1989)::Action|Adventure|Crime|Drama\\n',\n",
       " '593::Silence of the Lambs, The (1991)::Drama|Thriller\\n',\n",
       " \"594::Snow White and the Seven Dwarfs (1937)::Animation|Children's|Musical\\n\",\n",
       " \"595::Beauty and the Beast (1991)::Animation|Children's|Musical\\n\",\n",
       " \"596::Pinocchio (1940)::Animation|Children's\\n\",\n",
       " '597::Pretty Woman (1990)::Comedy|Romance\\n',\n",
       " '598::Window to Paris (1994)::Comedy\\n',\n",
       " '599::Wild Bunch, The (1969)::Western\\n',\n",
       " '600::Love and a .45 (1994)::Thriller\\n',\n",
       " \"601::Wooden Man's Bride, The (Wu Kui) (1994)::Drama\\n\",\n",
       " '602::Great Day in Harlem, A (1994)::Documentary\\n',\n",
       " '603::Bye Bye, Love (1995)::Comedy\\n',\n",
       " '604::Criminals (1996)::Documentary\\n',\n",
       " '605::One Fine Day (1996)::Drama|Romance\\n',\n",
       " '606::Candyman: Farewell to the Flesh (1995)::Horror\\n',\n",
       " '607::Century (1993)::Drama\\n',\n",
       " '608::Fargo (1996)::Crime|Drama|Thriller\\n',\n",
       " \"609::Homeward Bound II: Lost in San Francisco (1996)::Adventure|Children's\\n\",\n",
       " '610::Heavy Metal (1981)::Action|Adventure|Animation|Horror|Sci-Fi\\n',\n",
       " '611::Hellraiser: Bloodline (1996)::Action|Horror|Sci-Fi\\n',\n",
       " '612::Pallbearer, The (1996)::Comedy\\n',\n",
       " '613::Jane Eyre (1996)::Drama|Romance\\n',\n",
       " '614::Loaded (1994)::Drama|Thriller\\n',\n",
       " '615::Bread and Chocolate (Pane e cioccolata) (1973)::Drama\\n',\n",
       " \"616::Aristocats, The (1970)::Animation|Children's\\n\",\n",
       " '617::Flower of My Secret, The (La Flor de Mi Secreto) (1995)::Drama\\n',\n",
       " '618::Two Much (1996)::Comedy|Romance\\n',\n",
       " '619::Ed (1996)::Comedy\\n',\n",
       " '620::Scream of Stone (Schrei aus Stein) (1991)::Drama\\n',\n",
       " '621::My Favorite Season (1993)::Drama\\n',\n",
       " '623::Modern Affair, A (1995)::Romance\\n',\n",
       " '624::Condition Red (1995)::Action|Drama|Thriller\\n',\n",
       " '625::Asfour Stah (1990)::Drama\\n',\n",
       " '626::Thin Line Between Love and Hate, A (1996)::Comedy\\n',\n",
       " '627::Last Supper, The (1995)::Drama|Thriller\\n',\n",
       " '628::Primal Fear (1996)::Drama|Thriller\\n',\n",
       " '629::Rude (1995)::Drama\\n',\n",
       " '630::Carried Away (1996)::Drama|Romance\\n',\n",
       " \"631::All Dogs Go to Heaven 2 (1996)::Animation|Children's|Musical\\n\",\n",
       " '632::Land and Freedom (Tierra y libertad) (1995)::War\\n',\n",
       " '633::Denise Calls Up (1995)::Comedy\\n',\n",
       " '634::Theodore Rex (1995)::Comedy\\n',\n",
       " '635::Family Thing, A (1996)::Comedy|Drama\\n',\n",
       " '636::Frisk (1995)::Drama\\n',\n",
       " '637::Sgt. Bilko (1996)::Comedy\\n',\n",
       " '638::Jack and Sarah (1995)::Romance\\n',\n",
       " '639::Girl 6 (1996)::Comedy\\n',\n",
       " '640::Diabolique (1996)::Drama|Thriller\\n',\n",
       " '641::Little Indian, Big City (Un indien dans la ville) (1994)::Comedy\\n',\n",
       " '642::Roula (1995)::Drama\\n',\n",
       " '643::Peanuts - Die Bank zahlt alles (1996)::Comedy\\n',\n",
       " '644::Happy Weekend (1996)::Comedy\\n',\n",
       " '645::Nelly & Monsieur Arnaud (1995)::Drama\\n',\n",
       " '647::Courage Under Fire (1996)::Drama|War\\n',\n",
       " '648::Mission: Impossible (1996)::Action|Adventure|Mystery\\n',\n",
       " '649::Cold Fever (Á köldum klaka) (1994)::Comedy|Drama\\n',\n",
       " '650::Moll Flanders (1996)::Drama\\n',\n",
       " '651::Superweib, Das (1996)::Comedy\\n',\n",
       " '652::301, 302 (1995)::Mystery\\n',\n",
       " '653::Dragonheart (1996)::Action|Adventure|Fantasy\\n',\n",
       " '654::Und keiner weint mir nach (1996)::Drama|Romance\\n',\n",
       " '655::Mutters Courage (1995)::Comedy\\n',\n",
       " '656::Eddie (1996)::Comedy\\n',\n",
       " '657::Yankee Zulu (1994)::Comedy|Drama\\n',\n",
       " \"658::Billy's Holiday (1995)::Drama\\n\",\n",
       " '659::Purple Noon (1960)::Crime|Thriller\\n',\n",
       " '660::August (1996)::Drama\\n',\n",
       " \"661::James and the Giant Peach (1996)::Animation|Children's|Musical\\n\",\n",
       " '662::Fear (1996)::Thriller\\n',\n",
       " '663::Kids in the Hall: Brain Candy (1996)::Comedy\\n',\n",
       " '664::Faithful (1996)::Comedy\\n',\n",
       " '665::Underground (1995)::War\\n',\n",
       " '666::All Things Fair (1996)::Drama\\n',\n",
       " '667::Bloodsport 2 (1995)::Action\\n',\n",
       " '668::Pather Panchali (1955)::Drama\\n',\n",
       " '669::Aparajito (1956)::Drama\\n',\n",
       " '670::World of Apu, The (Apur Sansar) (1959)::Drama\\n',\n",
       " '671::Mystery Science Theater 3000: The Movie (1996)::Comedy|Sci-Fi\\n',\n",
       " '672::Tarantella (1995)::Drama\\n',\n",
       " \"673::Space Jam (1996)::Adventure|Animation|Children's|Comedy|Fantasy\\n\",\n",
       " '674::Barbarella (1968)::Adventure|Sci-Fi\\n',\n",
       " '675::Hostile Intentions (1994)::Action|Drama|Thriller\\n',\n",
       " '676::They Bite (1996)::Drama\\n',\n",
       " '678::Some Folks Call It a Sling Blade (1993)::Drama|Thriller\\n',\n",
       " '679::Run of the Country, The (1995)::Drama\\n',\n",
       " '680::Alphaville (1965)::Sci-Fi\\n',\n",
       " '681::Clean Slate (Coup de Torchon) (1981)::Crime\\n',\n",
       " '682::Tigrero: A Film That Was Never Made (1994)::Documentary|Drama\\n',\n",
       " \"683::Eye of Vichy, The (Oeil de Vichy, L') (1993)::Documentary\\n\",\n",
       " '684::Windows (1980)::Drama\\n',\n",
       " \"685::It's My Party (1995)::Drama\\n\",\n",
       " '687::Country Life (1994)::Drama|Romance\\n',\n",
       " '688::Operation Dumbo Drop (1995)::Action|Adventure|Comedy|War\\n',\n",
       " '690::Promise, The (Versprechen, Das) (1994)::Romance\\n',\n",
       " '691::Mrs. Winterbourne (1996)::Comedy|Romance\\n',\n",
       " '692::Solo (1996)::Action|Sci-Fi|Thriller\\n',\n",
       " '693::Under the Domin Tree (Etz Hadomim Tafus) (1994)::Drama\\n',\n",
       " '694::Substitute, The (1996)::Action\\n',\n",
       " '695::True Crime (1995)::Mystery|Thriller\\n',\n",
       " '696::Butterfly Kiss (1995)::Thriller\\n',\n",
       " '697::Feeling Minnesota (1996)::Drama|Romance\\n',\n",
       " '698::Delta of Venus (1994)::Drama\\n',\n",
       " '699::To Cross the Rubicon (1991)::Drama\\n',\n",
       " '700::Angus (1995)::Comedy\\n',\n",
       " '701::Daens (1992)::Drama\\n',\n",
       " '702::Faces (1968)::Drama\\n',\n",
       " '703::Boys (1996)::Drama\\n',\n",
       " '704::Quest, The (1996)::Action|Adventure\\n',\n",
       " '705::Cosi (1996)::Comedy\\n',\n",
       " '706::Sunset Park (1996)::Drama\\n',\n",
       " '707::Mulholland Falls (1996)::Crime|Film-Noir|Thriller\\n',\n",
       " '708::Truth About Cats & Dogs, The (1996)::Comedy|Romance\\n',\n",
       " \"709::Oliver & Company (1988)::Animation|Children's\\n\",\n",
       " '710::Celtic Pride (1996)::Comedy\\n',\n",
       " \"711::Flipper (1996)::Adventure|Children's\\n\",\n",
       " '712::Captives (1994)::Drama\\n',\n",
       " '713::Of Love and Shadows (1994)::Drama\\n',\n",
       " '714::Dead Man (1995)::Western\\n',\n",
       " '715::Horseman on the Roof, The (Hussard sur le toit, Le) (1995)::Drama\\n',\n",
       " '716::Switchblade Sisters (1975)::Crime\\n',\n",
       " '717::Mouth to Mouth (Boca a boca) (1995)::Comedy\\n',\n",
       " '718::Visitors, The (Les Visiteurs) (1993)::Comedy|Sci-Fi\\n',\n",
       " '719::Multiplicity (1996)::Comedy\\n',\n",
       " '720::Wallace & Gromit: The Best of Aardman Animation (1996)::Animation\\n',\n",
       " '721::Halfmoon (Paul Bowles - Halbmond) (1995)::Drama\\n',\n",
       " '722::Haunted World of Edward D. Wood Jr., The (1995)::Documentary\\n',\n",
       " '723::Two Friends (1986)::Drama\\n',\n",
       " '724::Craft, The (1996)::Drama|Horror\\n',\n",
       " '725::Great White Hype, The (1996)::Comedy\\n',\n",
       " '726::Last Dance (1996)::Drama\\n',\n",
       " '727::War Stories (1995)::Documentary\\n',\n",
       " '728::Cold Comfort Farm (1995)::Comedy\\n',\n",
       " '729::Institute Benjamenta, or This Dream People Call Human Life (1995)::Drama\\n',\n",
       " '730::Low Life, The (1994)::Drama\\n',\n",
       " \"731::Heaven's Prisoners (1996)::Mystery|Thriller\\n\",\n",
       " '732::Original Gangstas (1996)::Crime\\n',\n",
       " '733::Rock, The (1996)::Action|Adventure|Thriller\\n',\n",
       " '734::Getting Away With Murder (1996)::Comedy\\n',\n",
       " '735::Cemetery Man (Dellamorte Dellamore) (1994)::Comedy|Horror\\n',\n",
       " '736::Twister (1996)::Action|Adventure|Romance|Thriller\\n',\n",
       " '737::Barb Wire (1996)::Action|Sci-Fi\\n',\n",
       " '738::Garcu, Le (1995)::Drama\\n',\n",
       " '739::Honigmond (1996)::Comedy\\n',\n",
       " '741::Ghost in the Shell (Kokaku kidotai) (1995)::Animation|Sci-Fi\\n',\n",
       " '742::Thinner (1996)::Horror|Thriller\\n',\n",
       " '743::Spy Hard (1996)::Comedy\\n',\n",
       " '744::Brothers in Trouble (1995)::Drama\\n',\n",
       " '745::Close Shave, A (1995)::Animation|Comedy|Thriller\\n',\n",
       " '746::Force of Evil (1948)::Film-Noir\\n',\n",
       " '747::Stupids, The (1996)::Comedy\\n',\n",
       " '748::Arrival, The (1996)::Action|Sci-Fi|Thriller\\n',\n",
       " '749::Man from Down Under, The (1943)::Drama\\n',\n",
       " '750::Dr. Strangelove or: How I Learned to Stop Worrying and Love the Bomb (1963)::Sci-Fi|War\\n',\n",
       " '751::Careful (1992)::Comedy\\n',\n",
       " '752::Vermont Is For Lovers (1992)::Comedy|Romance\\n',\n",
       " '753::Month by the Lake, A (1995)::Comedy|Drama\\n',\n",
       " \"754::Gold Diggers: The Secret of Bear Mountain (1995)::Adventure|Children's\\n\",\n",
       " \"755::Kim (1950)::Children's|Drama\\n\",\n",
       " '756::Carmen Miranda: Bananas Is My Business (1994)::Documentary\\n',\n",
       " '757::Ashes of Time (1994)::Drama\\n',\n",
       " '758::Jar, The (Khomreh) (1992)::Drama\\n',\n",
       " '759::Maya Lin: A Strong Clear Vision (1994)::Documentary\\n',\n",
       " '760::Stalingrad (1993)::War\\n',\n",
       " '761::Phantom, The (1996)::Adventure\\n',\n",
       " '762::Striptease (1996)::Comedy|Crime\\n',\n",
       " '763::Last of the High Kings, The (a.k.a. Summer Fling) (1996)::Drama\\n',\n",
       " '764::Heavy (1995)::Drama|Romance\\n',\n",
       " '765::Jack (1996)::Comedy|Drama\\n',\n",
       " '766::I Shot Andy Warhol (1996)::Drama\\n',\n",
       " '767::Grass Harp, The (1995)::Drama\\n',\n",
       " \"768::Someone Else's America (1995)::Drama\\n\",\n",
       " '769::Marlene Dietrich: Shadow and Light (1996)::Documentary\\n',\n",
       " '770::Costa Brava (1946)::Drama\\n',\n",
       " '771::Vie est belle, La (Life is Rosey) (1987)::Comedy|Drama\\n',\n",
       " '772::Quartier Mozart (1992)::Comedy\\n',\n",
       " '773::Touki Bouki (Journey of the Hyena) (1973)::Drama\\n',\n",
       " \"774::Wend Kuuni (God's Gift) (1982)::Drama\\n\",\n",
       " '775::Spirits of the Dead (Tre Passi nel Delirio) (1968)::Horror\\n',\n",
       " '776::Babyfever (1994)::Comedy|Drama\\n',\n",
       " \"777::Pharaoh's Army (1995)::War\\n\",\n",
       " '778::Trainspotting (1996)::Drama\\n',\n",
       " \"779::'Til There Was You (1997)::Drama|Romance\\n\",\n",
       " '780::Independence Day (ID4) (1996)::Action|Sci-Fi|War\\n',\n",
       " '781::Stealing Beauty (1996)::Drama\\n',\n",
       " '782::Fan, The (1996)::Thriller\\n',\n",
       " \"783::Hunchback of Notre Dame, The (1996)::Animation|Children's|Musical\\n\",\n",
       " '784::Cable Guy, The (1996)::Comedy\\n',\n",
       " '785::Kingpin (1996)::Comedy\\n',\n",
       " '786::Eraser (1996)::Action|Thriller\\n',\n",
       " '787::Gate of Heavenly Peace, The (1995)::Documentary\\n',\n",
       " '788::Nutty Professor, The (1996)::Comedy|Fantasy|Romance|Sci-Fi\\n',\n",
       " '789::I, Worst of All (Yo, la peor de todas) (1990)::Drama\\n',\n",
       " '790::An Unforgettable Summer (1994)::Drama\\n',\n",
       " '791::Last Klezmer: Leopold Kozlowski, His Life and Music, The (1995)::Documentary\\n',\n",
       " '792::Hungarian Fairy Tale, A (1987)::Fantasy\\n',\n",
       " \"793::My Life and Times With Antonin Artaud (En compagnie d'Antonin Artaud) (1993)::Drama\\n\",\n",
       " '794::Midnight Dancers (Sibak) (1994)::Comedy|Drama\\n',\n",
       " '795::Somebody to Love (1994)::Drama\\n',\n",
       " '796::Very Natural Thing, A (1974)::Drama\\n',\n",
       " '797::Old Lady Who Walked in the Sea, The (Vieille qui marchait dans la mer, La) (1991)::Comedy\\n',\n",
       " '798::Daylight (1996)::Action|Adventure|Thriller\\n',\n",
       " '799::Frighteners, The (1996)::Comedy|Horror\\n',\n",
       " '800::Lone Star (1996)::Drama|Mystery\\n',\n",
       " \"801::Harriet the Spy (1996)::Children's|Comedy\\n\",\n",
       " '802::Phenomenon (1996)::Drama|Romance\\n',\n",
       " '803::Walking and Talking (1996)::Romance\\n',\n",
       " \"804::She's the One (1996)::Comedy|Romance\\n\",\n",
       " '805::Time to Kill, A (1996)::Drama\\n',\n",
       " '806::American Buffalo (1996)::Drama\\n',\n",
       " '807::Rendezvous in Paris (Rendez-vous de Paris, Les) (1995)::Comedy|Romance\\n',\n",
       " \"808::Alaska (1996)::Adventure|Children's\\n\",\n",
       " '809::Fled (1996)::Action|Adventure\\n',\n",
       " \"810::Kazaam (1996)::Children's|Comedy|Fantasy\\n\",\n",
       " '811::Bewegte Mann, Der (1994)::Comedy\\n',\n",
       " '812::Magic Hunter (1994)::Drama\\n',\n",
       " '813::Larger Than Life (1996)::Comedy\\n',\n",
       " '814::Boy Called Hate, A (1995)::Drama\\n',\n",
       " '815::Power 98 (1995)::Action|Mystery|Thriller\\n',\n",
       " '816::Two Deaths (1995)::Drama\\n',\n",
       " '818::Very Brady Sequel, A (1996)::Comedy\\n',\n",
       " '819::Stefano Quantestorie (1993)::Comedy|Drama\\n',\n",
       " '820::Death in the Garden (Mort en ce jardin, La) (1956)::Drama\\n',\n",
       " '821::Crude Oasis, The (1995)::Romance\\n',\n",
       " '822::Hedd Wyn (1992)::Drama\\n',\n",
       " '823::Collectionneuse, La (1967)::Drama\\n',\n",
       " '824::Kaspar Hauser (1993)::Drama\\n',\n",
       " '825::Echte Kerle (1996)::Comedy|Romance\\n',\n",
       " '826::Diebinnen (1995)::Drama\\n',\n",
       " '827::Convent, The (Convento, O) (1995)::Drama\\n',\n",
       " \"828::Adventures of Pinocchio, The (1996)::Adventure|Children's\\n\",\n",
       " \"829::Joe's Apartment (1996)::Comedy|Musical\\n\",\n",
       " '830::First Wives Club, The (1996)::Comedy\\n',\n",
       " '831::Stonewall (1995)::Drama\\n',\n",
       " '832::Ransom (1996)::Drama|Thriller\\n',\n",
       " '833::High School High (1996)::Comedy\\n',\n",
       " '834::Phat Beach (1996)::Comedy\\n',\n",
       " '835::Foxfire (1996)::Drama\\n',\n",
       " '836::Chain Reaction (1996)::Action|Adventure|Thriller\\n',\n",
       " \"837::Matilda (1996)::Children's|Comedy\\n\",\n",
       " '838::Emma (1996)::Comedy|Drama|Romance\\n',\n",
       " '839::Crow: City of Angels, The (1996)::Action|Thriller\\n',\n",
       " '840::House Arrest (1996)::Comedy\\n',\n",
       " '841::Eyes Without a Face (1959)::Horror\\n',\n",
       " '842::Tales from the Crypt Presents: Bordello of Blood (1996)::Horror\\n',\n",
       " '843::Lotto Land (1995)::Drama\\n',\n",
       " '844::Story of Xinghua, The (1993)::Drama\\n',\n",
       " '845::Day the Sun Turned Cold, The (Tianguo niezi) (1994)::Drama\\n',\n",
       " '846::Flirt (1995)::Drama\\n',\n",
       " '847::Big Squeeze, The (1996)::Comedy|Drama\\n',\n",
       " '848::Spitfire Grill, The (1996)::Drama\\n',\n",
       " '849::Escape from L.A. (1996)::Action|Adventure|Sci-Fi|Thriller\\n',\n",
       " '850::Cyclo (1995)::Crime|Drama\\n',\n",
       " '851::Basquiat (1996)::Drama\\n',\n",
       " '852::Tin Cup (1996)::Comedy|Romance\\n',\n",
       " '853::Dingo (1992)::Drama\\n',\n",
       " '854::Ballad of Narayama, The (Narayama Bushiko) (1958)::Drama\\n',\n",
       " '855::Every Other Weekend (1990)::Drama\\n',\n",
       " '856::Mille bolle blu (1993)::Comedy\\n',\n",
       " '857::Crows and Sparrows (1949)::Drama\\n',\n",
       " '858::Godfather, The (1972)::Action|Crime|Drama\\n',\n",
       " '859::Hippie Revolution, The (1996)::Documentary\\n',\n",
       " '860::Maybe, Maybe Not (Bewegte Mann, Der) (1994)::Comedy\\n',\n",
       " '861::Supercop (1992)::Action|Thriller\\n',\n",
       " '862::Manny & Lo (1996)::Drama\\n',\n",
       " '863::Celestial Clockwork (1994)::Comedy\\n',\n",
       " '864::Wife, The (1995)::Comedy|Drama\\n',\n",
       " '865::Small Faces (1995)::Drama\\n',\n",
       " '866::Bound (1996)::Crime|Drama|Romance|Thriller\\n',\n",
       " '867::Carpool (1996)::Comedy|Crime\\n',\n",
       " '868::Death in Brunswick (1991)::Comedy\\n',\n",
       " '869::Kansas City (1996)::Crime\\n',\n",
       " \"870::Gone Fishin' (1997)::Comedy\\n\",\n",
       " \"871::Lover's Knot (1996)::Comedy\\n\",\n",
       " '872::Aiqing wansui (1994)::Drama\\n',\n",
       " '873::Shadow of Angels (Schatten der Engel) (1976)::Drama\\n',\n",
       " '874::Killer: A Journal of Murder (1995)::Crime|Drama\\n',\n",
       " '875::Nothing to Lose (1994)::Drama\\n',\n",
       " '876::Police Story 4: Project S (Chao ji ji hua) (1993)::Action\\n',\n",
       " '877::Girls Town (1996)::Drama\\n',\n",
       " '878::Bye-Bye (1995)::Drama\\n',\n",
       " '879::Relic, The (1997)::Horror\\n',\n",
       " '880::Island of Dr. Moreau, The (1996)::Sci-Fi|Thriller\\n',\n",
       " \"881::First Kid (1996)::Children's|Comedy\\n\",\n",
       " '882::Trigger Effect, The (1996)::Drama|Thriller\\n',\n",
       " '884::Sweet Nothing (1995)::Drama\\n',\n",
       " \"885::Bogus (1996)::Children's|Drama|Fantasy\\n\",\n",
       " '886::Bulletproof (1996)::Action\\n',\n",
       " '887::Talk of Angels (1998)::Drama\\n',\n",
       " \"888::Land Before Time III: The Time of the Great Giving (1995)::Animation|Children's\\n\",\n",
       " '889::1-900 (1994)::Romance\\n',\n",
       " '890::Baton Rouge (1988)::Thriller\\n',\n",
       " '891::Halloween: The Curse of Michael Myers (1995)::Horror|Thriller\\n',\n",
       " '892::Twelfth Night (1996)::Comedy|Drama|Romance\\n',\n",
       " '893::Mother Night (1996)::Drama\\n',\n",
       " '894::Liebelei (1933)::Romance\\n',\n",
       " '895::Venice/Venice (1992)::Drama\\n',\n",
       " '896::Wild Reeds (1994)::Drama\\n',\n",
       " '897::For Whom the Bell Tolls (1943)::Adventure|War\\n',\n",
       " '898::Philadelphia Story, The (1940)::Comedy|Romance\\n',\n",
       " \"899::Singin' in the Rain (1952)::Musical|Romance\\n\",\n",
       " '900::American in Paris, An (1951)::Musical|Romance\\n',\n",
       " '901::Funny Face (1957)::Comedy|Musical\\n',\n",
       " \"902::Breakfast at Tiffany's (1961)::Drama|Romance\\n\",\n",
       " '903::Vertigo (1958)::Mystery|Thriller\\n',\n",
       " '904::Rear Window (1954)::Mystery|Thriller\\n',\n",
       " '905::It Happened One Night (1934)::Comedy\\n',\n",
       " '906::Gaslight (1944)::Mystery|Thriller\\n',\n",
       " '907::Gay Divorcee, The (1934)::Comedy|Musical|Romance\\n',\n",
       " '908::North by Northwest (1959)::Drama|Thriller\\n',\n",
       " '909::Apartment, The (1960)::Comedy|Drama\\n',\n",
       " '910::Some Like It Hot (1959)::Comedy|Crime\\n',\n",
       " '911::Charade (1963)::Comedy|Mystery|Romance|Thriller\\n',\n",
       " '912::Casablanca (1942)::Drama|Romance|War\\n',\n",
       " '913::Maltese Falcon, The (1941)::Film-Noir|Mystery\\n',\n",
       " '914::My Fair Lady (1964)::Musical|Romance\\n',\n",
       " '915::Sabrina (1954)::Comedy|Romance\\n',\n",
       " '916::Roman Holiday (1953)::Comedy|Romance\\n',\n",
       " \"917::Little Princess, The (1939)::Children's|Drama\\n\",\n",
       " '918::Meet Me in St. Louis (1944)::Musical\\n',\n",
       " \"919::Wizard of Oz, The (1939)::Adventure|Children's|Drama|Musical\\n\",\n",
       " '920::Gone with the Wind (1939)::Drama|Romance|War\\n',\n",
       " '921::My Favorite Year (1982)::Comedy\\n',\n",
       " '922::Sunset Blvd. (a.k.a. Sunset Boulevard) (1950)::Film-Noir\\n',\n",
       " '923::Citizen Kane (1941)::Drama\\n',\n",
       " '924::2001: A Space Odyssey (1968)::Drama|Mystery|Sci-Fi|Thriller\\n',\n",
       " '925::Golden Earrings (1947)::Adventure|Romance\\n',\n",
       " '926::All About Eve (1950)::Drama\\n',\n",
       " '927::Women, The (1939)::Comedy\\n',\n",
       " '928::Rebecca (1940)::Romance|Thriller\\n',\n",
       " '929::Foreign Correspondent (1940)::Thriller\\n',\n",
       " '930::Notorious (1946)::Film-Noir|Romance|Thriller\\n',\n",
       " '931::Spellbound (1945)::Mystery|Romance|Thriller\\n',\n",
       " '932::Affair to Remember, An (1957)::Romance\\n',\n",
       " '933::To Catch a Thief (1955)::Comedy|Romance|Thriller\\n',\n",
       " '934::Father of the Bride (1950)::Comedy\\n',\n",
       " '935::Band Wagon, The (1953)::Comedy|Musical\\n',\n",
       " '936::Ninotchka (1939)::Comedy|Romance\\n',\n",
       " '937::Love in the Afternoon (1957)::Comedy|Romance\\n',\n",
       " '938::Gigi (1958)::Musical\\n',\n",
       " '939::Reluctant Debutante, The (1958)::Comedy|Drama\\n',\n",
       " '940::Adventures of Robin Hood, The (1938)::Action|Adventure\\n',\n",
       " '941::Mark of Zorro, The (1940)::Adventure\\n',\n",
       " '942::Laura (1944)::Crime|Film-Noir|Mystery\\n',\n",
       " '943::Ghost and Mrs. Muir, The (1947)::Drama|Romance\\n',\n",
       " '944::Lost Horizon (1937)::Drama\\n',\n",
       " '945::Top Hat (1935)::Comedy|Musical|Romance\\n',\n",
       " '946::To Be or Not to Be (1942)::Comedy|Drama|War\\n',\n",
       " '947::My Man Godfrey (1936)::Comedy\\n',\n",
       " '948::Giant (1956)::Drama\\n',\n",
       " '949::East of Eden (1955)::Drama\\n',\n",
       " '950::Thin Man, The (1934)::Mystery\\n',\n",
       " '951::His Girl Friday (1940)::Comedy\\n',\n",
       " '952::Around the World in 80 Days (1956)::Adventure|Comedy\\n',\n",
       " \"953::It's a Wonderful Life (1946)::Drama\\n\",\n",
       " '954::Mr. Smith Goes to Washington (1939)::Drama\\n',\n",
       " '955::Bringing Up Baby (1938)::Comedy\\n',\n",
       " '956::Penny Serenade (1941)::Drama|Romance\\n',\n",
       " '957::Scarlet Letter, The (1926)::Drama\\n',\n",
       " '958::Lady of Burlesque (1943)::Comedy|Mystery\\n',\n",
       " '959::Of Human Bondage (1934)::Drama\\n',\n",
       " '960::Angel on My Shoulder (1946)::Crime|Drama\\n',\n",
       " '961::Little Lord Fauntleroy (1936)::Drama\\n',\n",
       " '962::They Made Me a Criminal (1939)::Crime|Drama\\n',\n",
       " '963::Inspector General, The (1949)::Musical\\n',\n",
       " '964::Angel and the Badman (1947)::Western\\n',\n",
       " '965::39 Steps, The (1935)::Thriller\\n',\n",
       " '966::Walk in the Sun, A (1945)::Drama\\n',\n",
       " '967::Outlaw, The (1943)::Western\\n',\n",
       " '968::Night of the Living Dead (1968)::Horror|Sci-Fi\\n',\n",
       " '969::African Queen, The (1951)::Action|Adventure|Romance|War\\n',\n",
       " '970::Beat the Devil (1954)::Comedy|Drama\\n',\n",
       " '971::Cat on a Hot Tin Roof (1958)::Drama\\n',\n",
       " '972::Last Time I Saw Paris, The (1954)::Drama\\n',\n",
       " '973::Meet John Doe (1941)::Drama\\n',\n",
       " '974::Algiers (1938)::Drama|Romance\\n',\n",
       " '975::Something to Sing About (1937)::Comedy|Musical\\n',\n",
       " '976::Farewell to Arms, A (1932)::Romance|War\\n',\n",
       " '977::Moonlight Murder (1936)::Mystery\\n',\n",
       " '978::Blue Angel, The (Blaue Engel, Der) (1930)::Drama\\n',\n",
       " '979::Nothing Personal (1995)::Drama|War\\n',\n",
       " '980::In the Line of Duty 2 (1987)::Action\\n',\n",
       " '981::Dangerous Ground (1997)::Drama\\n',\n",
       " '982::Picnic (1955)::Drama\\n',\n",
       " '983::Madagascar Skin (1995)::Romance\\n',\n",
       " '984::Pompatus of Love, The (1996)::Comedy|Drama\\n',\n",
       " '985::Small Wonders (1996)::Documentary\\n',\n",
       " \"986::Fly Away Home (1996)::Adventure|Children's\\n\",\n",
       " '987::Bliss (1997)::Drama|Romance\\n',\n",
       " '988::Grace of My Heart (1996)::Comedy|Drama\\n',\n",
       " '989::Schlafes Bruder (Brother of Sleep) (1995)::Drama\\n',\n",
       " '990::Maximum Risk (1996)::Action|Adventure|Thriller\\n',\n",
       " '991::Michael Collins (1996)::Drama|War\\n',\n",
       " \"992::Rich Man's Wife, The (1996)::Thriller\\n\",\n",
       " '993::Infinity (1996)::Drama\\n',\n",
       " '994::Big Night (1996)::Drama\\n',\n",
       " '996::Last Man Standing (1996)::Action|Drama|Western\\n',\n",
       " '997::Caught (1996)::Drama|Thriller\\n',\n",
       " '998::Set It Off (1996)::Action|Crime\\n',\n",
       " '999::2 Days in the Valley (1996)::Crime\\n',\n",
       " '1000::Curdled (1996)::Crime\\n',\n",
       " \"1001::Associate, The (L'Associe)(1982)::Comedy\\n\",\n",
       " \"1002::Ed's Next Move (1996)::Comedy\\n\",\n",
       " '1003::Extreme Measures (1996)::Drama|Thriller\\n',\n",
       " '1004::Glimmer Man, The (1996)::Action|Thriller\\n',\n",
       " \"1005::D3: The Mighty Ducks (1996)::Children's|Comedy\\n\",\n",
       " '1006::Chamber, The (1996)::Drama\\n',\n",
       " \"1007::Apple Dumpling Gang, The (1975)::Children's|Comedy|Western\\n\",\n",
       " '1008::Davy Crockett, King of the Wild Frontier (1955)::Western\\n',\n",
       " \"1009::Escape to Witch Mountain (1975)::Adventure|Children's|Fantasy\\n\",\n",
       " \"1010::Love Bug, The (1969)::Children's|Comedy\\n\",\n",
       " \"1011::Herbie Rides Again (1974)::Adventure|Children's|Comedy\\n\",\n",
       " \"1012::Old Yeller (1957)::Children's|Drama\\n\",\n",
       " ...]"
      ]
     },
     "execution_count": 153,
     "metadata": {},
     "output_type": "execute_result"
    }
   ],
   "source": [
    "[one_line\n",
    "for one_line in open('movies.dat', encoding='iso-8859-1')]"
   ]
  },
  {
   "cell_type": "code",
   "execution_count": null,
   "metadata": {},
   "outputs": [],
   "source": []
  }
 ],
 "metadata": {
  "kernelspec": {
   "display_name": "Python 3",
   "language": "python",
   "name": "python3"
  },
  "language_info": {
   "codemirror_mode": {
    "name": "ipython",
    "version": 3
   },
   "file_extension": ".py",
   "mimetype": "text/x-python",
   "name": "python",
   "nbconvert_exporter": "python",
   "pygments_lexer": "ipython3",
   "version": "3.7.6"
  }
 },
 "nbformat": 4,
 "nbformat_minor": 2
}
