{
 "cells": [
  {
   "cell_type": "code",
   "execution_count": 1,
   "metadata": {},
   "outputs": [],
   "source": [
    "# github.com/reuven/radware-0120\n",
    "\n",
    "\n",
    "\n",
    "for i in range(10):\n",
    "    x = i * i"
   ]
  },
  {
   "cell_type": "code",
   "execution_count": 2,
   "metadata": {},
   "outputs": [
    {
     "data": {
      "text/plain": [
       "9"
      ]
     },
     "execution_count": 2,
     "metadata": {},
     "output_type": "execute_result"
    }
   ],
   "source": [
    "i"
   ]
  },
  {
   "cell_type": "code",
   "execution_count": 3,
   "metadata": {},
   "outputs": [
    {
     "data": {
      "text/plain": [
       "81"
      ]
     },
     "execution_count": 3,
     "metadata": {},
     "output_type": "execute_result"
    }
   ],
   "source": [
    "x"
   ]
  },
  {
   "cell_type": "code",
   "execution_count": 4,
   "metadata": {},
   "outputs": [
    {
     "data": {
      "text/plain": [
       "{'__name__': '__main__',\n",
       " '__doc__': 'Automatically created module for IPython interactive environment',\n",
       " '__package__': None,\n",
       " '__loader__': None,\n",
       " '__spec__': None,\n",
       " '__builtin__': <module 'builtins' (built-in)>,\n",
       " '__builtins__': <module 'builtins' (built-in)>,\n",
       " '_ih': ['',\n",
       "  '# github.com/reuven/radware-0120\\n\\n\\n\\nfor i in range(10):\\n    x = i * i',\n",
       "  'i',\n",
       "  'x',\n",
       "  'globals() '],\n",
       " '_oh': {2: 9, 3: 81},\n",
       " '_dh': ['/Users/reuven/Consulting/Courses/Python/radware-0120'],\n",
       " 'In': ['',\n",
       "  '# github.com/reuven/radware-0120\\n\\n\\n\\nfor i in range(10):\\n    x = i * i',\n",
       "  'i',\n",
       "  'x',\n",
       "  'globals() '],\n",
       " 'Out': {2: 9, 3: 81},\n",
       " 'get_ipython': <bound method InteractiveShell.get_ipython of <ipykernel.zmqshell.ZMQInteractiveShell object at 0x1046c2f10>>,\n",
       " 'exit': <IPython.core.autocall.ZMQExitAutocall at 0x104775e10>,\n",
       " 'quit': <IPython.core.autocall.ZMQExitAutocall at 0x104775e10>,\n",
       " '_': 81,\n",
       " '__': 9,\n",
       " '___': '',\n",
       " '_i': 'x',\n",
       " '_ii': 'i',\n",
       " '_iii': '# github.com/reuven/radware-0120\\n\\n\\n\\nfor i in range(10):\\n    x = i * i',\n",
       " '_i1': '# github.com/reuven/radware-0120\\n\\n\\n\\nfor i in range(10):\\n    x = i * i',\n",
       " 'i': 9,\n",
       " 'x': 81,\n",
       " '_i2': 'i',\n",
       " '_2': 9,\n",
       " '_i3': 'x',\n",
       " '_3': 81,\n",
       " '_i4': 'globals() '}"
      ]
     },
     "execution_count": 4,
     "metadata": {},
     "output_type": "execute_result"
    }
   ],
   "source": [
    "globals() "
   ]
  },
  {
   "cell_type": "code",
   "execution_count": 5,
   "metadata": {},
   "outputs": [
    {
     "data": {
      "text/plain": [
       "True"
      ]
     },
     "execution_count": 5,
     "metadata": {},
     "output_type": "execute_result"
    }
   ],
   "source": [
    "'x' in globals()"
   ]
  },
  {
   "cell_type": "code",
   "execution_count": 6,
   "metadata": {},
   "outputs": [],
   "source": [
    "def myfunc():\n",
    "    x = 200\n",
    "    print(f'In myfunc, x = {x}')\n"
   ]
  },
  {
   "cell_type": "code",
   "execution_count": 7,
   "metadata": {},
   "outputs": [
    {
     "data": {
      "text/plain": [
       "('x',)"
      ]
     },
     "execution_count": 7,
     "metadata": {},
     "output_type": "execute_result"
    }
   ],
   "source": [
    "myfunc.__code__.co_varnames"
   ]
  },
  {
   "cell_type": "code",
   "execution_count": 8,
   "metadata": {},
   "outputs": [
    {
     "data": {
      "text/plain": [
       "b'd\\x01}\\x00t\\x00d\\x02|\\x00\\x9b\\x00\\x9d\\x02\\x83\\x01\\x01\\x00d\\x00S\\x00'"
      ]
     },
     "execution_count": 8,
     "metadata": {},
     "output_type": "execute_result"
    }
   ],
   "source": [
    "myfunc.__code__.co_code\n"
   ]
  },
  {
   "cell_type": "code",
   "execution_count": 9,
   "metadata": {},
   "outputs": [],
   "source": [
    "import dis"
   ]
  },
  {
   "cell_type": "code",
   "execution_count": 10,
   "metadata": {},
   "outputs": [
    {
     "name": "stdout",
     "output_type": "stream",
     "text": [
      "  2           0 LOAD_CONST               1 (200)\n",
      "              2 STORE_FAST               0 (x)\n",
      "\n",
      "  3           4 LOAD_GLOBAL              0 (print)\n",
      "              6 LOAD_CONST               2 ('In myfunc, x = ')\n",
      "              8 LOAD_FAST                0 (x)\n",
      "             10 FORMAT_VALUE             0\n",
      "             12 BUILD_STRING             2\n",
      "             14 CALL_FUNCTION            1\n",
      "             16 POP_TOP\n",
      "             18 LOAD_CONST               0 (None)\n",
      "             20 RETURN_VALUE\n"
     ]
    }
   ],
   "source": [
    "dis.dis(myfunc)"
   ]
  },
  {
   "cell_type": "code",
   "execution_count": 11,
   "metadata": {},
   "outputs": [
    {
     "name": "stdout",
     "output_type": "stream",
     "text": [
      "In first, calling second\n",
      "In second\n"
     ]
    }
   ],
   "source": [
    "def first():\n",
    "    print(\"In first, calling second\")\n",
    "    second()\n",
    "    \n",
    "def second():\n",
    "    print(\"In second\")\n",
    "    \n",
    "first()"
   ]
  },
  {
   "cell_type": "code",
   "execution_count": 14,
   "metadata": {},
   "outputs": [],
   "source": [
    "def myfunc():\n",
    "    global x\n",
    "    x = 200\n",
    "    print(f'In myfunc, x = {x}')\n"
   ]
  },
  {
   "cell_type": "code",
   "execution_count": 15,
   "metadata": {},
   "outputs": [
    {
     "data": {
      "text/plain": [
       "()"
      ]
     },
     "execution_count": 15,
     "metadata": {},
     "output_type": "execute_result"
    }
   ],
   "source": [
    "myfunc.__code__.co_varnames"
   ]
  },
  {
   "cell_type": "code",
   "execution_count": 16,
   "metadata": {},
   "outputs": [],
   "source": [
    "def hello(name):\n",
    "    return f'Hello, {name}'"
   ]
  },
  {
   "cell_type": "code",
   "execution_count": 17,
   "metadata": {},
   "outputs": [],
   "source": [
    "def outer():\n",
    "    def inner():\n",
    "        print(\"I'm in inner!\")\n",
    "    return inner"
   ]
  },
  {
   "cell_type": "code",
   "execution_count": 19,
   "metadata": {},
   "outputs": [
    {
     "name": "stdout",
     "output_type": "stream",
     "text": [
      "I'm in inner!\n"
     ]
    }
   ],
   "source": [
    "f = outer()\n",
    "f()"
   ]
  },
  {
   "cell_type": "code",
   "execution_count": 20,
   "metadata": {},
   "outputs": [
    {
     "name": "stdout",
     "output_type": "stream",
     "text": [
      "I'm in inner, x = 10, y = 5!\n",
      "I'm in inner, x = 20, y = 5!\n"
     ]
    }
   ],
   "source": [
    "def outer(x):\n",
    "    def inner(y):\n",
    "        print(f\"I'm in inner, x = {x}, y = {y}!\")\n",
    "    return inner\n",
    "\n",
    "f1 = outer(10)\n",
    "f2 = outer(20)\n",
    "\n",
    "f1(5)\n",
    "f2(5)\n"
   ]
  },
  {
   "cell_type": "code",
   "execution_count": 22,
   "metadata": {},
   "outputs": [
    {
     "data": {
      "text/plain": [
       "['__class__',\n",
       " '__delattr__',\n",
       " '__dir__',\n",
       " '__doc__',\n",
       " '__eq__',\n",
       " '__format__',\n",
       " '__ge__',\n",
       " '__getattribute__',\n",
       " '__gt__',\n",
       " '__hash__',\n",
       " '__init__',\n",
       " '__init_subclass__',\n",
       " '__le__',\n",
       " '__lt__',\n",
       " '__ne__',\n",
       " '__new__',\n",
       " '__reduce__',\n",
       " '__reduce_ex__',\n",
       " '__repr__',\n",
       " '__setattr__',\n",
       " '__sizeof__',\n",
       " '__str__',\n",
       " '__subclasshook__',\n",
       " 'co_argcount',\n",
       " 'co_cellvars',\n",
       " 'co_code',\n",
       " 'co_consts',\n",
       " 'co_filename',\n",
       " 'co_firstlineno',\n",
       " 'co_flags',\n",
       " 'co_freevars',\n",
       " 'co_kwonlyargcount',\n",
       " 'co_lnotab',\n",
       " 'co_name',\n",
       " 'co_names',\n",
       " 'co_nlocals',\n",
       " 'co_stacksize',\n",
       " 'co_varnames']"
      ]
     },
     "execution_count": 22,
     "metadata": {},
     "output_type": "execute_result"
    }
   ],
   "source": [
    "dir(f1.__code__)"
   ]
  },
  {
   "cell_type": "code",
   "execution_count": 23,
   "metadata": {},
   "outputs": [
    {
     "data": {
      "text/plain": [
       "('x',)"
      ]
     },
     "execution_count": 23,
     "metadata": {},
     "output_type": "execute_result"
    }
   ],
   "source": [
    "f1.__code__.co_freevars"
   ]
  },
  {
   "cell_type": "code",
   "execution_count": 24,
   "metadata": {},
   "outputs": [
    {
     "data": {
      "text/plain": [
       "()"
      ]
     },
     "execution_count": 24,
     "metadata": {},
     "output_type": "execute_result"
    }
   ],
   "source": [
    "f1.__code__.co_cellvars"
   ]
  },
  {
   "cell_type": "code",
   "execution_count": 28,
   "metadata": {},
   "outputs": [
    {
     "data": {
      "text/plain": [
       "10"
      ]
     },
     "execution_count": 28,
     "metadata": {},
     "output_type": "execute_result"
    }
   ],
   "source": [
    "f1.__closure__[0].cell_contents"
   ]
  },
  {
   "cell_type": "code",
   "execution_count": null,
   "metadata": {},
   "outputs": [],
   "source": []
  }
 ],
 "metadata": {
  "kernelspec": {
   "display_name": "Python 3",
   "language": "python",
   "name": "python3"
  },
  "language_info": {
   "codemirror_mode": {
    "name": "ipython",
    "version": 3
   },
   "file_extension": ".py",
   "mimetype": "text/x-python",
   "name": "python",
   "nbconvert_exporter": "python",
   "pygments_lexer": "ipython3",
   "version": "3.7.6"
  }
 },
 "nbformat": 4,
 "nbformat_minor": 2
}
